{
 "cells": [
  {
   "cell_type": "code",
   "execution_count": 44,
   "metadata": {},
   "outputs": [],
   "source": [
    "import pandas as pd\n",
    "import numpy as np"
   ]
  },
  {
   "cell_type": "code",
   "execution_count": 4,
   "metadata": {},
   "outputs": [],
   "source": [
    "consumer_train=pd.read_csv(r\"E:\\Jaison\\Cource Meterials\\Python\\ML\\Data\\Project_1\\Consumer_Complaints_train.csv\")\n",
    "consumer_test=pd.read_csv(r\"E:\\Jaison\\Cource Meterials\\Python\\ML\\Data\\Project_1\\Consumer_Complaints_test.csv\")"
   ]
  },
  {
   "cell_type": "code",
   "execution_count": 5,
   "metadata": {},
   "outputs": [
    {
     "data": {
      "text/plain": [
       "(478421, 18)"
      ]
     },
     "execution_count": 5,
     "metadata": {},
     "output_type": "execute_result"
    }
   ],
   "source": [
    "consumer_train.shape"
   ]
  },
  {
   "cell_type": "code",
   "execution_count": 6,
   "metadata": {},
   "outputs": [
    {
     "data": {
      "text/plain": [
       "(119606, 17)"
      ]
     },
     "execution_count": 6,
     "metadata": {},
     "output_type": "execute_result"
    }
   ],
   "source": [
    "consumer_test.shape"
   ]
  },
  {
   "cell_type": "code",
   "execution_count": 7,
   "metadata": {},
   "outputs": [
    {
     "name": "stdout",
     "output_type": "stream",
     "text": [
      "Date received                    0.000000\n",
      "Product                          0.000000\n",
      "Sub-product                     28.943755\n",
      "Issue                            0.000000\n",
      "Sub-issue                       61.164748\n",
      "Consumer complaint narrative    84.303783\n",
      "Company public response         81.106181\n",
      "Company                          0.000000\n",
      "State                            0.802431\n",
      "ZIP code                         0.804313\n",
      "Tags                            85.952540\n",
      "Consumer consent provided?      71.680382\n",
      "Submitted via                    0.000000\n",
      "Date sent to company             0.000000\n",
      "Company response to consumer     0.000000\n",
      "Timely response?                 0.000000\n",
      "Consumer disputed?               0.000000\n",
      "Complaint ID                     0.000000\n",
      "dtype: float64\n"
     ]
    }
   ],
   "source": [
    "percent_missing = consumer_train.isnull().sum() * 100 / len(consumer_train)\n",
    "print(percent_missing)"
   ]
  },
  {
   "cell_type": "code",
   "execution_count": 8,
   "metadata": {},
   "outputs": [
    {
     "name": "stdout",
     "output_type": "stream",
     "text": [
      "Date received                    0.000000\n",
      "Product                          0.000000\n",
      "Sub-product                     29.055399\n",
      "Issue                            0.000000\n",
      "Sub-issue                       61.083892\n",
      "Consumer complaint narrative    84.484892\n",
      "Company public response         80.957477\n",
      "Company                          0.000000\n",
      "State                            0.773373\n",
      "ZIP code                         0.774209\n",
      "Tags                            85.894520\n",
      "Consumer consent provided?      71.687039\n",
      "Submitted via                    0.000836\n",
      "Date sent to company             0.000000\n",
      "Company response to consumer     0.000000\n",
      "Timely response?                 0.000000\n",
      "Complaint ID                     0.000000\n",
      "dtype: float64\n"
     ]
    }
   ],
   "source": [
    "percent_missing = consumer_test.isnull().sum() * 100 / len(consumer_test)\n",
    "print(percent_missing)"
   ]
  },
  {
   "cell_type": "code",
   "execution_count": 9,
   "metadata": {},
   "outputs": [
    {
     "data": {
      "text/plain": [
       "12"
      ]
     },
     "execution_count": 9,
     "metadata": {},
     "output_type": "execute_result"
    }
   ],
   "source": [
    "consumer_train['Product'].value_counts().count()"
   ]
  },
  {
   "cell_type": "code",
   "execution_count": 10,
   "metadata": {},
   "outputs": [
    {
     "data": {
      "text/plain": [
       "Index(['Date received', 'Product', 'Sub-product', 'Issue', 'Sub-issue',\n",
       "       'Consumer complaint narrative', 'Company public response', 'Company',\n",
       "       'State', 'ZIP code', 'Tags', 'Consumer consent provided?',\n",
       "       'Submitted via', 'Date sent to company', 'Company response to consumer',\n",
       "       'Timely response?', 'Consumer disputed?', 'Complaint ID'],\n",
       "      dtype='object')"
      ]
     },
     "execution_count": 10,
     "metadata": {},
     "output_type": "execute_result"
    }
   ],
   "source": [
    "consumer_train.columns"
   ]
  },
  {
   "cell_type": "code",
   "execution_count": 11,
   "metadata": {},
   "outputs": [
    {
     "data": {
      "text/plain": [
       "Index(['Date received', 'Product', 'Sub-product', 'Issue', 'Sub-issue',\n",
       "       'Consumer complaint narrative', 'Company public response', 'Company',\n",
       "       'State', 'ZIP code', 'Tags', 'Consumer consent provided?',\n",
       "       'Submitted via', 'Date sent to company', 'Company response to consumer',\n",
       "       'Timely response?', 'Complaint ID'],\n",
       "      dtype='object')"
      ]
     },
     "execution_count": 11,
     "metadata": {},
     "output_type": "execute_result"
    }
   ],
   "source": [
    "consumer_test.columns"
   ]
  },
  {
   "cell_type": "code",
   "execution_count": 12,
   "metadata": {},
   "outputs": [
    {
     "data": {
      "text/html": [
       "<div>\n",
       "<style scoped>\n",
       "    .dataframe tbody tr th:only-of-type {\n",
       "        vertical-align: middle;\n",
       "    }\n",
       "\n",
       "    .dataframe tbody tr th {\n",
       "        vertical-align: top;\n",
       "    }\n",
       "\n",
       "    .dataframe thead th {\n",
       "        text-align: right;\n",
       "    }\n",
       "</style>\n",
       "<table border=\"1\" class=\"dataframe\">\n",
       "  <thead>\n",
       "    <tr style=\"text-align: right;\">\n",
       "      <th></th>\n",
       "      <th>Complaint ID</th>\n",
       "    </tr>\n",
       "  </thead>\n",
       "  <tbody>\n",
       "    <tr>\n",
       "      <th>Complaint ID</th>\n",
       "      <td>1.0</td>\n",
       "    </tr>\n",
       "  </tbody>\n",
       "</table>\n",
       "</div>"
      ],
      "text/plain": [
       "              Complaint ID\n",
       "Complaint ID           1.0"
      ]
     },
     "execution_count": 12,
     "metadata": {},
     "output_type": "execute_result"
    }
   ],
   "source": [
    "consumer_train.corr()"
   ]
  },
  {
   "cell_type": "code",
   "execution_count": 13,
   "metadata": {
    "scrolled": true
   },
   "outputs": [
    {
     "data": {
      "text/html": [
       "<div>\n",
       "<style scoped>\n",
       "    .dataframe tbody tr th:only-of-type {\n",
       "        vertical-align: middle;\n",
       "    }\n",
       "\n",
       "    .dataframe tbody tr th {\n",
       "        vertical-align: top;\n",
       "    }\n",
       "\n",
       "    .dataframe thead th {\n",
       "        text-align: right;\n",
       "    }\n",
       "</style>\n",
       "<table border=\"1\" class=\"dataframe\">\n",
       "  <thead>\n",
       "    <tr style=\"text-align: right;\">\n",
       "      <th></th>\n",
       "      <th>Date received</th>\n",
       "      <th>Product</th>\n",
       "      <th>Sub-product</th>\n",
       "      <th>Issue</th>\n",
       "      <th>Sub-issue</th>\n",
       "      <th>Consumer complaint narrative</th>\n",
       "      <th>Company public response</th>\n",
       "      <th>Company</th>\n",
       "      <th>State</th>\n",
       "      <th>ZIP code</th>\n",
       "      <th>Tags</th>\n",
       "      <th>Consumer consent provided?</th>\n",
       "      <th>Submitted via</th>\n",
       "      <th>Date sent to company</th>\n",
       "      <th>Company response to consumer</th>\n",
       "      <th>Timely response?</th>\n",
       "      <th>Consumer disputed?</th>\n",
       "      <th>Complaint ID</th>\n",
       "    </tr>\n",
       "  </thead>\n",
       "  <tbody>\n",
       "    <tr>\n",
       "      <th>0</th>\n",
       "      <td>2014-05-15</td>\n",
       "      <td>Credit card</td>\n",
       "      <td>NaN</td>\n",
       "      <td>Billing statement</td>\n",
       "      <td>NaN</td>\n",
       "      <td>NaN</td>\n",
       "      <td>NaN</td>\n",
       "      <td>Wells Fargo &amp; Company</td>\n",
       "      <td>MI</td>\n",
       "      <td>48342</td>\n",
       "      <td>Older American</td>\n",
       "      <td>NaN</td>\n",
       "      <td>Web</td>\n",
       "      <td>2014-05-16</td>\n",
       "      <td>Closed with explanation</td>\n",
       "      <td>Yes</td>\n",
       "      <td>No</td>\n",
       "      <td>856103</td>\n",
       "    </tr>\n",
       "    <tr>\n",
       "      <th>1</th>\n",
       "      <td>2014-09-18</td>\n",
       "      <td>Bank account or service</td>\n",
       "      <td>(CD) Certificate of deposit</td>\n",
       "      <td>Making/receiving payments, sending money</td>\n",
       "      <td>NaN</td>\n",
       "      <td>NaN</td>\n",
       "      <td>NaN</td>\n",
       "      <td>Santander Bank US</td>\n",
       "      <td>PA</td>\n",
       "      <td>18042</td>\n",
       "      <td>NaN</td>\n",
       "      <td>NaN</td>\n",
       "      <td>Referral</td>\n",
       "      <td>2014-09-24</td>\n",
       "      <td>Closed</td>\n",
       "      <td>Yes</td>\n",
       "      <td>No</td>\n",
       "      <td>1034666</td>\n",
       "    </tr>\n",
       "    <tr>\n",
       "      <th>2</th>\n",
       "      <td>2014-03-13</td>\n",
       "      <td>Credit reporting</td>\n",
       "      <td>NaN</td>\n",
       "      <td>Incorrect information on credit report</td>\n",
       "      <td>Account status</td>\n",
       "      <td>NaN</td>\n",
       "      <td>NaN</td>\n",
       "      <td>Equifax</td>\n",
       "      <td>CA</td>\n",
       "      <td>92427</td>\n",
       "      <td>NaN</td>\n",
       "      <td>NaN</td>\n",
       "      <td>Referral</td>\n",
       "      <td>2014-04-03</td>\n",
       "      <td>Closed with non-monetary relief</td>\n",
       "      <td>Yes</td>\n",
       "      <td>No</td>\n",
       "      <td>756363</td>\n",
       "    </tr>\n",
       "    <tr>\n",
       "      <th>3</th>\n",
       "      <td>2015-07-17</td>\n",
       "      <td>Credit card</td>\n",
       "      <td>NaN</td>\n",
       "      <td>Billing statement</td>\n",
       "      <td>NaN</td>\n",
       "      <td>My credit card statement from US Bank, XXXX. X...</td>\n",
       "      <td>Company chooses not to provide a public response</td>\n",
       "      <td>U.S. Bancorp</td>\n",
       "      <td>GA</td>\n",
       "      <td>305XX</td>\n",
       "      <td>Older American</td>\n",
       "      <td>Consent provided</td>\n",
       "      <td>Web</td>\n",
       "      <td>2015-07-17</td>\n",
       "      <td>Closed with monetary relief</td>\n",
       "      <td>Yes</td>\n",
       "      <td>No</td>\n",
       "      <td>1474177</td>\n",
       "    </tr>\n",
       "    <tr>\n",
       "      <th>4</th>\n",
       "      <td>2014-11-20</td>\n",
       "      <td>Credit card</td>\n",
       "      <td>NaN</td>\n",
       "      <td>Transaction issue</td>\n",
       "      <td>NaN</td>\n",
       "      <td>NaN</td>\n",
       "      <td>NaN</td>\n",
       "      <td>Bank of America</td>\n",
       "      <td>MA</td>\n",
       "      <td>02127</td>\n",
       "      <td>NaN</td>\n",
       "      <td>NaN</td>\n",
       "      <td>Web</td>\n",
       "      <td>2014-11-28</td>\n",
       "      <td>Closed with explanation</td>\n",
       "      <td>Yes</td>\n",
       "      <td>No</td>\n",
       "      <td>1132572</td>\n",
       "    </tr>\n",
       "  </tbody>\n",
       "</table>\n",
       "</div>"
      ],
      "text/plain": [
       "  Date received                  Product                  Sub-product  \\\n",
       "0    2014-05-15              Credit card                          NaN   \n",
       "1    2014-09-18  Bank account or service  (CD) Certificate of deposit   \n",
       "2    2014-03-13         Credit reporting                          NaN   \n",
       "3    2015-07-17              Credit card                          NaN   \n",
       "4    2014-11-20              Credit card                          NaN   \n",
       "\n",
       "                                      Issue       Sub-issue  \\\n",
       "0                         Billing statement             NaN   \n",
       "1  Making/receiving payments, sending money             NaN   \n",
       "2    Incorrect information on credit report  Account status   \n",
       "3                         Billing statement             NaN   \n",
       "4                         Transaction issue             NaN   \n",
       "\n",
       "                        Consumer complaint narrative  \\\n",
       "0                                                NaN   \n",
       "1                                                NaN   \n",
       "2                                                NaN   \n",
       "3  My credit card statement from US Bank, XXXX. X...   \n",
       "4                                                NaN   \n",
       "\n",
       "                            Company public response                Company  \\\n",
       "0                                               NaN  Wells Fargo & Company   \n",
       "1                                               NaN      Santander Bank US   \n",
       "2                                               NaN                Equifax   \n",
       "3  Company chooses not to provide a public response           U.S. Bancorp   \n",
       "4                                               NaN        Bank of America   \n",
       "\n",
       "  State ZIP code            Tags Consumer consent provided? Submitted via  \\\n",
       "0    MI    48342  Older American                        NaN           Web   \n",
       "1    PA    18042             NaN                        NaN      Referral   \n",
       "2    CA    92427             NaN                        NaN      Referral   \n",
       "3    GA    305XX  Older American           Consent provided           Web   \n",
       "4    MA    02127             NaN                        NaN           Web   \n",
       "\n",
       "  Date sent to company     Company response to consumer Timely response?  \\\n",
       "0           2014-05-16          Closed with explanation              Yes   \n",
       "1           2014-09-24                           Closed              Yes   \n",
       "2           2014-04-03  Closed with non-monetary relief              Yes   \n",
       "3           2015-07-17      Closed with monetary relief              Yes   \n",
       "4           2014-11-28          Closed with explanation              Yes   \n",
       "\n",
       "  Consumer disputed?  Complaint ID  \n",
       "0                 No        856103  \n",
       "1                 No       1034666  \n",
       "2                 No        756363  \n",
       "3                 No       1474177  \n",
       "4                 No       1132572  "
      ]
     },
     "execution_count": 13,
     "metadata": {},
     "output_type": "execute_result"
    }
   ],
   "source": [
    "consumer_train.head()"
   ]
  },
  {
   "cell_type": "code",
   "execution_count": 14,
   "metadata": {},
   "outputs": [],
   "source": [
    "for col in ['Issue','Sub-issue','Consumer complaint narrative','Company public response','Tags','Consumer consent provided?','Sub-product','ZIP code']:\n",
    "    consumer_train.drop([col],1,inplace=True)\n",
    "    consumer_test.drop([col],1,inplace=True)"
   ]
  },
  {
   "cell_type": "code",
   "execution_count": 15,
   "metadata": {},
   "outputs": [
    {
     "data": {
      "text/plain": [
       "Date received                   object\n",
       "Product                         object\n",
       "Company                         object\n",
       "State                           object\n",
       "Submitted via                   object\n",
       "Date sent to company            object\n",
       "Company response to consumer    object\n",
       "Timely response?                object\n",
       "Consumer disputed?              object\n",
       "Complaint ID                     int64\n",
       "dtype: object"
      ]
     },
     "execution_count": 15,
     "metadata": {},
     "output_type": "execute_result"
    }
   ],
   "source": [
    "consumer_train.dtypes"
   ]
  },
  {
   "cell_type": "code",
   "execution_count": 16,
   "metadata": {},
   "outputs": [],
   "source": [
    "for col in ['Date received','Date sent to company']:\n",
    "    consumer_train[col]=pd.to_datetime(consumer_train[col],infer_datetime_format=True)\n",
    "    consumer_test[col]=pd.to_datetime(consumer_test[col],infer_datetime_format=True)"
   ]
  },
  {
   "cell_type": "code",
   "execution_count": 17,
   "metadata": {},
   "outputs": [],
   "source": [
    "consumer_train['day_diff']=pd.to_numeric(consumer_train['Date sent to company']-consumer_train['Date received'])\n",
    "consumer_test['day_diff']=pd.to_numeric(consumer_test['Date sent to company']-consumer_test['Date received'])"
   ]
  },
  {
   "cell_type": "code",
   "execution_count": 18,
   "metadata": {},
   "outputs": [],
   "source": [
    "import datetime"
   ]
  },
  {
   "cell_type": "code",
   "execution_count": 19,
   "metadata": {},
   "outputs": [],
   "source": [
    "def extract_date(data):\n",
    "    date=data['Date received'].astype(str)\n",
    "    date_split=[]\n",
    "    for day in date:\n",
    "        date_split.append([day.split('-')[0],day.split('-')[1],day.split('-')[2]])\n",
    "        #date_split.append([day.split('-')[0],day.split('-')[1],'19'+day.split('-')[2] if int(day.split('-')[2])>=20 else '20'+day.split('-')[2]])\n",
    "    new_date=pd.DataFrame(date_split,columns=['Year_recived','MONTH_recived','Day_recived'])\n",
    "    return new_date"
   ]
  },
  {
   "cell_type": "code",
   "execution_count": 20,
   "metadata": {},
   "outputs": [],
   "source": [
    "consumer_train=pd.concat([consumer_train,extract_date(consumer_train)],axis=1)\n",
    "consumer_test=pd.concat([consumer_test,extract_date(consumer_test)],axis=1)"
   ]
  },
  {
   "cell_type": "code",
   "execution_count": 21,
   "metadata": {},
   "outputs": [],
   "source": [
    "def extract_date(data):\n",
    "    date=data['Date sent to company'].astype(str)\n",
    "    date_split=[]\n",
    "    for day in date:\n",
    "        date_split.append([day.split('-')[0],day.split('-')[1],day.split('-')[2]])\n",
    "        #date_split.append([day.split('-')[0],day.split('-')[1],'19'+day.split('-')[2] if int(day.split('-')[2])>=20 else '20'+day.split('-')[2]])\n",
    "    new_date=pd.DataFrame(date_split,columns=['Year_sent_to_company','MONTH_sent_to_company','Day_sent_to_company'])\n",
    "    return new_date"
   ]
  },
  {
   "cell_type": "code",
   "execution_count": 22,
   "metadata": {},
   "outputs": [],
   "source": [
    "consumer_train=pd.concat([consumer_train,extract_date(consumer_train)],axis=1)\n",
    "consumer_test=pd.concat([consumer_test,extract_date(consumer_test)],axis=1)"
   ]
  },
  {
   "cell_type": "code",
   "execution_count": 23,
   "metadata": {},
   "outputs": [],
   "source": [
    "for col in['Date received','Date sent to company']:\n",
    "    consumer_train.drop([col],1,inplace=True)\n",
    "    consumer_test.drop([col],1,inplace=True)"
   ]
  },
  {
   "cell_type": "code",
   "execution_count": 24,
   "metadata": {},
   "outputs": [
    {
     "name": "stdout",
     "output_type": "stream",
     "text": [
      "(478421, 15) (119606, 14)\n"
     ]
    }
   ],
   "source": [
    "print(consumer_train.shape,consumer_test.shape)"
   ]
  },
  {
   "cell_type": "code",
   "execution_count": 25,
   "metadata": {},
   "outputs": [],
   "source": [
    "for col in ['Year_recived','MONTH_recived','Day_recived','Year_sent_to_company','MONTH_sent_to_company','Day_sent_to_company']:\n",
    "    consumer_train[col]=consumer_train[col].astype(float)\n",
    "    consumer_test[col]=consumer_test[col].astype(float)"
   ]
  },
  {
   "cell_type": "code",
   "execution_count": 26,
   "metadata": {},
   "outputs": [],
   "source": [
    "def code_cyclic_features(data,columns,drop_cols=True):\n",
    "    for col in columns:\n",
    "        max_val=max(data[col])\n",
    "\n",
    "        data[col+'_sin']=np.sin(2*np.pi*data[col]/max_val)\n",
    "        data[col+'_cos']=np.cos(2*np.pi*data[col]/max_val)\n",
    "\n",
    "        if drop_cols:\n",
    "            del data[col]\n",
    "    return data "
   ]
  },
  {
   "cell_type": "code",
   "execution_count": 27,
   "metadata": {
    "scrolled": true
   },
   "outputs": [
    {
     "data": {
      "text/html": [
       "<div>\n",
       "<style scoped>\n",
       "    .dataframe tbody tr th:only-of-type {\n",
       "        vertical-align: middle;\n",
       "    }\n",
       "\n",
       "    .dataframe tbody tr th {\n",
       "        vertical-align: top;\n",
       "    }\n",
       "\n",
       "    .dataframe thead th {\n",
       "        text-align: right;\n",
       "    }\n",
       "</style>\n",
       "<table border=\"1\" class=\"dataframe\">\n",
       "  <thead>\n",
       "    <tr style=\"text-align: right;\">\n",
       "      <th></th>\n",
       "      <th>Product</th>\n",
       "      <th>Company</th>\n",
       "      <th>State</th>\n",
       "      <th>Submitted via</th>\n",
       "      <th>Company response to consumer</th>\n",
       "      <th>Timely response?</th>\n",
       "      <th>Complaint ID</th>\n",
       "      <th>day_diff</th>\n",
       "      <th>Year_sent_to_company</th>\n",
       "      <th>MONTH_sent_to_company</th>\n",
       "      <th>Day_sent_to_company</th>\n",
       "      <th>Year_recived_sin</th>\n",
       "      <th>Year_recived_cos</th>\n",
       "      <th>MONTH_recived_sin</th>\n",
       "      <th>MONTH_recived_cos</th>\n",
       "      <th>Day_recived_sin</th>\n",
       "      <th>Day_recived_cos</th>\n",
       "    </tr>\n",
       "  </thead>\n",
       "  <tbody>\n",
       "    <tr>\n",
       "      <th>0</th>\n",
       "      <td>Bank account or service</td>\n",
       "      <td>Bank of America</td>\n",
       "      <td>CA</td>\n",
       "      <td>Web</td>\n",
       "      <td>Closed with explanation</td>\n",
       "      <td>Yes</td>\n",
       "      <td>675956</td>\n",
       "      <td>-86400000000000</td>\n",
       "      <td>2014.0</td>\n",
       "      <td>1.0</td>\n",
       "      <td>17.0</td>\n",
       "      <td>-6.233278e-03</td>\n",
       "      <td>0.999981</td>\n",
       "      <td>5.000000e-01</td>\n",
       "      <td>8.660254e-01</td>\n",
       "      <td>-4.853020e-01</td>\n",
       "      <td>-0.874347</td>\n",
       "    </tr>\n",
       "    <tr>\n",
       "      <th>1</th>\n",
       "      <td>Debt collection</td>\n",
       "      <td>National Credit Adjusters, LLC</td>\n",
       "      <td>FL</td>\n",
       "      <td>Web</td>\n",
       "      <td>Closed with explanation</td>\n",
       "      <td>Yes</td>\n",
       "      <td>1858795</td>\n",
       "      <td>0</td>\n",
       "      <td>2016.0</td>\n",
       "      <td>3.0</td>\n",
       "      <td>31.0</td>\n",
       "      <td>-2.449294e-16</td>\n",
       "      <td>1.000000</td>\n",
       "      <td>1.000000e+00</td>\n",
       "      <td>6.123234e-17</td>\n",
       "      <td>-2.449294e-16</td>\n",
       "      <td>1.000000</td>\n",
       "    </tr>\n",
       "    <tr>\n",
       "      <th>2</th>\n",
       "      <td>Mortgage</td>\n",
       "      <td>Wells Fargo &amp; Company</td>\n",
       "      <td>CA</td>\n",
       "      <td>Web</td>\n",
       "      <td>Closed without relief</td>\n",
       "      <td>Yes</td>\n",
       "      <td>32637</td>\n",
       "      <td>86400000000000</td>\n",
       "      <td>2012.0</td>\n",
       "      <td>3.0</td>\n",
       "      <td>9.0</td>\n",
       "      <td>-1.246631e-02</td>\n",
       "      <td>0.999922</td>\n",
       "      <td>1.000000e+00</td>\n",
       "      <td>6.123234e-17</td>\n",
       "      <td>9.987165e-01</td>\n",
       "      <td>-0.050649</td>\n",
       "    </tr>\n",
       "    <tr>\n",
       "      <th>3</th>\n",
       "      <td>Credit reporting</td>\n",
       "      <td>TransUnion Intermediate Holdings, Inc.</td>\n",
       "      <td>FL</td>\n",
       "      <td>Postal mail</td>\n",
       "      <td>Closed with non-monetary relief</td>\n",
       "      <td>Yes</td>\n",
       "      <td>1731374</td>\n",
       "      <td>432000000000000</td>\n",
       "      <td>2016.0</td>\n",
       "      <td>1.0</td>\n",
       "      <td>12.0</td>\n",
       "      <td>-2.449294e-16</td>\n",
       "      <td>1.000000</td>\n",
       "      <td>5.000000e-01</td>\n",
       "      <td>8.660254e-01</td>\n",
       "      <td>9.884683e-01</td>\n",
       "      <td>0.151428</td>\n",
       "    </tr>\n",
       "    <tr>\n",
       "      <th>4</th>\n",
       "      <td>Mortgage</td>\n",
       "      <td>Bank of America</td>\n",
       "      <td>FL</td>\n",
       "      <td>Web</td>\n",
       "      <td>Closed with explanation</td>\n",
       "      <td>Yes</td>\n",
       "      <td>501487</td>\n",
       "      <td>0</td>\n",
       "      <td>2013.0</td>\n",
       "      <td>8.0</td>\n",
       "      <td>23.0</td>\n",
       "      <td>-9.349842e-03</td>\n",
       "      <td>0.999956</td>\n",
       "      <td>-8.660254e-01</td>\n",
       "      <td>-5.000000e-01</td>\n",
       "      <td>-9.987165e-01</td>\n",
       "      <td>-0.050649</td>\n",
       "    </tr>\n",
       "    <tr>\n",
       "      <th>...</th>\n",
       "      <td>...</td>\n",
       "      <td>...</td>\n",
       "      <td>...</td>\n",
       "      <td>...</td>\n",
       "      <td>...</td>\n",
       "      <td>...</td>\n",
       "      <td>...</td>\n",
       "      <td>...</td>\n",
       "      <td>...</td>\n",
       "      <td>...</td>\n",
       "      <td>...</td>\n",
       "      <td>...</td>\n",
       "      <td>...</td>\n",
       "      <td>...</td>\n",
       "      <td>...</td>\n",
       "      <td>...</td>\n",
       "      <td>...</td>\n",
       "    </tr>\n",
       "    <tr>\n",
       "      <th>119601</th>\n",
       "      <td>Credit card</td>\n",
       "      <td>JPMorgan Chase &amp; Co.</td>\n",
       "      <td>IL</td>\n",
       "      <td>Web</td>\n",
       "      <td>Closed with monetary relief</td>\n",
       "      <td>Yes</td>\n",
       "      <td>153482</td>\n",
       "      <td>518400000000000</td>\n",
       "      <td>2012.0</td>\n",
       "      <td>9.0</td>\n",
       "      <td>21.0</td>\n",
       "      <td>-1.246631e-02</td>\n",
       "      <td>0.999922</td>\n",
       "      <td>-1.000000e+00</td>\n",
       "      <td>-1.836970e-16</td>\n",
       "      <td>1.011683e-01</td>\n",
       "      <td>-0.994869</td>\n",
       "    </tr>\n",
       "    <tr>\n",
       "      <th>119602</th>\n",
       "      <td>Credit reporting</td>\n",
       "      <td>Experian</td>\n",
       "      <td>CA</td>\n",
       "      <td>Web</td>\n",
       "      <td>Closed with explanation</td>\n",
       "      <td>Yes</td>\n",
       "      <td>2023523</td>\n",
       "      <td>0</td>\n",
       "      <td>2016.0</td>\n",
       "      <td>7.0</td>\n",
       "      <td>21.0</td>\n",
       "      <td>-2.449294e-16</td>\n",
       "      <td>1.000000</td>\n",
       "      <td>-5.000000e-01</td>\n",
       "      <td>-8.660254e-01</td>\n",
       "      <td>-8.978045e-01</td>\n",
       "      <td>-0.440394</td>\n",
       "    </tr>\n",
       "    <tr>\n",
       "      <th>119603</th>\n",
       "      <td>Debt collection</td>\n",
       "      <td>FAIR COLLECTIONS &amp; OUTSOURCING, INC.</td>\n",
       "      <td>CA</td>\n",
       "      <td>Phone</td>\n",
       "      <td>Closed with explanation</td>\n",
       "      <td>Yes</td>\n",
       "      <td>1413678</td>\n",
       "      <td>259200000000000</td>\n",
       "      <td>2015.0</td>\n",
       "      <td>6.0</td>\n",
       "      <td>12.0</td>\n",
       "      <td>-3.116654e-03</td>\n",
       "      <td>0.999995</td>\n",
       "      <td>1.224647e-16</td>\n",
       "      <td>-1.000000e+00</td>\n",
       "      <td>9.680771e-01</td>\n",
       "      <td>-0.250653</td>\n",
       "    </tr>\n",
       "    <tr>\n",
       "      <th>119604</th>\n",
       "      <td>Debt collection</td>\n",
       "      <td>Encore Capital Group</td>\n",
       "      <td>PA</td>\n",
       "      <td>Phone</td>\n",
       "      <td>Closed with explanation</td>\n",
       "      <td>Yes</td>\n",
       "      <td>732458</td>\n",
       "      <td>86400000000000</td>\n",
       "      <td>2014.0</td>\n",
       "      <td>2.0</td>\n",
       "      <td>27.0</td>\n",
       "      <td>-6.233278e-03</td>\n",
       "      <td>0.999981</td>\n",
       "      <td>8.660254e-01</td>\n",
       "      <td>5.000000e-01</td>\n",
       "      <td>-8.486443e-01</td>\n",
       "      <td>0.528964</td>\n",
       "    </tr>\n",
       "    <tr>\n",
       "      <th>119605</th>\n",
       "      <td>Debt collection</td>\n",
       "      <td>AllianceOne Recievables Management</td>\n",
       "      <td>CA</td>\n",
       "      <td>Web</td>\n",
       "      <td>Closed with explanation</td>\n",
       "      <td>Yes</td>\n",
       "      <td>1235226</td>\n",
       "      <td>0</td>\n",
       "      <td>2015.0</td>\n",
       "      <td>2.0</td>\n",
       "      <td>11.0</td>\n",
       "      <td>-3.116654e-03</td>\n",
       "      <td>0.999995</td>\n",
       "      <td>8.660254e-01</td>\n",
       "      <td>5.000000e-01</td>\n",
       "      <td>7.907757e-01</td>\n",
       "      <td>-0.612106</td>\n",
       "    </tr>\n",
       "  </tbody>\n",
       "</table>\n",
       "<p>119606 rows × 17 columns</p>\n",
       "</div>"
      ],
      "text/plain": [
       "                        Product                                 Company State  \\\n",
       "0       Bank account or service                         Bank of America    CA   \n",
       "1               Debt collection          National Credit Adjusters, LLC    FL   \n",
       "2                      Mortgage                   Wells Fargo & Company    CA   \n",
       "3              Credit reporting  TransUnion Intermediate Holdings, Inc.    FL   \n",
       "4                      Mortgage                         Bank of America    FL   \n",
       "...                         ...                                     ...   ...   \n",
       "119601              Credit card                    JPMorgan Chase & Co.    IL   \n",
       "119602         Credit reporting                                Experian    CA   \n",
       "119603          Debt collection    FAIR COLLECTIONS & OUTSOURCING, INC.    CA   \n",
       "119604          Debt collection                    Encore Capital Group    PA   \n",
       "119605          Debt collection      AllianceOne Recievables Management    CA   \n",
       "\n",
       "       Submitted via     Company response to consumer Timely response?  \\\n",
       "0                Web          Closed with explanation              Yes   \n",
       "1                Web          Closed with explanation              Yes   \n",
       "2                Web            Closed without relief              Yes   \n",
       "3        Postal mail  Closed with non-monetary relief              Yes   \n",
       "4                Web          Closed with explanation              Yes   \n",
       "...              ...                              ...              ...   \n",
       "119601           Web      Closed with monetary relief              Yes   \n",
       "119602           Web          Closed with explanation              Yes   \n",
       "119603         Phone          Closed with explanation              Yes   \n",
       "119604         Phone          Closed with explanation              Yes   \n",
       "119605           Web          Closed with explanation              Yes   \n",
       "\n",
       "        Complaint ID         day_diff  Year_sent_to_company  \\\n",
       "0             675956  -86400000000000                2014.0   \n",
       "1            1858795                0                2016.0   \n",
       "2              32637   86400000000000                2012.0   \n",
       "3            1731374  432000000000000                2016.0   \n",
       "4             501487                0                2013.0   \n",
       "...              ...              ...                   ...   \n",
       "119601        153482  518400000000000                2012.0   \n",
       "119602       2023523                0                2016.0   \n",
       "119603       1413678  259200000000000                2015.0   \n",
       "119604        732458   86400000000000                2014.0   \n",
       "119605       1235226                0                2015.0   \n",
       "\n",
       "        MONTH_sent_to_company  Day_sent_to_company  Year_recived_sin  \\\n",
       "0                         1.0                 17.0     -6.233278e-03   \n",
       "1                         3.0                 31.0     -2.449294e-16   \n",
       "2                         3.0                  9.0     -1.246631e-02   \n",
       "3                         1.0                 12.0     -2.449294e-16   \n",
       "4                         8.0                 23.0     -9.349842e-03   \n",
       "...                       ...                  ...               ...   \n",
       "119601                    9.0                 21.0     -1.246631e-02   \n",
       "119602                    7.0                 21.0     -2.449294e-16   \n",
       "119603                    6.0                 12.0     -3.116654e-03   \n",
       "119604                    2.0                 27.0     -6.233278e-03   \n",
       "119605                    2.0                 11.0     -3.116654e-03   \n",
       "\n",
       "        Year_recived_cos  MONTH_recived_sin  MONTH_recived_cos  \\\n",
       "0               0.999981       5.000000e-01       8.660254e-01   \n",
       "1               1.000000       1.000000e+00       6.123234e-17   \n",
       "2               0.999922       1.000000e+00       6.123234e-17   \n",
       "3               1.000000       5.000000e-01       8.660254e-01   \n",
       "4               0.999956      -8.660254e-01      -5.000000e-01   \n",
       "...                  ...                ...                ...   \n",
       "119601          0.999922      -1.000000e+00      -1.836970e-16   \n",
       "119602          1.000000      -5.000000e-01      -8.660254e-01   \n",
       "119603          0.999995       1.224647e-16      -1.000000e+00   \n",
       "119604          0.999981       8.660254e-01       5.000000e-01   \n",
       "119605          0.999995       8.660254e-01       5.000000e-01   \n",
       "\n",
       "        Day_recived_sin  Day_recived_cos  \n",
       "0         -4.853020e-01        -0.874347  \n",
       "1         -2.449294e-16         1.000000  \n",
       "2          9.987165e-01        -0.050649  \n",
       "3          9.884683e-01         0.151428  \n",
       "4         -9.987165e-01        -0.050649  \n",
       "...                 ...              ...  \n",
       "119601     1.011683e-01        -0.994869  \n",
       "119602    -8.978045e-01        -0.440394  \n",
       "119603     9.680771e-01        -0.250653  \n",
       "119604    -8.486443e-01         0.528964  \n",
       "119605     7.907757e-01        -0.612106  \n",
       "\n",
       "[119606 rows x 17 columns]"
      ]
     },
     "execution_count": 27,
     "metadata": {},
     "output_type": "execute_result"
    }
   ],
   "source": [
    "code_cyclic_features(consumer_train,['Year_recived','MONTH_recived','Day_recived'])\n",
    "code_cyclic_features(consumer_test,['Year_recived','MONTH_recived','Day_recived'])"
   ]
  },
  {
   "cell_type": "code",
   "execution_count": 28,
   "metadata": {
    "scrolled": true
   },
   "outputs": [
    {
     "data": {
      "text/html": [
       "<div>\n",
       "<style scoped>\n",
       "    .dataframe tbody tr th:only-of-type {\n",
       "        vertical-align: middle;\n",
       "    }\n",
       "\n",
       "    .dataframe tbody tr th {\n",
       "        vertical-align: top;\n",
       "    }\n",
       "\n",
       "    .dataframe thead th {\n",
       "        text-align: right;\n",
       "    }\n",
       "</style>\n",
       "<table border=\"1\" class=\"dataframe\">\n",
       "  <thead>\n",
       "    <tr style=\"text-align: right;\">\n",
       "      <th></th>\n",
       "      <th>Product</th>\n",
       "      <th>Company</th>\n",
       "      <th>State</th>\n",
       "      <th>Submitted via</th>\n",
       "      <th>Company response to consumer</th>\n",
       "      <th>Timely response?</th>\n",
       "      <th>Complaint ID</th>\n",
       "      <th>day_diff</th>\n",
       "      <th>Year_recived_sin</th>\n",
       "      <th>Year_recived_cos</th>\n",
       "      <th>MONTH_recived_sin</th>\n",
       "      <th>MONTH_recived_cos</th>\n",
       "      <th>Day_recived_sin</th>\n",
       "      <th>Day_recived_cos</th>\n",
       "      <th>Year_sent_to_company_sin</th>\n",
       "      <th>Year_sent_to_company_cos</th>\n",
       "      <th>MONTH_sent_to_company_sin</th>\n",
       "      <th>MONTH_sent_to_company_cos</th>\n",
       "      <th>Day_sent_to_company_sin</th>\n",
       "      <th>Day_sent_to_company_cos</th>\n",
       "    </tr>\n",
       "  </thead>\n",
       "  <tbody>\n",
       "    <tr>\n",
       "      <th>0</th>\n",
       "      <td>Bank account or service</td>\n",
       "      <td>Bank of America</td>\n",
       "      <td>CA</td>\n",
       "      <td>Web</td>\n",
       "      <td>Closed with explanation</td>\n",
       "      <td>Yes</td>\n",
       "      <td>675956</td>\n",
       "      <td>-86400000000000</td>\n",
       "      <td>-6.233278e-03</td>\n",
       "      <td>0.999981</td>\n",
       "      <td>5.000000e-01</td>\n",
       "      <td>8.660254e-01</td>\n",
       "      <td>-4.853020e-01</td>\n",
       "      <td>-0.874347</td>\n",
       "      <td>-6.233278e-03</td>\n",
       "      <td>0.999981</td>\n",
       "      <td>5.000000e-01</td>\n",
       "      <td>8.660254e-01</td>\n",
       "      <td>-2.993631e-01</td>\n",
       "      <td>-0.954139</td>\n",
       "    </tr>\n",
       "    <tr>\n",
       "      <th>1</th>\n",
       "      <td>Debt collection</td>\n",
       "      <td>National Credit Adjusters, LLC</td>\n",
       "      <td>FL</td>\n",
       "      <td>Web</td>\n",
       "      <td>Closed with explanation</td>\n",
       "      <td>Yes</td>\n",
       "      <td>1858795</td>\n",
       "      <td>0</td>\n",
       "      <td>-2.449294e-16</td>\n",
       "      <td>1.000000</td>\n",
       "      <td>1.000000e+00</td>\n",
       "      <td>6.123234e-17</td>\n",
       "      <td>-2.449294e-16</td>\n",
       "      <td>1.000000</td>\n",
       "      <td>-2.449294e-16</td>\n",
       "      <td>1.000000</td>\n",
       "      <td>1.000000e+00</td>\n",
       "      <td>6.123234e-17</td>\n",
       "      <td>-2.449294e-16</td>\n",
       "      <td>1.000000</td>\n",
       "    </tr>\n",
       "    <tr>\n",
       "      <th>2</th>\n",
       "      <td>Mortgage</td>\n",
       "      <td>Wells Fargo &amp; Company</td>\n",
       "      <td>CA</td>\n",
       "      <td>Web</td>\n",
       "      <td>Closed without relief</td>\n",
       "      <td>Yes</td>\n",
       "      <td>32637</td>\n",
       "      <td>86400000000000</td>\n",
       "      <td>-1.246631e-02</td>\n",
       "      <td>0.999922</td>\n",
       "      <td>1.000000e+00</td>\n",
       "      <td>6.123234e-17</td>\n",
       "      <td>9.987165e-01</td>\n",
       "      <td>-0.050649</td>\n",
       "      <td>-1.246631e-02</td>\n",
       "      <td>0.999922</td>\n",
       "      <td>1.000000e+00</td>\n",
       "      <td>6.123234e-17</td>\n",
       "      <td>9.680771e-01</td>\n",
       "      <td>-0.250653</td>\n",
       "    </tr>\n",
       "    <tr>\n",
       "      <th>3</th>\n",
       "      <td>Credit reporting</td>\n",
       "      <td>TransUnion Intermediate Holdings, Inc.</td>\n",
       "      <td>FL</td>\n",
       "      <td>Postal mail</td>\n",
       "      <td>Closed with non-monetary relief</td>\n",
       "      <td>Yes</td>\n",
       "      <td>1731374</td>\n",
       "      <td>432000000000000</td>\n",
       "      <td>-2.449294e-16</td>\n",
       "      <td>1.000000</td>\n",
       "      <td>5.000000e-01</td>\n",
       "      <td>8.660254e-01</td>\n",
       "      <td>9.884683e-01</td>\n",
       "      <td>0.151428</td>\n",
       "      <td>-2.449294e-16</td>\n",
       "      <td>1.000000</td>\n",
       "      <td>5.000000e-01</td>\n",
       "      <td>8.660254e-01</td>\n",
       "      <td>6.513725e-01</td>\n",
       "      <td>-0.758758</td>\n",
       "    </tr>\n",
       "    <tr>\n",
       "      <th>4</th>\n",
       "      <td>Mortgage</td>\n",
       "      <td>Bank of America</td>\n",
       "      <td>FL</td>\n",
       "      <td>Web</td>\n",
       "      <td>Closed with explanation</td>\n",
       "      <td>Yes</td>\n",
       "      <td>501487</td>\n",
       "      <td>0</td>\n",
       "      <td>-9.349842e-03</td>\n",
       "      <td>0.999956</td>\n",
       "      <td>-8.660254e-01</td>\n",
       "      <td>-5.000000e-01</td>\n",
       "      <td>-9.987165e-01</td>\n",
       "      <td>-0.050649</td>\n",
       "      <td>-9.349842e-03</td>\n",
       "      <td>0.999956</td>\n",
       "      <td>-8.660254e-01</td>\n",
       "      <td>-5.000000e-01</td>\n",
       "      <td>-9.987165e-01</td>\n",
       "      <td>-0.050649</td>\n",
       "    </tr>\n",
       "    <tr>\n",
       "      <th>...</th>\n",
       "      <td>...</td>\n",
       "      <td>...</td>\n",
       "      <td>...</td>\n",
       "      <td>...</td>\n",
       "      <td>...</td>\n",
       "      <td>...</td>\n",
       "      <td>...</td>\n",
       "      <td>...</td>\n",
       "      <td>...</td>\n",
       "      <td>...</td>\n",
       "      <td>...</td>\n",
       "      <td>...</td>\n",
       "      <td>...</td>\n",
       "      <td>...</td>\n",
       "      <td>...</td>\n",
       "      <td>...</td>\n",
       "      <td>...</td>\n",
       "      <td>...</td>\n",
       "      <td>...</td>\n",
       "      <td>...</td>\n",
       "    </tr>\n",
       "    <tr>\n",
       "      <th>119601</th>\n",
       "      <td>Credit card</td>\n",
       "      <td>JPMorgan Chase &amp; Co.</td>\n",
       "      <td>IL</td>\n",
       "      <td>Web</td>\n",
       "      <td>Closed with monetary relief</td>\n",
       "      <td>Yes</td>\n",
       "      <td>153482</td>\n",
       "      <td>518400000000000</td>\n",
       "      <td>-1.246631e-02</td>\n",
       "      <td>0.999922</td>\n",
       "      <td>-1.000000e+00</td>\n",
       "      <td>-1.836970e-16</td>\n",
       "      <td>1.011683e-01</td>\n",
       "      <td>-0.994869</td>\n",
       "      <td>-1.246631e-02</td>\n",
       "      <td>0.999922</td>\n",
       "      <td>-1.000000e+00</td>\n",
       "      <td>-1.836970e-16</td>\n",
       "      <td>-8.978045e-01</td>\n",
       "      <td>-0.440394</td>\n",
       "    </tr>\n",
       "    <tr>\n",
       "      <th>119602</th>\n",
       "      <td>Credit reporting</td>\n",
       "      <td>Experian</td>\n",
       "      <td>CA</td>\n",
       "      <td>Web</td>\n",
       "      <td>Closed with explanation</td>\n",
       "      <td>Yes</td>\n",
       "      <td>2023523</td>\n",
       "      <td>0</td>\n",
       "      <td>-2.449294e-16</td>\n",
       "      <td>1.000000</td>\n",
       "      <td>-5.000000e-01</td>\n",
       "      <td>-8.660254e-01</td>\n",
       "      <td>-8.978045e-01</td>\n",
       "      <td>-0.440394</td>\n",
       "      <td>-2.449294e-16</td>\n",
       "      <td>1.000000</td>\n",
       "      <td>-5.000000e-01</td>\n",
       "      <td>-8.660254e-01</td>\n",
       "      <td>-8.978045e-01</td>\n",
       "      <td>-0.440394</td>\n",
       "    </tr>\n",
       "    <tr>\n",
       "      <th>119603</th>\n",
       "      <td>Debt collection</td>\n",
       "      <td>FAIR COLLECTIONS &amp; OUTSOURCING, INC.</td>\n",
       "      <td>CA</td>\n",
       "      <td>Phone</td>\n",
       "      <td>Closed with explanation</td>\n",
       "      <td>Yes</td>\n",
       "      <td>1413678</td>\n",
       "      <td>259200000000000</td>\n",
       "      <td>-3.116654e-03</td>\n",
       "      <td>0.999995</td>\n",
       "      <td>1.224647e-16</td>\n",
       "      <td>-1.000000e+00</td>\n",
       "      <td>9.680771e-01</td>\n",
       "      <td>-0.250653</td>\n",
       "      <td>-3.116654e-03</td>\n",
       "      <td>0.999995</td>\n",
       "      <td>1.224647e-16</td>\n",
       "      <td>-1.000000e+00</td>\n",
       "      <td>6.513725e-01</td>\n",
       "      <td>-0.758758</td>\n",
       "    </tr>\n",
       "    <tr>\n",
       "      <th>119604</th>\n",
       "      <td>Debt collection</td>\n",
       "      <td>Encore Capital Group</td>\n",
       "      <td>PA</td>\n",
       "      <td>Phone</td>\n",
       "      <td>Closed with explanation</td>\n",
       "      <td>Yes</td>\n",
       "      <td>732458</td>\n",
       "      <td>86400000000000</td>\n",
       "      <td>-6.233278e-03</td>\n",
       "      <td>0.999981</td>\n",
       "      <td>8.660254e-01</td>\n",
       "      <td>5.000000e-01</td>\n",
       "      <td>-8.486443e-01</td>\n",
       "      <td>0.528964</td>\n",
       "      <td>-6.233278e-03</td>\n",
       "      <td>0.999981</td>\n",
       "      <td>8.660254e-01</td>\n",
       "      <td>5.000000e-01</td>\n",
       "      <td>-7.247928e-01</td>\n",
       "      <td>0.688967</td>\n",
       "    </tr>\n",
       "    <tr>\n",
       "      <th>119605</th>\n",
       "      <td>Debt collection</td>\n",
       "      <td>AllianceOne Recievables Management</td>\n",
       "      <td>CA</td>\n",
       "      <td>Web</td>\n",
       "      <td>Closed with explanation</td>\n",
       "      <td>Yes</td>\n",
       "      <td>1235226</td>\n",
       "      <td>0</td>\n",
       "      <td>-3.116654e-03</td>\n",
       "      <td>0.999995</td>\n",
       "      <td>8.660254e-01</td>\n",
       "      <td>5.000000e-01</td>\n",
       "      <td>7.907757e-01</td>\n",
       "      <td>-0.612106</td>\n",
       "      <td>-3.116654e-03</td>\n",
       "      <td>0.999995</td>\n",
       "      <td>8.660254e-01</td>\n",
       "      <td>5.000000e-01</td>\n",
       "      <td>7.907757e-01</td>\n",
       "      <td>-0.612106</td>\n",
       "    </tr>\n",
       "  </tbody>\n",
       "</table>\n",
       "<p>119606 rows × 20 columns</p>\n",
       "</div>"
      ],
      "text/plain": [
       "                        Product                                 Company State  \\\n",
       "0       Bank account or service                         Bank of America    CA   \n",
       "1               Debt collection          National Credit Adjusters, LLC    FL   \n",
       "2                      Mortgage                   Wells Fargo & Company    CA   \n",
       "3              Credit reporting  TransUnion Intermediate Holdings, Inc.    FL   \n",
       "4                      Mortgage                         Bank of America    FL   \n",
       "...                         ...                                     ...   ...   \n",
       "119601              Credit card                    JPMorgan Chase & Co.    IL   \n",
       "119602         Credit reporting                                Experian    CA   \n",
       "119603          Debt collection    FAIR COLLECTIONS & OUTSOURCING, INC.    CA   \n",
       "119604          Debt collection                    Encore Capital Group    PA   \n",
       "119605          Debt collection      AllianceOne Recievables Management    CA   \n",
       "\n",
       "       Submitted via     Company response to consumer Timely response?  \\\n",
       "0                Web          Closed with explanation              Yes   \n",
       "1                Web          Closed with explanation              Yes   \n",
       "2                Web            Closed without relief              Yes   \n",
       "3        Postal mail  Closed with non-monetary relief              Yes   \n",
       "4                Web          Closed with explanation              Yes   \n",
       "...              ...                              ...              ...   \n",
       "119601           Web      Closed with monetary relief              Yes   \n",
       "119602           Web          Closed with explanation              Yes   \n",
       "119603         Phone          Closed with explanation              Yes   \n",
       "119604         Phone          Closed with explanation              Yes   \n",
       "119605           Web          Closed with explanation              Yes   \n",
       "\n",
       "        Complaint ID         day_diff  Year_recived_sin  Year_recived_cos  \\\n",
       "0             675956  -86400000000000     -6.233278e-03          0.999981   \n",
       "1            1858795                0     -2.449294e-16          1.000000   \n",
       "2              32637   86400000000000     -1.246631e-02          0.999922   \n",
       "3            1731374  432000000000000     -2.449294e-16          1.000000   \n",
       "4             501487                0     -9.349842e-03          0.999956   \n",
       "...              ...              ...               ...               ...   \n",
       "119601        153482  518400000000000     -1.246631e-02          0.999922   \n",
       "119602       2023523                0     -2.449294e-16          1.000000   \n",
       "119603       1413678  259200000000000     -3.116654e-03          0.999995   \n",
       "119604        732458   86400000000000     -6.233278e-03          0.999981   \n",
       "119605       1235226                0     -3.116654e-03          0.999995   \n",
       "\n",
       "        MONTH_recived_sin  MONTH_recived_cos  Day_recived_sin  \\\n",
       "0            5.000000e-01       8.660254e-01    -4.853020e-01   \n",
       "1            1.000000e+00       6.123234e-17    -2.449294e-16   \n",
       "2            1.000000e+00       6.123234e-17     9.987165e-01   \n",
       "3            5.000000e-01       8.660254e-01     9.884683e-01   \n",
       "4           -8.660254e-01      -5.000000e-01    -9.987165e-01   \n",
       "...                   ...                ...              ...   \n",
       "119601      -1.000000e+00      -1.836970e-16     1.011683e-01   \n",
       "119602      -5.000000e-01      -8.660254e-01    -8.978045e-01   \n",
       "119603       1.224647e-16      -1.000000e+00     9.680771e-01   \n",
       "119604       8.660254e-01       5.000000e-01    -8.486443e-01   \n",
       "119605       8.660254e-01       5.000000e-01     7.907757e-01   \n",
       "\n",
       "        Day_recived_cos  Year_sent_to_company_sin  Year_sent_to_company_cos  \\\n",
       "0             -0.874347             -6.233278e-03                  0.999981   \n",
       "1              1.000000             -2.449294e-16                  1.000000   \n",
       "2             -0.050649             -1.246631e-02                  0.999922   \n",
       "3              0.151428             -2.449294e-16                  1.000000   \n",
       "4             -0.050649             -9.349842e-03                  0.999956   \n",
       "...                 ...                       ...                       ...   \n",
       "119601        -0.994869             -1.246631e-02                  0.999922   \n",
       "119602        -0.440394             -2.449294e-16                  1.000000   \n",
       "119603        -0.250653             -3.116654e-03                  0.999995   \n",
       "119604         0.528964             -6.233278e-03                  0.999981   \n",
       "119605        -0.612106             -3.116654e-03                  0.999995   \n",
       "\n",
       "        MONTH_sent_to_company_sin  MONTH_sent_to_company_cos  \\\n",
       "0                    5.000000e-01               8.660254e-01   \n",
       "1                    1.000000e+00               6.123234e-17   \n",
       "2                    1.000000e+00               6.123234e-17   \n",
       "3                    5.000000e-01               8.660254e-01   \n",
       "4                   -8.660254e-01              -5.000000e-01   \n",
       "...                           ...                        ...   \n",
       "119601              -1.000000e+00              -1.836970e-16   \n",
       "119602              -5.000000e-01              -8.660254e-01   \n",
       "119603               1.224647e-16              -1.000000e+00   \n",
       "119604               8.660254e-01               5.000000e-01   \n",
       "119605               8.660254e-01               5.000000e-01   \n",
       "\n",
       "        Day_sent_to_company_sin  Day_sent_to_company_cos  \n",
       "0                 -2.993631e-01                -0.954139  \n",
       "1                 -2.449294e-16                 1.000000  \n",
       "2                  9.680771e-01                -0.250653  \n",
       "3                  6.513725e-01                -0.758758  \n",
       "4                 -9.987165e-01                -0.050649  \n",
       "...                         ...                      ...  \n",
       "119601            -8.978045e-01                -0.440394  \n",
       "119602            -8.978045e-01                -0.440394  \n",
       "119603             6.513725e-01                -0.758758  \n",
       "119604            -7.247928e-01                 0.688967  \n",
       "119605             7.907757e-01                -0.612106  \n",
       "\n",
       "[119606 rows x 20 columns]"
      ]
     },
     "execution_count": 28,
     "metadata": {},
     "output_type": "execute_result"
    }
   ],
   "source": [
    "code_cyclic_features(consumer_train,['Year_sent_to_company','MONTH_sent_to_company','Day_sent_to_company'])\n",
    "code_cyclic_features(consumer_test,['Year_sent_to_company','MONTH_sent_to_company','Day_sent_to_company'])"
   ]
  },
  {
   "cell_type": "code",
   "execution_count": 29,
   "metadata": {},
   "outputs": [],
   "source": [
    "import seaborn as sns"
   ]
  },
  {
   "cell_type": "code",
   "execution_count": 30,
   "metadata": {},
   "outputs": [
    {
     "data": {
      "text/plain": [
       "[]"
      ]
     },
     "execution_count": 30,
     "metadata": {},
     "output_type": "execute_result"
    },
    {
     "data": {
      "image/png": "[encoded data removed]",
      "text/plain": [
       "<Figure size 432x288 with 1 Axes>"
      ]
     },
     "metadata": {
      "needs_background": "light"
     },
     "output_type": "display_data"
    }
   ],
   "source": [
    "sns.scatterplot(consumer_train['MONTH_recived_sin'],consumer_train['MONTH_recived_cos']).plot()"
   ]
  },
  {
   "cell_type": "code",
   "execution_count": 31,
   "metadata": {},
   "outputs": [
    {
     "data": {
      "text/plain": [
       "[]"
      ]
     },
     "execution_count": 31,
     "metadata": {},
     "output_type": "execute_result"
    },
    {
     "data": {
      "image/png": "[encoded data removed]",
      "text/plain": [
       "<Figure size 432x288 with 1 Axes>"
      ]
     },
     "metadata": {
      "needs_background": "light"
     },
     "output_type": "display_data"
    }
   ],
   "source": [
    "sns.scatterplot(consumer_test['MONTH_recived_sin'],consumer_test['MONTH_recived_cos']).plot()"
   ]
  },
  {
   "cell_type": "code",
   "execution_count": 32,
   "metadata": {},
   "outputs": [
    {
     "data": {
      "text/plain": [
       "Product                          object\n",
       "Company                          object\n",
       "State                            object\n",
       "Submitted via                    object\n",
       "Company response to consumer     object\n",
       "Timely response?                 object\n",
       "Consumer disputed?               object\n",
       "Complaint ID                      int64\n",
       "day_diff                          int64\n",
       "Year_recived_sin                float64\n",
       "Year_recived_cos                float64\n",
       "MONTH_recived_sin               float64\n",
       "MONTH_recived_cos               float64\n",
       "Day_recived_sin                 float64\n",
       "Day_recived_cos                 float64\n",
       "Year_sent_to_company_sin        float64\n",
       "Year_sent_to_company_cos        float64\n",
       "MONTH_sent_to_company_sin       float64\n",
       "MONTH_sent_to_company_cos       float64\n",
       "Day_sent_to_company_sin         float64\n",
       "Day_sent_to_company_cos         float64\n",
       "dtype: object"
      ]
     },
     "execution_count": 32,
     "metadata": {},
     "output_type": "execute_result"
    }
   ],
   "source": [
    "consumer_train.dtypes"
   ]
  },
  {
   "cell_type": "code",
   "execution_count": 33,
   "metadata": {},
   "outputs": [
    {
     "name": "stdout",
     "output_type": "stream",
     "text": [
      "Product : 12\n",
      "Company : 3276\n",
      "State : 62\n",
      "Submitted via : 6\n",
      "Company response to consumer : 7\n",
      "Timely response? : 2\n",
      "Consumer disputed? : 2\n"
     ]
    }
   ],
   "source": [
    "for col in consumer_train.select_dtypes(['object']).columns:\n",
    "    print(col,':',consumer_train[col].nunique())"
   ]
  },
  {
   "cell_type": "code",
   "execution_count": 34,
   "metadata": {},
   "outputs": [
    {
     "name": "stdout",
     "output_type": "stream",
     "text": [
      "Product : 12\n",
      "Company : 2237\n",
      "State : 62\n",
      "Submitted via : 6\n",
      "Company response to consumer : 7\n",
      "Timely response? : 2\n"
     ]
    }
   ],
   "source": [
    "for col in consumer_test.select_dtypes(['object']).columns:\n",
    "    print(col,':',consumer_test[col].nunique())"
   ]
  },
  {
   "cell_type": "code",
   "execution_count": 55,
   "metadata": {},
   "outputs": [
    {
     "data": {
      "text/plain": [
       "Closed with explanation            354310\n",
       "Closed with non-monetary relief     61491\n",
       "Closed with monetary relief         32925\n",
       "Closed without relief               14145\n",
       "Closed                              11365\n",
       "Closed with relief                   4184\n",
       "Untimely response                       1\n",
       "Name: Company response to consumer, dtype: int64"
      ]
     },
     "execution_count": 55,
     "metadata": {},
     "output_type": "execute_result"
    }
   ],
   "source": [
    "consumer_train['Company response to consumer'].value_counts()"
   ]
  },
  {
   "cell_type": "code",
   "execution_count": 35,
   "metadata": {},
   "outputs": [
    {
     "name": "stdout",
     "output_type": "stream",
     "text": [
      "Company : 3276\n",
      "State : 62\n"
     ]
    }
   ],
   "source": [
    "for col in consumer_train.columns:\n",
    "        if consumer_train[col].dtype==object:\n",
    "            if consumer_train[col].value_counts().count()>12:\n",
    "                print (col,':',consumer_train[col].value_counts().count())"
   ]
  },
  {
   "cell_type": "code",
   "execution_count": 36,
   "metadata": {},
   "outputs": [
    {
     "name": "stdout",
     "output_type": "stream",
     "text": [
      "Company : 2237\n",
      "State : 62\n"
     ]
    }
   ],
   "source": [
    "for col in consumer_test.columns:\n",
    "        if consumer_test[col].dtype==object:\n",
    "            if consumer_test[col].value_counts().count()>12:\n",
    "                print (col,':',consumer_test[col].value_counts().count())"
   ]
  },
  {
   "cell_type": "code",
   "execution_count": 37,
   "metadata": {
    "scrolled": true
   },
   "outputs": [
    {
     "name": "stderr",
     "output_type": "stream",
     "text": [
      "Using TensorFlow backend.\n",
      "E:\\ProgramData\\Anaconda3\\envs\\tensorflow\\lib\\site-packages\\tensorflow\\python\\framework\\dtypes.py:516: FutureWarning: Passing (type, 1) or '1type' as a synonym of type is deprecated; in a future version of numpy, it will be understood as (type, (1,)) / '(1,)type'.\n",
      "  _np_qint8 = np.dtype([(\"qint8\", np.int8, 1)])\n",
      "E:\\ProgramData\\Anaconda3\\envs\\tensorflow\\lib\\site-packages\\tensorflow\\python\\framework\\dtypes.py:517: FutureWarning: Passing (type, 1) or '1type' as a synonym of type is deprecated; in a future version of numpy, it will be understood as (type, (1,)) / '(1,)type'.\n",
      "  _np_quint8 = np.dtype([(\"quint8\", np.uint8, 1)])\n",
      "E:\\ProgramData\\Anaconda3\\envs\\tensorflow\\lib\\site-packages\\tensorflow\\python\\framework\\dtypes.py:518: FutureWarning: Passing (type, 1) or '1type' as a synonym of type is deprecated; in a future version of numpy, it will be understood as (type, (1,)) / '(1,)type'.\n",
      "  _np_qint16 = np.dtype([(\"qint16\", np.int16, 1)])\n",
      "E:\\ProgramData\\Anaconda3\\envs\\tensorflow\\lib\\site-packages\\tensorflow\\python\\framework\\dtypes.py:519: FutureWarning: Passing (type, 1) or '1type' as a synonym of type is deprecated; in a future version of numpy, it will be understood as (type, (1,)) / '(1,)type'.\n",
      "  _np_quint16 = np.dtype([(\"quint16\", np.uint16, 1)])\n",
      "E:\\ProgramData\\Anaconda3\\envs\\tensorflow\\lib\\site-packages\\tensorflow\\python\\framework\\dtypes.py:520: FutureWarning: Passing (type, 1) or '1type' as a synonym of type is deprecated; in a future version of numpy, it will be understood as (type, (1,)) / '(1,)type'.\n",
      "  _np_qint32 = np.dtype([(\"qint32\", np.int32, 1)])\n",
      "E:\\ProgramData\\Anaconda3\\envs\\tensorflow\\lib\\site-packages\\tensorflow\\python\\framework\\dtypes.py:525: FutureWarning: Passing (type, 1) or '1type' as a synonym of type is deprecated; in a future version of numpy, it will be understood as (type, (1,)) / '(1,)type'.\n",
      "  np_resource = np.dtype([(\"resource\", np.ubyte, 1)])\n",
      "E:\\ProgramData\\Anaconda3\\envs\\tensorflow\\lib\\site-packages\\tensorboard\\compat\\tensorflow_stub\\dtypes.py:541: FutureWarning: Passing (type, 1) or '1type' as a synonym of type is deprecated; in a future version of numpy, it will be understood as (type, (1,)) / '(1,)type'.\n",
      "  _np_qint8 = np.dtype([(\"qint8\", np.int8, 1)])\n",
      "E:\\ProgramData\\Anaconda3\\envs\\tensorflow\\lib\\site-packages\\tensorboard\\compat\\tensorflow_stub\\dtypes.py:542: FutureWarning: Passing (type, 1) or '1type' as a synonym of type is deprecated; in a future version of numpy, it will be understood as (type, (1,)) / '(1,)type'.\n",
      "  _np_quint8 = np.dtype([(\"quint8\", np.uint8, 1)])\n",
      "E:\\ProgramData\\Anaconda3\\envs\\tensorflow\\lib\\site-packages\\tensorboard\\compat\\tensorflow_stub\\dtypes.py:543: FutureWarning: Passing (type, 1) or '1type' as a synonym of type is deprecated; in a future version of numpy, it will be understood as (type, (1,)) / '(1,)type'.\n",
      "  _np_qint16 = np.dtype([(\"qint16\", np.int16, 1)])\n",
      "E:\\ProgramData\\Anaconda3\\envs\\tensorflow\\lib\\site-packages\\tensorboard\\compat\\tensorflow_stub\\dtypes.py:544: FutureWarning: Passing (type, 1) or '1type' as a synonym of type is deprecated; in a future version of numpy, it will be understood as (type, (1,)) / '(1,)type'.\n",
      "  _np_quint16 = np.dtype([(\"quint16\", np.uint16, 1)])\n",
      "E:\\ProgramData\\Anaconda3\\envs\\tensorflow\\lib\\site-packages\\tensorboard\\compat\\tensorflow_stub\\dtypes.py:545: FutureWarning: Passing (type, 1) or '1type' as a synonym of type is deprecated; in a future version of numpy, it will be understood as (type, (1,)) / '(1,)type'.\n",
      "  _np_qint32 = np.dtype([(\"qint32\", np.int32, 1)])\n",
      "E:\\ProgramData\\Anaconda3\\envs\\tensorflow\\lib\\site-packages\\tensorboard\\compat\\tensorflow_stub\\dtypes.py:550: FutureWarning: Passing (type, 1) or '1type' as a synonym of type is deprecated; in a future version of numpy, it will be understood as (type, (1,)) / '(1,)type'.\n",
      "  np_resource = np.dtype([(\"resource\", np.ubyte, 1)])\n"
     ]
    }
   ],
   "source": [
    "from keras.models import Model,Sequential\n",
    "from keras.layers import Dense,Input"
   ]
  },
  {
   "cell_type": "code",
   "execution_count": 40,
   "metadata": {
    "scrolled": true
   },
   "outputs": [
    {
     "name": "stdout",
     "output_type": "stream",
     "text": [
      "Epoch 1/150\n",
      "478421/478421 [==============================] - 96s 201us/step - loss: 1.8506 - accuracy: 0.6397\n",
      "Epoch 2/150\n",
      "478421/478421 [==============================] - 163s 341us/step - loss: 0.5701 - accuracy: 0.8791\n",
      "Epoch 3/150\n",
      "478421/478421 [==============================] - 203s 425us/step - loss: 0.4061 - accuracy: 0.9134\n",
      "Epoch 4/150\n",
      "478421/478421 [==============================] - 208s 436us/step - loss: 0.3443 - accuracy: 0.9250\n",
      "Epoch 5/150\n",
      "478421/478421 [==============================] - 212s 444us/step - loss: 0.3122 - accuracy: 0.9310\n",
      "Epoch 6/150\n",
      "478421/478421 [==============================] - 220s 460us/step - loss: 0.2928 - accuracy: 0.9343\n",
      "Epoch 7/150\n",
      "478421/478421 [==============================] - 219s 457us/step - loss: 0.2773 - accuracy: 0.9373\n",
      "Epoch 8/150\n",
      "478421/478421 [==============================] - 219s 457us/step - loss: 0.2668 - accuracy: 0.9396\n",
      "Epoch 9/150\n",
      "478421/478421 [==============================] - 222s 463us/step - loss: 0.2569 - accuracy: 0.9419\n",
      "Epoch 10/150\n",
      "478421/478421 [==============================] - 224s 467us/step - loss: 0.2499 - accuracy: 0.9432\n",
      "Epoch 11/150\n",
      "478421/478421 [==============================] - 225s 471us/step - loss: 0.2425 - accuracy: 0.9447\n",
      "Epoch 12/150\n",
      "478421/478421 [==============================] - 226s 472us/step - loss: 0.2371 - accuracy: 0.9459\n",
      "Epoch 13/150\n",
      "478421/478421 [==============================] - 225s 470us/step - loss: 0.2310 - accuracy: 0.9473\n",
      "Epoch 14/150\n",
      "478421/478421 [==============================] - 227s 474us/step - loss: 0.2274 - accuracy: 0.9481\n",
      "Epoch 15/150\n",
      "478421/478421 [==============================] - 231s 482us/step - loss: 0.2222 - accuracy: 0.9491\n",
      "Epoch 16/150\n",
      "478421/478421 [==============================] - 230s 480us/step - loss: 0.2172 - accuracy: 0.9503\n",
      "Epoch 17/150\n",
      "478421/478421 [==============================] - 227s 474us/step - loss: 0.2142 - accuracy: 0.9510\n",
      "Epoch 18/150\n",
      "478421/478421 [==============================] - 221s 463us/step - loss: 0.2111 - accuracy: 0.9517\n",
      "Epoch 19/150\n",
      "478421/478421 [==============================] - 222s 464us/step - loss: 0.2067 - accuracy: 0.9528\n",
      "Epoch 20/150\n",
      "478421/478421 [==============================] - 222s 464us/step - loss: 0.2047 - accuracy: 0.9532\n",
      "Epoch 21/150\n",
      "478421/478421 [==============================] - 226s 472us/step - loss: 0.2015 - accuracy: 0.9539\n",
      "Epoch 22/150\n",
      "478421/478421 [==============================] - 225s 470us/step - loss: 0.1976 - accuracy: 0.9547\n",
      "Epoch 23/150\n",
      "478421/478421 [==============================] - 226s 473us/step - loss: 0.1964 - accuracy: 0.9551\n",
      "Epoch 24/150\n",
      "478421/478421 [==============================] - 225s 470us/step - loss: 0.1932 - accuracy: 0.9560\n",
      "Epoch 25/150\n",
      "478421/478421 [==============================] - 224s 468us/step - loss: 0.1906 - accuracy: 0.9564\n",
      "Epoch 26/150\n",
      "478421/478421 [==============================] - 233s 486us/step - loss: 0.1890 - accuracy: 0.9568\n",
      "Epoch 27/150\n",
      "478421/478421 [==============================] - 234s 490us/step - loss: 0.1848 - accuracy: 0.9577\n",
      "Epoch 28/150\n",
      "478421/478421 [==============================] - 236s 493us/step - loss: 0.1848 - accuracy: 0.9579\n",
      "Epoch 29/150\n",
      "478421/478421 [==============================] - 234s 489us/step - loss: 0.1825 - accuracy: 0.9584\n",
      "Epoch 30/150\n",
      "478421/478421 [==============================] - 232s 486us/step - loss: 0.1797 - accuracy: 0.9589\n",
      "Epoch 31/150\n",
      "478421/478421 [==============================] - 233s 487us/step - loss: 0.1796 - accuracy: 0.9588\n",
      "Epoch 32/150\n",
      "478421/478421 [==============================] - 232s 484us/step - loss: 0.1772 - accuracy: 0.9591\n",
      "Epoch 33/150\n",
      "478421/478421 [==============================] - 233s 487us/step - loss: 0.1744 - accuracy: 0.9600\n",
      "Epoch 34/150\n",
      "478421/478421 [==============================] - 249s 521us/step - loss: 0.1744 - accuracy: 0.9598\n",
      "Epoch 35/150\n",
      "478421/478421 [==============================] - 239s 499us/step - loss: 0.1723 - accuracy: 0.9603\n",
      "Epoch 36/150\n",
      "478421/478421 [==============================] - 265s 554us/step - loss: 0.1716 - accuracy: 0.9606\n",
      "Epoch 37/150\n",
      "478421/478421 [==============================] - 258s 538us/step - loss: 0.1691 - accuracy: 0.9612\n",
      "Epoch 38/150\n",
      "478421/478421 [==============================] - 269s 563us/step - loss: 0.1678 - accuracy: 0.9615\n",
      "Epoch 39/150\n",
      "478421/478421 [==============================] - 274s 573us/step - loss: 0.1657 - accuracy: 0.9619\n",
      "Epoch 40/150\n",
      "478421/478421 [==============================] - 254s 531us/step - loss: 0.1654 - accuracy: 0.9621\n",
      "Epoch 41/150\n",
      "478421/478421 [==============================] - 260s 544us/step - loss: 0.1640 - accuracy: 0.9623\n",
      "Epoch 42/150\n",
      "478421/478421 [==============================] - 246s 514us/step - loss: 0.1615 - accuracy: 0.9631 - loss: 0.1615 - accuracy: 0.96\n",
      "Epoch 43/150\n",
      "478421/478421 [==============================] - 250s 522us/step - loss: 0.1609 - accuracy: 0.9630\n",
      "Epoch 44/150\n",
      "478421/478421 [==============================] - 252s 526us/step - loss: 0.1603 - accuracy: 0.9631\n",
      "Epoch 45/150\n",
      "478421/478421 [==============================] - 248s 518us/step - loss: 0.1580 - accuracy: 0.9637\n",
      "Epoch 46/150\n",
      "478421/478421 [==============================] - 253s 529us/step - loss: 0.1578 - accuracy: 0.9638\n",
      "Epoch 47/150\n",
      "478421/478421 [==============================] - 252s 526us/step - loss: 0.1559 - accuracy: 0.9640\n",
      "Epoch 48/150\n",
      "478421/478421 [==============================] - 256s 536us/step - loss: 0.1539 - accuracy: 0.9647\n",
      "Epoch 49/150\n",
      "478421/478421 [==============================] - 257s 538us/step - loss: 0.1552 - accuracy: 0.9642\n",
      "Epoch 50/150\n",
      "478421/478421 [==============================] - 258s 539us/step - loss: 0.1530 - accuracy: 0.9648 - loss: 0.1530 - accura\n",
      "Epoch 51/150\n",
      "478421/478421 [==============================] - 258s 539us/step - loss: 0.1511 - accuracy: 0.9652\n",
      "Epoch 52/150\n",
      "478421/478421 [==============================] - 267s 558us/step - loss: 0.1506 - accuracy: 0.9653\n",
      "Epoch 53/150\n",
      "478421/478421 [==============================] - 242s 507us/step - loss: 0.1502 - accuracy: 0.9654\n",
      "Epoch 54/150\n",
      "478421/478421 [==============================] - 225s 471us/step - loss: 0.1502 - accuracy: 0.9655\n",
      "Epoch 55/150\n",
      "478421/478421 [==============================] - 223s 466us/step - loss: 0.1477 - accuracy: 0.9661\n",
      "Epoch 56/150\n",
      "478421/478421 [==============================] - 224s 469us/step - loss: 0.1473 - accuracy: 0.9660\n",
      "Epoch 57/150\n",
      "478421/478421 [==============================] - 232s 485us/step - loss: 0.1451 - accuracy: 0.9666 - loss: 0.1451 - accuracy: 0.96\n",
      "Epoch 58/150\n",
      "478421/478421 [==============================] - 224s 469us/step - loss: 0.1454 - accuracy: 0.9666\n",
      "Epoch 59/150\n",
      "478421/478421 [==============================] - 869s 2ms/step - loss: 0.1445 - accuracy: 0.9667\n",
      "Epoch 60/150\n",
      "478421/478421 [==============================] - 213s 445us/step - loss: 0.1422 - accuracy: 0.9674\n",
      "Epoch 61/150\n",
      "478421/478421 [==============================] - 222s 464us/step - loss: 0.1425 - accuracy: 0.9673\n",
      "Epoch 62/150\n",
      "478421/478421 [==============================] - 25798s 54ms/step - loss: 0.1421 - accuracy: 0.9672\n",
      "Epoch 63/150\n",
      "478421/478421 [==============================] - 204s 426us/step - loss: 0.1408 - accuracy: 0.9676\n",
      "Epoch 64/150\n",
      "478421/478421 [==============================] - 202s 421us/step - loss: 0.1398 - accuracy: 0.9679\n",
      "Epoch 65/150\n",
      "478421/478421 [==============================] - 201s 420us/step - loss: 0.1394 - accuracy: 0.9681\n",
      "Epoch 66/150\n",
      "478421/478421 [==============================] - 202s 422us/step - loss: 0.1388 - accuracy: 0.9682\n",
      "Epoch 67/150\n",
      "478421/478421 [==============================] - 204s 427us/step - loss: 0.1394 - accuracy: 0.9681\n",
      "Epoch 68/150\n",
      "478421/478421 [==============================] - 201s 420us/step - loss: 0.1360 - accuracy: 0.9689\n",
      "Epoch 69/150\n",
      "478421/478421 [==============================] - 203s 425us/step - loss: 0.1360 - accuracy: 0.9689\n",
      "Epoch 70/150\n",
      "478421/478421 [==============================] - 202s 422us/step - loss: 0.1365 - accuracy: 0.9689 - loss: 0.1\n",
      "Epoch 71/150\n",
      "478421/478421 [==============================] - 202s 423us/step - loss: 0.1353 - accuracy: 0.9691\n",
      "Epoch 72/150\n",
      "478421/478421 [==============================] - 205s 428us/step - loss: 0.1332 - accuracy: 0.9699\n",
      "Epoch 73/150\n",
      "478421/478421 [==============================] - 192s 400us/step - loss: 0.1333 - accuracy: 0.9698\n",
      "Epoch 74/150\n",
      "478421/478421 [==============================] - 193s 403us/step - loss: 0.1334 - accuracy: 0.9696\n",
      "Epoch 75/150\n",
      "478421/478421 [==============================] - 194s 405us/step - loss: 0.1333 - accuracy: 0.9696\n",
      "Epoch 76/150\n",
      "478421/478421 [==============================] - 193s 403us/step - loss: 0.1322 - accuracy: 0.9697\n",
      "Epoch 77/150\n",
      "478421/478421 [==============================] - 192s 401us/step - loss: 0.1302 - accuracy: 0.9703\n",
      "Epoch 78/150\n",
      "478421/478421 [==============================] - 192s 401us/step - loss: 0.1302 - accuracy: 0.9704\n",
      "Epoch 79/150\n",
      "478421/478421 [==============================] - 192s 401us/step - loss: 0.1298 - accuracy: 0.9703\n",
      "Epoch 80/150\n",
      "478421/478421 [==============================] - 193s 402us/step - loss: 0.1288 - accuracy: 0.9706\n",
      "Epoch 81/150\n",
      "478421/478421 [==============================] - 193s 404us/step - loss: 0.1294 - accuracy: 0.9705\n",
      "Epoch 82/150\n",
      "478421/478421 [==============================] - 193s 403us/step - loss: 0.1279 - accuracy: 0.9709\n",
      "Epoch 83/150\n",
      "478421/478421 [==============================] - 191s 400us/step - loss: 0.1268 - accuracy: 0.9711\n",
      "Epoch 84/150\n",
      "478421/478421 [==============================] - 194s 405us/step - loss: 0.1273 - accuracy: 0.9711\n",
      "Epoch 85/150\n",
      "478421/478421 [==============================] - 194s 406us/step - loss: 0.1260 - accuracy: 0.9714\n",
      "Epoch 86/150\n",
      "478421/478421 [==============================] - 195s 407us/step - loss: 0.1255 - accuracy: 0.9715\n",
      "Epoch 87/150\n",
      "478421/478421 [==============================] - 195s 407us/step - loss: 0.1240 - accuracy: 0.9716\n",
      "Epoch 88/150\n",
      "478421/478421 [==============================] - 194s 406us/step - loss: 0.1257 - accuracy: 0.9714\n",
      "Epoch 89/150\n",
      "478421/478421 [==============================] - 194s 406us/step - loss: 0.1237 - accuracy: 0.9720\n",
      "Epoch 90/150\n",
      "478421/478421 [==============================] - 194s 405us/step - loss: 0.1232 - accuracy: 0.9721\n",
      "Epoch 91/150\n",
      "478421/478421 [==============================] - 194s 406us/step - loss: 0.1227 - accuracy: 0.9722\n",
      "Epoch 92/150\n",
      "478421/478421 [==============================] - 195s 408us/step - loss: 0.1220 - accuracy: 0.9722\n",
      "Epoch 93/150\n",
      "478421/478421 [==============================] - 195s 408us/step - loss: 0.1224 - accuracy: 0.9722\n",
      "Epoch 94/150\n",
      "478421/478421 [==============================] - 195s 407us/step - loss: 0.1205 - accuracy: 0.9725\n",
      "Epoch 95/150\n",
      "478421/478421 [==============================] - 195s 408us/step - loss: 0.1214 - accuracy: 0.9725\n",
      "Epoch 96/150\n",
      "478421/478421 [==============================] - 195s 407us/step - loss: 0.1207 - accuracy: 0.9726\n",
      "Epoch 97/150\n",
      "478421/478421 [==============================] - 198s 414us/step - loss: 0.1198 - accuracy: 0.9729\n",
      "Epoch 98/150\n",
      "478421/478421 [==============================] - 199s 415us/step - loss: 0.1204 - accuracy: 0.9729\n",
      "Epoch 99/150\n",
      "478421/478421 [==============================] - 202s 422us/step - loss: 0.1179 - accuracy: 0.9736\n",
      "Epoch 100/150\n",
      "478421/478421 [==============================] - 199s 417us/step - loss: 0.1186 - accuracy: 0.9731\n",
      "Epoch 101/150\n",
      "478421/478421 [==============================] - 199s 416us/step - loss: 0.1176 - accuracy: 0.9733\n",
      "Epoch 102/150\n",
      "478421/478421 [==============================] - 200s 418us/step - loss: 0.1177 - accuracy: 0.9735\n",
      "Epoch 103/150\n",
      "478421/478421 [==============================] - 244s 510us/step - loss: 0.1179 - accuracy: 0.9732\n",
      "Epoch 104/150\n",
      "478421/478421 [==============================] - 201s 420us/step - loss: 0.1165 - accuracy: 0.9737\n",
      "Epoch 105/150\n",
      "478421/478421 [==============================] - 242s 505us/step - loss: 0.1165 - accuracy: 0.9739\n",
      "Epoch 106/150\n",
      "478421/478421 [==============================] - 200s 419us/step - loss: 0.1161 - accuracy: 0.9737\n",
      "Epoch 107/150\n",
      "478421/478421 [==============================] - 200s 418us/step - loss: 0.1153 - accuracy: 0.9739\n",
      "Epoch 108/150\n",
      "478421/478421 [==============================] - 198s 415us/step - loss: 0.1150 - accuracy: 0.9740\n",
      "Epoch 109/150\n",
      "478421/478421 [==============================] - 201s 420us/step - loss: 0.1143 - accuracy: 0.9743\n",
      "Epoch 110/150\n",
      "478421/478421 [==============================] - 241s 504us/step - loss: 0.1143 - accuracy: 0.9742\n",
      "Epoch 111/150\n",
      "478421/478421 [==============================] - 200s 418us/step - loss: 0.1136 - accuracy: 0.9744\n",
      "Epoch 112/150\n",
      "478421/478421 [==============================] - 199s 416us/step - loss: 0.1141 - accuracy: 0.9742\n",
      "Epoch 113/150\n",
      "478421/478421 [==============================] - 236s 494us/step - loss: 0.1123 - accuracy: 0.9748\n",
      "Epoch 114/150\n",
      "478421/478421 [==============================] - 199s 416us/step - loss: 0.1121 - accuracy: 0.9749\n",
      "Epoch 115/150\n",
      "478421/478421 [==============================] - 201s 419us/step - loss: 0.1119 - accuracy: 0.9748\n",
      "Epoch 116/150\n",
      "478421/478421 [==============================] - 200s 418us/step - loss: 0.1112 - accuracy: 0.9751\n",
      "Epoch 117/150\n",
      "478421/478421 [==============================] - 201s 419us/step - loss: 0.1110 - accuracy: 0.9751\n",
      "Epoch 118/150\n",
      "478421/478421 [==============================] - 250s 522us/step - loss: 0.1122 - accuracy: 0.9748\n",
      "Epoch 119/150\n",
      "478421/478421 [==============================] - 203s 424us/step - loss: 0.1108 - accuracy: 0.9753\n",
      "Epoch 120/150\n",
      "478421/478421 [==============================] - 203s 424us/step - loss: 0.1104 - accuracy: 0.9752\n",
      "Epoch 121/150\n",
      "478421/478421 [==============================] - 199s 416us/step - loss: 0.1107 - accuracy: 0.9751\n",
      "Epoch 122/150\n",
      "478421/478421 [==============================] - 200s 419us/step - loss: 0.1094 - accuracy: 0.9755\n",
      "Epoch 123/150\n",
      "478421/478421 [==============================] - 199s 415us/step - loss: 0.1090 - accuracy: 0.9756\n",
      "Epoch 124/150\n",
      "478421/478421 [==============================] - 201s 420us/step - loss: 0.1094 - accuracy: 0.9755\n",
      "Epoch 125/150\n",
      "478421/478421 [==============================] - 199s 416us/step - loss: 0.1084 - accuracy: 0.9758\n",
      "Epoch 126/150\n",
      "478421/478421 [==============================] - 201s 420us/step - loss: 0.1084 - accuracy: 0.9758\n",
      "Epoch 127/150\n",
      "478421/478421 [==============================] - 202s 422us/step - loss: 0.1069 - accuracy: 0.9763\n",
      "Epoch 128/150\n",
      "478421/478421 [==============================] - 255s 533us/step - loss: 0.1080 - accuracy: 0.9760\n",
      "Epoch 129/150\n",
      "478421/478421 [==============================] - 213s 445us/step - loss: 0.1076 - accuracy: 0.9761\n",
      "Epoch 130/150\n",
      "478421/478421 [==============================] - 257s 536us/step - loss: 0.1062 - accuracy: 0.9765\n",
      "Epoch 131/150\n",
      "478421/478421 [==============================] - 203s 424us/step - loss: 0.1063 - accuracy: 0.9762\n",
      "Epoch 132/150\n",
      "478421/478421 [==============================] - 234s 488us/step - loss: 0.1069 - accuracy: 0.9763\n",
      "Epoch 133/150\n",
      "478421/478421 [==============================] - 214s 446us/step - loss: 0.1063 - accuracy: 0.9764\n",
      "Epoch 134/150\n",
      "478421/478421 [==============================] - 203s 423us/step - loss: 0.1054 - accuracy: 0.9764\n",
      "Epoch 135/150\n",
      "478421/478421 [==============================] - 226s 473us/step - loss: 0.1051 - accuracy: 0.9766\n",
      "Epoch 136/150\n",
      "478421/478421 [==============================] - 227s 474us/step - loss: 0.1042 - accuracy: 0.9770\n",
      "Epoch 137/150\n",
      "478421/478421 [==============================] - 239s 499us/step - loss: 0.1054 - accuracy: 0.9766\n",
      "Epoch 138/150\n",
      "478421/478421 [==============================] - 202s 423us/step - loss: 0.1044 - accuracy: 0.9769\n",
      "Epoch 139/150\n",
      "478421/478421 [==============================] - 201s 421us/step - loss: 0.1038 - accuracy: 0.9771\n",
      "Epoch 140/150\n",
      "478421/478421 [==============================] - 231s 484us/step - loss: 0.1040 - accuracy: 0.9770\n",
      "Epoch 141/150\n",
      "478421/478421 [==============================] - 221s 462us/step - loss: 0.1026 - accuracy: 0.9772\n",
      "Epoch 142/150\n",
      "478421/478421 [==============================] - 202s 422us/step - loss: 0.1027 - accuracy: 0.9773\n",
      "Epoch 143/150\n",
      "478421/478421 [==============================] - 202s 423us/step - loss: 0.1037 - accuracy: 0.9770\n",
      "Epoch 144/150\n",
      "478421/478421 [==============================] - 199s 417us/step - loss: 0.1022 - accuracy: 0.9774\n",
      "Epoch 145/150\n"
     ]
    },
    {
     "name": "stdout",
     "output_type": "stream",
     "text": [
      "478421/478421 [==============================] - 192s 402us/step - loss: 0.1022 - accuracy: 0.9776\n",
      "Epoch 146/150\n",
      "478421/478421 [==============================] - 193s 404us/step - loss: 0.1017 - accuracy: 0.9777\n",
      "Epoch 147/150\n",
      "478421/478421 [==============================] - 193s 404us/step - loss: 0.1015 - accuracy: 0.9773\n",
      "Epoch 148/150\n",
      "478421/478421 [==============================] - 197s 411us/step - loss: 0.1006 - accuracy: 0.9778\n",
      "Epoch 149/150\n",
      "478421/478421 [==============================] - 194s 405us/step - loss: 0.1013 - accuracy: 0.9776\n",
      "Epoch 150/150\n",
      "478421/478421 [==============================] - 196s 409us/step - loss: 0.1008 - accuracy: 0.9779\n",
      "======================Company- Finished ! ==================================\n",
      "Epoch 1/150\n",
      "478421/478421 [==============================] - 22s 45us/step - loss: 0.3388 - accuracy: 0.9130\n",
      "Epoch 2/150\n",
      "478421/478421 [==============================] - 19s 39us/step - loss: 0.0112 - accuracy: 0.9909\n",
      "Epoch 3/150\n",
      "478421/478421 [==============================] - 21s 44us/step - loss: 0.0809 - accuracy: 0.9785\n",
      "Epoch 4/150\n",
      "478421/478421 [==============================] - 19s 40us/step - loss: 0.3213 - accuracy: 0.9522\n",
      "Epoch 5/150\n",
      "478421/478421 [==============================] - 23s 49us/step - loss: 0.7893 - accuracy: 0.9219\n",
      "Epoch 6/150\n",
      "478421/478421 [==============================] - 20s 42us/step - loss: 1.3683 - accuracy: 0.8984\n",
      "Epoch 7/150\n",
      "478421/478421 [==============================] - 22s 47us/step - loss: 2.1706 - accuracy: 0.8815\n",
      "Epoch 8/150\n",
      "478421/478421 [==============================] - 22s 45us/step - loss: 3.1743 - accuracy: 0.8624\n",
      "Epoch 9/150\n",
      "478421/478421 [==============================] - 23s 48us/step - loss: 4.1407 - accuracy: 0.8560\n",
      "Epoch 10/150\n",
      "478421/478421 [==============================] - 24s 51us/step - loss: 5.4251 - accuracy: 0.8501\n",
      "Epoch 11/150\n",
      "478421/478421 [==============================] - 26s 54us/step - loss: 6.5052 - accuracy: 0.8517\n",
      "Epoch 12/150\n",
      "478421/478421 [==============================] - 26s 54us/step - loss: 8.2339 - accuracy: 0.8425\n",
      "Epoch 13/150\n",
      "478421/478421 [==============================] - 26s 53us/step - loss: 10.0078 - accuracy: 0.8387\n",
      "Epoch 14/150\n",
      "478421/478421 [==============================] - 23s 49us/step - loss: 11.4393 - accuracy: 0.8346\n",
      "Epoch 15/150\n",
      "478421/478421 [==============================] - 22s 45us/step - loss: 13.4469 - accuracy: 0.8354\n",
      "Epoch 16/150\n",
      "478421/478421 [==============================] - 24s 50us/step - loss: 15.2847 - accuracy: 0.8377\n",
      "Epoch 17/150\n",
      "478421/478421 [==============================] - 27s 55us/step - loss: 17.6246 - accuracy: 0.8345 1s - lo\n",
      "Epoch 18/150\n",
      "478421/478421 [==============================] - 26s 54us/step - loss: 19.4935 - accuracy: 0.8382 4s - loss: 19\n",
      "Epoch 19/150\n",
      "478421/478421 [==============================] - 27s 57us/step - loss: 22.9115 - accuracy: 0.8325\n",
      "Epoch 20/150\n",
      "478421/478421 [==============================] - 22s 46us/step - loss: 24.5746 - accuracy: 0.8348\n",
      "Epoch 21/150\n",
      "478421/478421 [==============================] - 23s 49us/step - loss: 27.9049 - accuracy: 0.8325\n",
      "Epoch 22/150\n",
      "478421/478421 [==============================] - 26s 55us/step - loss: 30.5102 - accuracy: 0.8342\n",
      "Epoch 23/150\n",
      "478421/478421 [==============================] - 22s 45us/step - loss: 33.1246 - accuracy: 0.8346\n",
      "Epoch 24/150\n",
      "478421/478421 [==============================] - 22s 46us/step - loss: 37.2192 - accuracy: 0.8320\n",
      "Epoch 25/150\n",
      "478421/478421 [==============================] - 21s 44us/step - loss: 41.4407 - accuracy: 0.8291\n",
      "Epoch 26/150\n",
      "478421/478421 [==============================] - 22s 45us/step - loss: 42.8655 - accuracy: 0.8351\n",
      "Epoch 27/150\n",
      "478421/478421 [==============================] - 22s 47us/step - loss: 48.0578 - accuracy: 0.8304\n",
      "Epoch 28/150\n",
      "478421/478421 [==============================] - 21s 43us/step - loss: 51.8935 - accuracy: 0.8309\n",
      "Epoch 29/150\n",
      "478421/478421 [==============================] - 22s 45us/step - loss: 57.3991 - accuracy: 0.8258\n",
      "Epoch 30/150\n",
      "478421/478421 [==============================] - 26s 55us/step - loss: 60.5605 - accuracy: 0.8274\n",
      "Epoch 31/150\n",
      "478421/478421 [==============================] - 24s 49us/step - loss: 66.8994 - accuracy: 0.8234\n",
      "Epoch 32/150\n",
      "478421/478421 [==============================] - 23s 47us/step - loss: 71.2681 - accuracy: 0.8238\n",
      "Epoch 33/150\n",
      "478421/478421 [==============================] - 21s 43us/step - loss: 75.3894 - accuracy: 0.8231\n",
      "Epoch 34/150\n",
      "478421/478421 [==============================] - 20s 42us/step - loss: 80.9504 - accuracy: 0.8203\n",
      "Epoch 35/150\n",
      "478421/478421 [==============================] - 24s 50us/step - loss: 90.5647 - accuracy: 0.8209\n",
      "Epoch 36/150\n",
      "478421/478421 [==============================] - 20s 41us/step - loss: 92.8197 - accuracy: 0.8204\n",
      "Epoch 37/150\n",
      "478421/478421 [==============================] - 18s 38us/step - loss: 98.6680 - accuracy: 0.8195\n",
      "Epoch 38/150\n",
      "478421/478421 [==============================] - 20s 42us/step - loss: 104.8645 - accuracy: 0.8199\n",
      "Epoch 39/150\n",
      "478421/478421 [==============================] - 18s 38us/step - loss: 111.4027 - accuracy: 0.8207\n",
      "Epoch 40/150\n",
      "478421/478421 [==============================] - 17s 37us/step - loss: 118.3828 - accuracy: 0.8201\n",
      "Epoch 41/150\n",
      "478421/478421 [==============================] - 17s 36us/step - loss: 126.9551 - accuracy: 0.8166\n",
      "Epoch 42/150\n",
      "478421/478421 [==============================] - 23s 48us/step - loss: 133.0628 - accuracy: 0.8148\n",
      "Epoch 43/150\n",
      "478421/478421 [==============================] - 24s 49us/step - loss: 140.7339 - accuracy: 0.8154\n",
      "Epoch 44/150\n",
      "478421/478421 [==============================] - 21s 45us/step - loss: 150.3408 - accuracy: 0.8108\n",
      "Epoch 45/150\n",
      "478421/478421 [==============================] - 18s 38us/step - loss: 155.6034 - accuracy: 0.8147\n",
      "Epoch 46/150\n",
      "478421/478421 [==============================] - 23s 48us/step - loss: 169.9268 - accuracy: 0.8083\n",
      "Epoch 47/150\n",
      "478421/478421 [==============================] - 20s 41us/step - loss: 175.8786 - accuracy: 0.8097\n",
      "Epoch 48/150\n",
      "478421/478421 [==============================] - 22s 45us/step - loss: 182.6456 - accuracy: 0.8079\n",
      "Epoch 49/150\n",
      "478421/478421 [==============================] - 20s 41us/step - loss: 188.1245 - accuracy: 0.8103\n",
      "Epoch 50/150\n",
      "478421/478421 [==============================] - 18s 38us/step - loss: 195.2318 - accuracy: 0.8100\n",
      "Epoch 51/150\n",
      "478421/478421 [==============================] - 18s 37us/step - loss: 214.3303 - accuracy: 0.8050\n",
      "Epoch 52/150\n",
      "478421/478421 [==============================] - 17s 36us/step - loss: 221.3339 - accuracy: 0.8070\n",
      "Epoch 53/150\n",
      "478421/478421 [==============================] - 16s 33us/step - loss: 230.5995 - accuracy: 0.8040\n",
      "Epoch 54/150\n",
      "478421/478421 [==============================] - 23s 49us/step - loss: 242.5002 - accuracy: 0.8027\n",
      "Epoch 55/150\n",
      "478421/478421 [==============================] - 18s 38us/step - loss: 247.9266 - accuracy: 0.8034\n",
      "Epoch 56/150\n",
      "478421/478421 [==============================] - 17s 37us/step - loss: 271.0985 - accuracy: 0.7990\n",
      "Epoch 57/150\n",
      "478421/478421 [==============================] - 15s 32us/step - loss: 270.6225 - accuracy: 0.8058\n",
      "Epoch 58/150\n",
      "478421/478421 [==============================] - 15s 32us/step - loss: 288.3885 - accuracy: 0.8015\n",
      "Epoch 59/150\n",
      "478421/478421 [==============================] - 16s 34us/step - loss: 288.8853 - accuracy: 0.8049\n",
      "Epoch 60/150\n",
      "478421/478421 [==============================] - 15s 31us/step - loss: 319.7613 - accuracy: 0.7968\n",
      "Epoch 61/150\n",
      "478421/478421 [==============================] - 14s 28us/step - loss: 327.6604 - accuracy: 0.7989\n",
      "Epoch 62/150\n",
      "478421/478421 [==============================] - 18s 37us/step - loss: 330.0908 - accuracy: 0.8018\n",
      "Epoch 63/150\n",
      "478421/478421 [==============================] - 27s 57us/step - loss: 343.2982 - accuracy: 0.7987\n",
      "Epoch 64/150\n",
      "478421/478421 [==============================] - 21s 44us/step - loss: 360.4737 - accuracy: 0.7974\n",
      "Epoch 65/150\n",
      "478421/478421 [==============================] - 16s 33us/step - loss: 373.3737 - accuracy: 0.7954\n",
      "Epoch 66/150\n",
      "478421/478421 [==============================] - 25s 53us/step - loss: 383.3872 - accuracy: 0.7969\n",
      "Epoch 67/150\n",
      "478421/478421 [==============================] - 25s 53us/step - loss: 397.1364 - accuracy: 0.7970\n",
      "Epoch 68/150\n",
      "478421/478421 [==============================] - 26s 54us/step - loss: 412.3055 - accuracy: 0.7986\n",
      "Epoch 69/150\n",
      "478421/478421 [==============================] - 26s 55us/step - loss: 423.4910 - accuracy: 0.7964\n",
      "Epoch 70/150\n",
      "478421/478421 [==============================] - 22s 46us/step - loss: 441.3822 - accuracy: 0.7965\n",
      "Epoch 71/150\n",
      "478421/478421 [==============================] - 28s 58us/step - loss: 465.0641 - accuracy: 0.7930\n",
      "Epoch 72/150\n",
      "478421/478421 [==============================] - 25s 53us/step - loss: 480.6089 - accuracy: 0.7932\n",
      "Epoch 73/150\n",
      "478421/478421 [==============================] - 28s 59us/step - loss: 478.9382 - accuracy: 0.7957\n",
      "Epoch 74/150\n",
      "478421/478421 [==============================] - 26s 54us/step - loss: 503.6135 - accuracy: 0.7930\n",
      "Epoch 75/150\n",
      "478421/478421 [==============================] - 26s 55us/step - loss: 527.3566 - accuracy: 0.7914\n",
      "Epoch 76/150\n",
      "478421/478421 [==============================] - 29s 60us/step - loss: 539.2717 - accuracy: 0.7930\n",
      "Epoch 77/150\n",
      "478421/478421 [==============================] - 26s 55us/step - loss: 541.2339 - accuracy: 0.7946\n",
      "Epoch 78/150\n",
      "478421/478421 [==============================] - 27s 56us/step - loss: 579.9730 - accuracy: 0.7907\n",
      "Epoch 79/150\n",
      "478421/478421 [==============================] - 20s 42us/step - loss: 560.9100 - accuracy: 0.7939\n",
      "Epoch 80/150\n",
      "478421/478421 [==============================] - 25s 51us/step - loss: 603.3624 - accuracy: 0.7928\n",
      "Epoch 81/150\n",
      "478421/478421 [==============================] - 24s 50us/step - loss: 630.3935 - accuracy: 0.7893\n",
      "Epoch 82/150\n",
      "478421/478421 [==============================] - 22s 46us/step - loss: 633.3995 - accuracy: 0.7906\n",
      "Epoch 83/150\n",
      "478421/478421 [==============================] - 22s 45us/step - loss: 658.9363 - accuracy: 0.7910\n",
      "Epoch 84/150\n",
      "478421/478421 [==============================] - 22s 46us/step - loss: 676.8094 - accuracy: 0.7892\n",
      "Epoch 85/150\n",
      "478421/478421 [==============================] - 22s 46us/step - loss: 704.2034 - accuracy: 0.7868\n",
      "Epoch 86/150\n",
      "478421/478421 [==============================] - 24s 50us/step - loss: 702.0239 - accuracy: 0.7902\n",
      "Epoch 87/150\n",
      "478421/478421 [==============================] - 21s 45us/step - loss: 714.8411 - accuracy: 0.7908\n",
      "Epoch 88/150\n",
      "478421/478421 [==============================] - 21s 45us/step - loss: 742.4075 - accuracy: 0.7890\n",
      "Epoch 89/150\n",
      "478421/478421 [==============================] - 22s 46us/step - loss: 779.3726 - accuracy: 0.7872\n",
      "Epoch 90/150\n",
      "478421/478421 [==============================] - 20s 42us/step - loss: 810.4789 - accuracy: 0.7830\n",
      "Epoch 91/150\n",
      "478421/478421 [==============================] - 28s 58us/step - loss: 802.1879 - accuracy: 0.7884\n",
      "Epoch 92/150\n",
      "478421/478421 [==============================] - 22s 45us/step - loss: 838.2316 - accuracy: 0.7867\n",
      "Epoch 93/150\n",
      "478421/478421 [==============================] - 22s 45us/step - loss: 860.1092 - accuracy: 0.7835\n",
      "Epoch 94/150\n",
      "478421/478421 [==============================] - 22s 46us/step - loss: 848.7745 - accuracy: 0.7866\n",
      "Epoch 95/150\n",
      "478421/478421 [==============================] - 20s 42us/step - loss: 890.8212 - accuracy: 0.7860\n",
      "Epoch 96/150\n",
      "478421/478421 [==============================] - 20s 42us/step - loss: 904.8852 - accuracy: 0.7862\n",
      "Epoch 97/150\n",
      "478421/478421 [==============================] - 22s 46us/step - loss: 921.6756 - accuracy: 0.7882\n",
      "Epoch 98/150\n",
      "478421/478421 [==============================] - 19s 39us/step - loss: 987.5232 - accuracy: 0.7807\n",
      "Epoch 99/150\n",
      "478421/478421 [==============================] - 25s 51us/step - loss: 973.3381 - accuracy: 0.7842\n",
      "Epoch 100/150\n",
      "478421/478421 [==============================] - 20s 42us/step - loss: 988.7140 - accuracy: 0.7848\n",
      "Epoch 101/150\n",
      "478421/478421 [==============================] - 19s 39us/step - loss: 1006.8547 - accuracy: 0.7885\n",
      "Epoch 102/150\n",
      "478421/478421 [==============================] - 24s 49us/step - loss: 1064.0277 - accuracy: 0.7814\n",
      "Epoch 103/150\n",
      "478421/478421 [==============================] - 20s 41us/step - loss: 1075.7181 - accuracy: 0.7843\n",
      "Epoch 104/150\n",
      "478421/478421 [==============================] - 21s 43us/step - loss: 1106.8331 - accuracy: 0.7857\n",
      "Epoch 105/150\n",
      "478421/478421 [==============================] - 20s 42us/step - loss: 1119.6572 - accuracy: 0.7821\n",
      "Epoch 106/150\n",
      "478421/478421 [==============================] - 17s 35us/step - loss: 1136.5904 - accuracy: 0.7862\n",
      "Epoch 107/150\n",
      "478421/478421 [==============================] - 18s 38us/step - loss: 1176.3411 - accuracy: 0.7843\n",
      "Epoch 108/150\n",
      "478421/478421 [==============================] - 27s 55us/step - loss: 1157.4264 - accuracy: 0.7858\n",
      "Epoch 109/150\n",
      "478421/478421 [==============================] - 19s 40us/step - loss: 1199.6944 - accuracy: 0.7837\n",
      "Epoch 110/150\n",
      "478421/478421 [==============================] - 17s 35us/step - loss: 1261.0505 - accuracy: 0.7817\n",
      "Epoch 111/150\n",
      "478421/478421 [==============================] - 18s 37us/step - loss: 1271.3743 - accuracy: 0.7808\n",
      "Epoch 112/150\n",
      "478421/478421 [==============================] - 18s 37us/step - loss: 1272.6008 - accuracy: 0.7853\n",
      "Epoch 113/150\n",
      "478421/478421 [==============================] - 22s 45us/step - loss: 1336.0630 - accuracy: 0.7810 2s - loss: 1324.4340 - - ETA: 1s - \n",
      "Epoch 114/150\n",
      "478421/478421 [==============================] - 26s 54us/step - loss: 1310.8748 - accuracy: 0.7862\n",
      "Epoch 115/150\n",
      "478421/478421 [==============================] - 21s 44us/step - loss: 1356.4246 - accuracy: 0.7823\n",
      "Epoch 116/150\n",
      "478421/478421 [==============================] - 19s 40us/step - loss: 1375.6701 - accuracy: 0.7800\n",
      "Epoch 117/150\n",
      "478421/478421 [==============================] - 18s 38us/step - loss: 1452.5529 - accuracy: 0.7828\n",
      "Epoch 118/150\n",
      "478421/478421 [==============================] - 17s 35us/step - loss: 1474.3898 - accuracy: 0.7803\n",
      "Epoch 119/150\n",
      "478421/478421 [==============================] - 26s 55us/step - loss: 1468.7567 - accuracy: 0.7823\n",
      "Epoch 120/150\n",
      "478421/478421 [==============================] - 17s 36us/step - loss: 1487.7342 - accuracy: 0.7836\n",
      "Epoch 121/150\n",
      "478421/478421 [==============================] - 20s 42us/step - loss: 1569.5975 - accuracy: 0.7791\n",
      "Epoch 122/150\n",
      "478421/478421 [==============================] - 21s 44us/step - loss: 1548.5155 - accuracy: 0.7817\n",
      "Epoch 123/150\n",
      "478421/478421 [==============================] - 18s 37us/step - loss: 1592.3731 - accuracy: 0.7782\n",
      "Epoch 124/150\n",
      "478421/478421 [==============================] - 18s 37us/step - loss: 1577.4587 - accuracy: 0.7820\n",
      "Epoch 125/150\n",
      "478421/478421 [==============================] - 17s 36us/step - loss: 1637.5179 - accuracy: 0.7795\n",
      "Epoch 126/150\n",
      "478421/478421 [==============================] - 17s 35us/step - loss: 1676.0105 - accuracy: 0.7803\n",
      "Epoch 127/150\n",
      "478421/478421 [==============================] - 24s 50us/step - loss: 1734.5828 - accuracy: 0.7774\n",
      "Epoch 128/150\n",
      "478421/478421 [==============================] - 18s 38us/step - loss: 1802.0726 - accuracy: 0.7731\n",
      "Epoch 129/150\n",
      "478421/478421 [==============================] - 17s 36us/step - loss: 1773.7260 - accuracy: 0.7786\n",
      "Epoch 130/150\n",
      "478421/478421 [==============================] - 17s 36us/step - loss: 1827.9133 - accuracy: 0.7786\n",
      "Epoch 131/150\n",
      "478421/478421 [==============================] - 17s 36us/step - loss: 1888.1483 - accuracy: 0.7759\n",
      "Epoch 132/150\n",
      "478421/478421 [==============================] - 20s 42us/step - loss: 1832.0123 - accuracy: 0.7804\n",
      "Epoch 133/150\n",
      "478421/478421 [==============================] - 19s 40us/step - loss: 1963.0651 - accuracy: 0.7759\n",
      "Epoch 134/150\n",
      "478421/478421 [==============================] - 17s 36us/step - loss: 1921.4589 - accuracy: 0.7795\n",
      "Epoch 135/150\n",
      "478421/478421 [==============================] - 17s 36us/step - loss: 1955.3659 - accuracy: 0.7761\n",
      "Epoch 136/150\n",
      "478421/478421 [==============================] - 17s 36us/step - loss: 2026.1949 - accuracy: 0.7761\n",
      "Epoch 137/150\n",
      "478421/478421 [==============================] - 16s 32us/step - loss: 2048.5448 - accuracy: 0.7756\n",
      "Epoch 138/150\n",
      "478421/478421 [==============================] - 21s 43us/step - loss: 2086.4626 - accuracy: 0.7752\n",
      "Epoch 139/150\n"
     ]
    },
    {
     "name": "stdout",
     "output_type": "stream",
     "text": [
      "478421/478421 [==============================] - 27s 57us/step - loss: 2086.4811 - accuracy: 0.7770\n",
      "Epoch 140/150\n",
      "478421/478421 [==============================] - 28s 59us/step - loss: 2075.7831 - accuracy: 0.7801\n",
      "Epoch 141/150\n",
      "478421/478421 [==============================] - 30s 63us/step - loss: 2166.2046 - accuracy: 0.7754\n",
      "Epoch 142/150\n",
      "478421/478421 [==============================] - 28s 58us/step - loss: 2237.9395 - accuracy: 0.7762\n",
      "Epoch 143/150\n",
      "478421/478421 [==============================] - 27s 55us/step - loss: 2258.0932 - accuracy: 0.7734\n",
      "Epoch 144/150\n",
      "478421/478421 [==============================] - 28s 59us/step - loss: 2279.2585 - accuracy: 0.7744\n",
      "Epoch 145/150\n",
      "478421/478421 [==============================] - 26s 55us/step - loss: 2304.1280 - accuracy: 0.7781\n",
      "Epoch 146/150\n",
      "478421/478421 [==============================] - 24s 50us/step - loss: 2365.9375 - accuracy: 0.7760\n",
      "Epoch 147/150\n",
      "478421/478421 [==============================] - 25s 52us/step - loss: 2401.1196 - accuracy: 0.7737\n",
      "Epoch 148/150\n",
      "478421/478421 [==============================] - 25s 53us/step - loss: 2415.5968 - accuracy: 0.7734\n",
      "Epoch 149/150\n",
      "478421/478421 [==============================] - 26s 54us/step - loss: 2479.9679 - accuracy: 0.7739\n",
      "Epoch 150/150\n",
      "478421/478421 [==============================] - 21s 45us/step - loss: 2432.1836 - accuracy: 0.7783\n",
      "======================State- Finished ! ==================================\n"
     ]
    },
    {
     "ename": "NameError",
     "evalue": "name 'pet_train' is not defined",
     "output_type": "error",
     "traceback": [
      "\u001b[1;31m---------------------------------------------------------------------------\u001b[0m",
      "\u001b[1;31mNameError\u001b[0m                                 Traceback (most recent call last)",
      "\u001b[1;32m<ipython-input-40-134d887dadb1>\u001b[0m in \u001b[0;36m<module>\u001b[1;34m\u001b[0m\n\u001b[0;32m     28\u001b[0m                 \u001b[0mprint\u001b[0m\u001b[1;33m(\u001b[0m\u001b[1;34m'======================'\u001b[0m\u001b[1;33m+\u001b[0m\u001b[0mcol\u001b[0m\u001b[1;33m+\u001b[0m\u001b[1;34m'- Finished ! =================================='\u001b[0m\u001b[1;33m)\u001b[0m\u001b[1;33m\u001b[0m\u001b[1;33m\u001b[0m\u001b[0m\n\u001b[0;32m     29\u001b[0m \u001b[1;33m\u001b[0m\u001b[0m\n\u001b[1;32m---> 30\u001b[1;33m \u001b[0mpet_train\u001b[0m\u001b[1;33m.\u001b[0m\u001b[0mshape\u001b[0m\u001b[1;33m\u001b[0m\u001b[1;33m\u001b[0m\u001b[0m\n\u001b[0m",
      "\u001b[1;31mNameError\u001b[0m: name 'pet_train' is not defined"
     ]
    }
   ],
   "source": [
    "for col in consumer_train.columns:\n",
    "        if consumer_train[col].dtype==object:\n",
    "            if consumer_train[col].value_counts().count()>12:\n",
    "                #print (col,':',hs_train[col].value_counts().count())\n",
    "\n",
    "                dummy_data=pd.get_dummies(consumer_train[col],prefix=col)\n",
    "                dummy_data.shape[1]\n",
    "\n",
    "                y=pd.get_dummies(consumer_train[col],prefix=col)\n",
    "\n",
    "                embedding_dim=3\n",
    "                inputs=Input(shape=(dummy_data.shape[1],))\n",
    "                dense1=Dense(50,activation='relu')(inputs)\n",
    "                embedded_output=Dense(embedding_dim)(dense1)\n",
    "                outputs=Dense(dummy_data.shape[1],activation='softmax')(embedded_output)\n",
    "                model=Model(inputs=inputs,outputs=outputs)\n",
    "\n",
    "                embedder=Model(inputs=inputs,outputs=embedded_output)\n",
    "\n",
    "                model.compile(optimizer='adam',loss='categorical_crossentropy',metrics=['accuracy'])\n",
    "                model.fit(dummy_data,y,epochs=150,batch_size=100)\n",
    "\n",
    "                low_dim=pd.DataFrame(embedder.predict(dummy_data),columns=[col+'1',col+'2',col+'3'])\n",
    "                #low_dim.head()\n",
    "\n",
    "                consumer_train=pd.concat([consumer_train,low_dim],axis=1)\n",
    "                consumer_train=consumer_train.drop([col],axis=1)\n",
    "                print('======================'+col+'- Finished ! ==================================')\n",
    "                \n",
    "pet_train.shape  "
   ]
  },
  {
   "cell_type": "code",
   "execution_count": 41,
   "metadata": {},
   "outputs": [
    {
     "data": {
      "text/html": [
       "<div>\n",
       "<style scoped>\n",
       "    .dataframe tbody tr th:only-of-type {\n",
       "        vertical-align: middle;\n",
       "    }\n",
       "\n",
       "    .dataframe tbody tr th {\n",
       "        vertical-align: top;\n",
       "    }\n",
       "\n",
       "    .dataframe thead th {\n",
       "        text-align: right;\n",
       "    }\n",
       "</style>\n",
       "<table border=\"1\" class=\"dataframe\">\n",
       "  <thead>\n",
       "    <tr style=\"text-align: right;\">\n",
       "      <th></th>\n",
       "      <th>Product</th>\n",
       "      <th>Submitted via</th>\n",
       "      <th>Company response to consumer</th>\n",
       "      <th>Timely response?</th>\n",
       "      <th>Consumer disputed?</th>\n",
       "      <th>Complaint ID</th>\n",
       "      <th>day_diff</th>\n",
       "      <th>Year_recived_sin</th>\n",
       "      <th>Year_recived_cos</th>\n",
       "      <th>MONTH_recived_sin</th>\n",
       "      <th>...</th>\n",
       "      <th>MONTH_sent_to_company_sin</th>\n",
       "      <th>MONTH_sent_to_company_cos</th>\n",
       "      <th>Day_sent_to_company_sin</th>\n",
       "      <th>Day_sent_to_company_cos</th>\n",
       "      <th>Company1</th>\n",
       "      <th>Company2</th>\n",
       "      <th>Company3</th>\n",
       "      <th>State1</th>\n",
       "      <th>State2</th>\n",
       "      <th>State3</th>\n",
       "    </tr>\n",
       "  </thead>\n",
       "  <tbody>\n",
       "    <tr>\n",
       "      <th>0</th>\n",
       "      <td>Credit card</td>\n",
       "      <td>Web</td>\n",
       "      <td>Closed with explanation</td>\n",
       "      <td>Yes</td>\n",
       "      <td>No</td>\n",
       "      <td>856103</td>\n",
       "      <td>86400000000000</td>\n",
       "      <td>-0.006233</td>\n",
       "      <td>0.999981</td>\n",
       "      <td>0.5</td>\n",
       "      <td>...</td>\n",
       "      <td>0.500000</td>\n",
       "      <td>-8.660254e-01</td>\n",
       "      <td>-0.101168</td>\n",
       "      <td>-0.994869</td>\n",
       "      <td>592.337463</td>\n",
       "      <td>-1033.426636</td>\n",
       "      <td>188.070160</td>\n",
       "      <td>7247378.5</td>\n",
       "      <td>7161603.0</td>\n",
       "      <td>7612285.0</td>\n",
       "    </tr>\n",
       "    <tr>\n",
       "      <th>1</th>\n",
       "      <td>Bank account or service</td>\n",
       "      <td>Referral</td>\n",
       "      <td>Closed</td>\n",
       "      <td>Yes</td>\n",
       "      <td>No</td>\n",
       "      <td>1034666</td>\n",
       "      <td>518400000000000</td>\n",
       "      <td>-0.006233</td>\n",
       "      <td>0.999981</td>\n",
       "      <td>-1.0</td>\n",
       "      <td>...</td>\n",
       "      <td>-1.000000</td>\n",
       "      <td>-1.836970e-16</td>\n",
       "      <td>-0.988468</td>\n",
       "      <td>0.151428</td>\n",
       "      <td>-469.150635</td>\n",
       "      <td>-260.320953</td>\n",
       "      <td>767.793335</td>\n",
       "      <td>7597372.5</td>\n",
       "      <td>7573183.5</td>\n",
       "      <td>7868616.5</td>\n",
       "    </tr>\n",
       "    <tr>\n",
       "      <th>2</th>\n",
       "      <td>Credit reporting</td>\n",
       "      <td>Referral</td>\n",
       "      <td>Closed with non-monetary relief</td>\n",
       "      <td>Yes</td>\n",
       "      <td>No</td>\n",
       "      <td>756363</td>\n",
       "      <td>1814400000000000</td>\n",
       "      <td>-0.006233</td>\n",
       "      <td>0.999981</td>\n",
       "      <td>1.0</td>\n",
       "      <td>...</td>\n",
       "      <td>0.866025</td>\n",
       "      <td>-5.000000e-01</td>\n",
       "      <td>0.571268</td>\n",
       "      <td>0.820763</td>\n",
       "      <td>993.661926</td>\n",
       "      <td>-502.410400</td>\n",
       "      <td>-131.305557</td>\n",
       "      <td>7766343.5</td>\n",
       "      <td>7846194.5</td>\n",
       "      <td>8141565.0</td>\n",
       "    </tr>\n",
       "    <tr>\n",
       "      <th>3</th>\n",
       "      <td>Credit card</td>\n",
       "      <td>Web</td>\n",
       "      <td>Closed with monetary relief</td>\n",
       "      <td>Yes</td>\n",
       "      <td>No</td>\n",
       "      <td>1474177</td>\n",
       "      <td>0</td>\n",
       "      <td>-0.003117</td>\n",
       "      <td>0.999995</td>\n",
       "      <td>-0.5</td>\n",
       "      <td>...</td>\n",
       "      <td>-0.500000</td>\n",
       "      <td>-8.660254e-01</td>\n",
       "      <td>-0.299363</td>\n",
       "      <td>-0.954139</td>\n",
       "      <td>-993.742615</td>\n",
       "      <td>430.566772</td>\n",
       "      <td>62.125282</td>\n",
       "      <td>7600993.5</td>\n",
       "      <td>7556128.0</td>\n",
       "      <td>7886592.0</td>\n",
       "    </tr>\n",
       "    <tr>\n",
       "      <th>4</th>\n",
       "      <td>Credit card</td>\n",
       "      <td>Web</td>\n",
       "      <td>Closed with explanation</td>\n",
       "      <td>Yes</td>\n",
       "      <td>No</td>\n",
       "      <td>1132572</td>\n",
       "      <td>691200000000000</td>\n",
       "      <td>-0.006233</td>\n",
       "      <td>0.999981</td>\n",
       "      <td>-0.5</td>\n",
       "      <td>...</td>\n",
       "      <td>-0.500000</td>\n",
       "      <td>8.660254e-01</td>\n",
       "      <td>-0.571268</td>\n",
       "      <td>0.820763</td>\n",
       "      <td>144.347183</td>\n",
       "      <td>-953.043457</td>\n",
       "      <td>995.006226</td>\n",
       "      <td>7257314.5</td>\n",
       "      <td>7219338.5</td>\n",
       "      <td>7428970.0</td>\n",
       "    </tr>\n",
       "  </tbody>\n",
       "</table>\n",
       "<p>5 rows × 25 columns</p>\n",
       "</div>"
      ],
      "text/plain": [
       "                   Product Submitted via     Company response to consumer  \\\n",
       "0              Credit card           Web          Closed with explanation   \n",
       "1  Bank account or service      Referral                           Closed   \n",
       "2         Credit reporting      Referral  Closed with non-monetary relief   \n",
       "3              Credit card           Web      Closed with monetary relief   \n",
       "4              Credit card           Web          Closed with explanation   \n",
       "\n",
       "  Timely response? Consumer disputed?  Complaint ID          day_diff  \\\n",
       "0              Yes                 No        856103    86400000000000   \n",
       "1              Yes                 No       1034666   518400000000000   \n",
       "2              Yes                 No        756363  1814400000000000   \n",
       "3              Yes                 No       1474177                 0   \n",
       "4              Yes                 No       1132572   691200000000000   \n",
       "\n",
       "   Year_recived_sin  Year_recived_cos  MONTH_recived_sin  ...  \\\n",
       "0         -0.006233          0.999981                0.5  ...   \n",
       "1         -0.006233          0.999981               -1.0  ...   \n",
       "2         -0.006233          0.999981                1.0  ...   \n",
       "3         -0.003117          0.999995               -0.5  ...   \n",
       "4         -0.006233          0.999981               -0.5  ...   \n",
       "\n",
       "   MONTH_sent_to_company_sin  MONTH_sent_to_company_cos  \\\n",
       "0                   0.500000              -8.660254e-01   \n",
       "1                  -1.000000              -1.836970e-16   \n",
       "2                   0.866025              -5.000000e-01   \n",
       "3                  -0.500000              -8.660254e-01   \n",
       "4                  -0.500000               8.660254e-01   \n",
       "\n",
       "   Day_sent_to_company_sin  Day_sent_to_company_cos    Company1     Company2  \\\n",
       "0                -0.101168                -0.994869  592.337463 -1033.426636   \n",
       "1                -0.988468                 0.151428 -469.150635  -260.320953   \n",
       "2                 0.571268                 0.820763  993.661926  -502.410400   \n",
       "3                -0.299363                -0.954139 -993.742615   430.566772   \n",
       "4                -0.571268                 0.820763  144.347183  -953.043457   \n",
       "\n",
       "     Company3     State1     State2     State3  \n",
       "0  188.070160  7247378.5  7161603.0  7612285.0  \n",
       "1  767.793335  7597372.5  7573183.5  7868616.5  \n",
       "2 -131.305557  7766343.5  7846194.5  8141565.0  \n",
       "3   62.125282  7600993.5  7556128.0  7886592.0  \n",
       "4  995.006226  7257314.5  7219338.5  7428970.0  \n",
       "\n",
       "[5 rows x 25 columns]"
      ]
     },
     "execution_count": 41,
     "metadata": {},
     "output_type": "execute_result"
    }
   ],
   "source": [
    "consumer_train.head()"
   ]
  },
  {
   "cell_type": "code",
   "execution_count": 43,
   "metadata": {},
   "outputs": [],
   "source": [
    "consumer_train.to_csv('consumer_train_CE.csv', index=False)"
   ]
  },
  {
   "cell_type": "code",
   "execution_count": 45,
   "metadata": {
    "scrolled": true
   },
   "outputs": [
    {
     "name": "stdout",
     "output_type": "stream",
     "text": [
      "Epoch 1/150\n",
      "119606/119606 [==============================] - 21s 172us/step - loss: 3.4994 - accuracy: 0.3363s - loss: 3.6767 -  - ETA: 1s -\n",
      "Epoch 2/150\n",
      "119606/119606 [==============================] - 14s 115us/step - loss: 1.4461 - accuracy: 0.7053\n",
      "Epoch 3/150\n",
      "119606/119606 [==============================] - 14s 114us/step - loss: 0.9894 - accuracy: 0.7902\n",
      "Epoch 4/150\n",
      "119606/119606 [==============================] - 16s 130us/step - loss: 0.7605 - accuracy: 0.8389\n",
      "Epoch 5/150\n",
      "119606/119606 [==============================] - 23s 189us/step - loss: 0.6292 - accuracy: 0.8653\n",
      "Epoch 6/150\n",
      "119606/119606 [==============================] - 26s 221us/step - loss: 0.5440 - accuracy: 0.8844\n",
      "Epoch 7/150\n",
      "119606/119606 [==============================] - 27s 225us/step - loss: 0.4835 - accuracy: 0.8963s - loss: 0.4836 - accuracy: 0.89\n",
      "Epoch 8/150\n",
      "119606/119606 [==============================] - 28s 237us/step - loss: 0.4422 - accuracy: 0.9043\n",
      "Epoch 9/150\n",
      "119606/119606 [==============================] - 29s 242us/step - loss: 0.4123 - accuracy: 0.9109\n",
      "Epoch 10/150\n",
      "119606/119606 [==============================] - 29s 246us/step - loss: 0.3897 - accuracy: 0.9152\n",
      "Epoch 11/150\n",
      "119606/119606 [==============================] - 30s 253us/step - loss: 0.3731 - accuracy: 0.9177s - loss: 0.3739 - accura - ETA: 0s\n",
      "Epoch 12/150\n",
      "119606/119606 [==============================] - 30s 252us/step - loss: 0.3597 - accuracy: 0.9203\n",
      "Epoch 13/150\n",
      "119606/119606 [==============================] - 30s 252us/step - loss: 0.3474 - accuracy: 0.9224\n",
      "Epoch 14/150\n",
      "119606/119606 [==============================] - 31s 256us/step - loss: 0.3377 - accuracy: 0.9243\n",
      "Epoch 15/150\n",
      "119606/119606 [==============================] - 31s 257us/step - loss: 0.3295 - accuracy: 0.9255\n",
      "Epoch 16/150\n",
      "119606/119606 [==============================] - 31s 259us/step - loss: 0.3211 - accuracy: 0.9276\n",
      "Epoch 17/150\n",
      "119606/119606 [==============================] - 31s 260us/step - loss: 0.3133 - accuracy: 0.9291\n",
      "Epoch 18/150\n",
      "119606/119606 [==============================] - 31s 262us/step - loss: 0.3071 - accuracy: 0.9299\n",
      "Epoch 19/150\n",
      "119606/119606 [==============================] - 32s 264us/step - loss: 0.3015 - accuracy: 0.9311\n",
      "Epoch 20/150\n",
      "119606/119606 [==============================] - 33s 274us/step - loss: 0.2951 - accuracy: 0.9322\n",
      "Epoch 21/150\n",
      "119606/119606 [==============================] - 32s 268us/step - loss: 0.2903 - accuracy: 0.9336\n",
      "Epoch 22/150\n",
      "119606/119606 [==============================] - 32s 269us/step - loss: 0.2876 - accuracy: 0.9336\n",
      "Epoch 23/150\n",
      "119606/119606 [==============================] - 32s 269us/step - loss: 0.2798 - accuracy: 0.9355\n",
      "Epoch 24/150\n",
      "119606/119606 [==============================] - 32s 272us/step - loss: 0.2773 - accuracy: 0.9357\n",
      "Epoch 25/150\n",
      "119606/119606 [==============================] - 32s 271us/step - loss: 0.2732 - accuracy: 0.9368\n",
      "Epoch 26/150\n",
      "119606/119606 [==============================] - 32s 272us/step - loss: 0.2690 - accuracy: 0.9371\n",
      "Epoch 27/150\n",
      "119606/119606 [==============================] - 32s 271us/step - loss: 0.2673 - accuracy: 0.9377\n",
      "Epoch 28/150\n",
      "119606/119606 [==============================] - 32s 272us/step - loss: 0.2632 - accuracy: 0.9387\n",
      "Epoch 29/150\n",
      "119606/119606 [==============================] - 33s 274us/step - loss: 0.2604 - accuracy: 0.9394\n",
      "Epoch 30/150\n",
      "119606/119606 [==============================] - 33s 274us/step - loss: 0.2567 - accuracy: 0.9397\n",
      "Epoch 31/150\n",
      "119606/119606 [==============================] - 33s 274us/step - loss: 0.2553 - accuracy: 0.9403\n",
      "Epoch 32/150\n",
      "119606/119606 [==============================] - 33s 276us/step - loss: 0.2499 - accuracy: 0.9411s - loss: 0.2499 - accuracy:  - ETA: 0s - l\n",
      "Epoch 33/150\n",
      "119606/119606 [==============================] - 33s 277us/step - loss: 0.2507 - accuracy: 0.9409\n",
      "Epoch 34/150\n",
      "119606/119606 [==============================] - 33s 278us/step - loss: 0.2465 - accuracy: 0.9413\n",
      "Epoch 35/150\n",
      "119606/119606 [==============================] - 33s 276us/step - loss: 0.2435 - accuracy: 0.9421\n",
      "Epoch 36/150\n",
      "119606/119606 [==============================] - 33s 277us/step - loss: 0.2436 - accuracy: 0.9417\n",
      "Epoch 37/150\n",
      "119606/119606 [==============================] - 33s 277us/step - loss: 0.2387 - accuracy: 0.9428\n",
      "Epoch 38/150\n",
      "119606/119606 [==============================] - 33s 277us/step - loss: 0.2402 - accuracy: 0.9430\n",
      "Epoch 39/150\n",
      "119606/119606 [==============================] - 33s 277us/step - loss: 0.2384 - accuracy: 0.9434\n",
      "Epoch 40/150\n",
      "119606/119606 [==============================] - 33s 276us/step - loss: 0.2345 - accuracy: 0.9438\n",
      "Epoch 41/150\n",
      "119606/119606 [==============================] - 33s 278us/step - loss: 0.2339 - accuracy: 0.9442\n",
      "Epoch 42/150\n",
      "119606/119606 [==============================] - 33s 277us/step - loss: 0.2308 - accuracy: 0.9449\n",
      "Epoch 43/150\n",
      "119606/119606 [==============================] - 34s 281us/step - loss: 0.2298 - accuracy: 0.9452\n",
      "Epoch 44/150\n",
      "119606/119606 [==============================] - 33s 277us/step - loss: 0.2248 - accuracy: 0.9461\n",
      "Epoch 45/150\n",
      "119606/119606 [==============================] - 34s 282us/step - loss: 0.2291 - accuracy: 0.9452\n",
      "Epoch 46/150\n",
      "119606/119606 [==============================] - 34s 280us/step - loss: 0.2227 - accuracy: 0.9470\n",
      "Epoch 47/150\n",
      "119606/119606 [==============================] - 33s 279us/step - loss: 0.2230 - accuracy: 0.9463\n",
      "Epoch 48/150\n",
      "119606/119606 [==============================] - 33s 279us/step - loss: 0.2262 - accuracy: 0.9459\n",
      "Epoch 49/150\n",
      "119606/119606 [==============================] - 33s 279us/step - loss: 0.2180 - accuracy: 0.9472\n",
      "Epoch 50/150\n",
      "119606/119606 [==============================] - 33s 279us/step - loss: 0.2194 - accuracy: 0.9466\n",
      "Epoch 51/150\n",
      "119606/119606 [==============================] - 47s 390us/step - loss: 0.2165 - accuracy: 0.9479\n",
      "Epoch 52/150\n",
      "119606/119606 [==============================] - 50s 420us/step - loss: 0.2163 - accuracy: 0.9476\n",
      "Epoch 53/150\n",
      "119606/119606 [==============================] - 40s 334us/step - loss: 0.2125 - accuracy: 0.9489\n",
      "Epoch 54/150\n",
      "119606/119606 [==============================] - 34s 282us/step - loss: 0.2181 - accuracy: 0.9473\n",
      "Epoch 55/150\n",
      "119606/119606 [==============================] - 34s 281us/step - loss: 0.2097 - accuracy: 0.9495\n",
      "Epoch 56/150\n",
      "119606/119606 [==============================] - 33s 280us/step - loss: 0.2116 - accuracy: 0.9484\n",
      "Epoch 57/150\n",
      "119606/119606 [==============================] - 34s 286us/step - loss: 0.2077 - accuracy: 0.9499\n",
      "Epoch 58/150\n",
      "119606/119606 [==============================] - 34s 284us/step - loss: 0.2068 - accuracy: 0.9499\n",
      "Epoch 59/150\n",
      "119606/119606 [==============================] - 33s 280us/step - loss: 0.2090 - accuracy: 0.9487\n",
      "Epoch 60/150\n",
      "119606/119606 [==============================] - 34s 285us/step - loss: 0.2096 - accuracy: 0.9493\n",
      "Epoch 61/150\n",
      "119606/119606 [==============================] - 34s 280us/step - loss: 0.2008 - accuracy: 0.9516\n",
      "Epoch 62/150\n",
      "119606/119606 [==============================] - 34s 283us/step - loss: 0.2053 - accuracy: 0.9500\n",
      "Epoch 63/150\n",
      "119606/119606 [==============================] - 34s 286us/step - loss: 0.2036 - accuracy: 0.9503\n",
      "Epoch 64/150\n",
      "119606/119606 [==============================] - 34s 285us/step - loss: 0.2049 - accuracy: 0.9501\n",
      "Epoch 65/150\n",
      "119606/119606 [==============================] - 34s 283us/step - loss: 0.1968 - accuracy: 0.9520\n",
      "Epoch 66/150\n",
      "119606/119606 [==============================] - 42s 355us/step - loss: 0.2009 - accuracy: 0.9513\n",
      "Epoch 67/150\n",
      "119606/119606 [==============================] - 53s 441us/step - loss: 0.2027 - accuracy: 0.9508\n",
      "Epoch 68/150\n",
      "119606/119606 [==============================] - 44s 366us/step - loss: 0.1988 - accuracy: 0.9519\n",
      "Epoch 69/150\n",
      "119606/119606 [==============================] - ETA: 0s - loss: 0.1955 - accuracy: 0.9521 ETA: 1s - los - ETA - 35s 289us/step - loss: 0.1955 - accuracy: 0.9521\n",
      "Epoch 70/150\n",
      "119606/119606 [==============================] - 34s 283us/step - loss: 0.2009 - accuracy: 0.9508\n",
      "Epoch 71/150\n",
      "119606/119606 [==============================] - 34s 282us/step - loss: 0.1943 - accuracy: 0.9528\n",
      "Epoch 72/150\n",
      "119606/119606 [==============================] - 34s 283us/step - loss: 0.1909 - accuracy: 0.9535\n",
      "Epoch 73/150\n"
     ]
    },
    {
     "name": "stdout",
     "output_type": "stream",
     "text": [
      "119606/119606 [==============================] - 32s 265us/step - loss: 0.1968 - accuracy: 0.9519\n",
      "Epoch 74/150\n",
      "119606/119606 [==============================] - 40s 335us/step - loss: 0.1901 - accuracy: 0.9535\n",
      "Epoch 75/150\n",
      "119606/119606 [==============================] - 48s 403us/step - loss: 0.1978 - accuracy: 0.9516\n",
      "Epoch 76/150\n",
      "119606/119606 [==============================] - 49s 411us/step - loss: 0.1935 - accuracy: 0.9526\n",
      "Epoch 77/150\n",
      "119606/119606 [==============================] - 38s 315us/step - loss: 0.1881 - accuracy: 0.9543\n",
      "Epoch 78/150\n",
      "119606/119606 [==============================] - 33s 272us/step - loss: 0.1925 - accuracy: 0.9529\n",
      "Epoch 79/150\n",
      "119606/119606 [==============================] - 32s 272us/step - loss: 0.1875 - accuracy: 0.9539\n",
      "Epoch 80/150\n",
      "119606/119606 [==============================] - 33s 274us/step - loss: 0.1914 - accuracy: 0.9534\n",
      "Epoch 81/150\n",
      "119606/119606 [==============================] - 33s 277us/step - loss: 0.1842 - accuracy: 0.9549\n",
      "Epoch 82/150\n",
      "119606/119606 [==============================] - 51s 427us/step - loss: 0.1864 - accuracy: 0.9547\n",
      "Epoch 83/150\n",
      "119606/119606 [==============================] - 52s 438us/step - loss: 0.1930 - accuracy: 0.9527\n",
      "Epoch 84/150\n",
      "119606/119606 [==============================] - 50s 415us/step - loss: 0.1801 - accuracy: 0.9557\n",
      "Epoch 85/150\n",
      "119606/119606 [==============================] - 32s 271us/step - loss: 0.1836 - accuracy: 0.9548\n",
      "Epoch 86/150\n",
      "119606/119606 [==============================] - 32s 269us/step - loss: 0.1818 - accuracy: 0.9553\n",
      "Epoch 87/150\n",
      "119606/119606 [==============================] - 32s 271us/step - loss: 0.1865 - accuracy: 0.9545\n",
      "Epoch 88/150\n",
      "119606/119606 [==============================] - 32s 271us/step - loss: 0.1830 - accuracy: 0.9553\n",
      "Epoch 89/150\n",
      "119606/119606 [==============================] - 33s 272us/step - loss: 0.1806 - accuracy: 0.9560\n",
      "Epoch 90/150\n",
      "119606/119606 [==============================] - 33s 273us/step - loss: 0.1819 - accuracy: 0.9552\n",
      "Epoch 91/150\n",
      "119606/119606 [==============================] - 32s 271us/step - loss: 0.1786 - accuracy: 0.9563\n",
      "Epoch 92/150\n",
      "119606/119606 [==============================] - 48s 404us/step - loss: 0.1808 - accuracy: 0.9557\n",
      "Epoch 93/150\n",
      "119606/119606 [==============================] - 50s 414us/step - loss: 0.1792 - accuracy: 0.9559\n",
      "Epoch 94/150\n",
      "119606/119606 [==============================] - 51s 424us/step - loss: 0.1800 - accuracy: 0.9556\n",
      "Epoch 95/150\n",
      "119606/119606 [==============================] - 49s 407us/step - loss: 0.1766 - accuracy: 0.9568\n",
      "Epoch 96/150\n",
      "119606/119606 [==============================] - 33s 277us/step - loss: 0.1781 - accuracy: 0.9561\n",
      "Epoch 97/150\n",
      "119606/119606 [==============================] - 33s 274us/step - loss: 0.1783 - accuracy: 0.9565\n",
      "Epoch 98/150\n",
      "119606/119606 [==============================] - 33s 276us/step - loss: 0.1748 - accuracy: 0.9570\n",
      "Epoch 99/150\n",
      "119606/119606 [==============================] - 33s 277us/step - loss: 0.1743 - accuracy: 0.9568\n",
      "Epoch 100/150\n",
      "119606/119606 [==============================] - 33s 279us/step - loss: 0.1772 - accuracy: 0.9567\n",
      "Epoch 101/150\n",
      "119606/119606 [==============================] - 33s 277us/step - loss: 0.1696 - accuracy: 0.9585\n",
      "Epoch 102/150\n",
      "119606/119606 [==============================] - 41s 341us/step - loss: 0.1786 - accuracy: 0.9562\n",
      "Epoch 103/150\n",
      "119606/119606 [==============================] - 51s 424us/step - loss: 0.1691 - accuracy: 0.9582\n",
      "Epoch 104/150\n",
      "119606/119606 [==============================] - 52s 438us/step - loss: 0.1720 - accuracy: 0.9576\n",
      "Epoch 105/150\n",
      "119606/119606 [==============================] - 42s 348us/step - loss: 0.1771 - accuracy: 0.9570\n",
      "Epoch 106/150\n",
      "119606/119606 [==============================] - 34s 282us/step - loss: 0.1755 - accuracy: 0.9572\n",
      "Epoch 107/150\n",
      "119606/119606 [==============================] - 33s 278us/step - loss: 0.1675 - accuracy: 0.9587\n",
      "Epoch 108/150\n",
      "119606/119606 [==============================] - 33s 279us/step - loss: 0.1763 - accuracy: 0.9564\n",
      "Epoch 109/150\n",
      "119606/119606 [==============================] - 34s 282us/step - loss: 0.1726 - accuracy: 0.9578\n",
      "Epoch 110/150\n",
      "119606/119606 [==============================] - 33s 279us/step - loss: 0.1678 - accuracy: 0.9586\n",
      "Epoch 111/150\n",
      "119606/119606 [==============================] - 34s 285us/step - loss: 0.1677 - accuracy: 0.9585\n",
      "Epoch 112/150\n",
      "119606/119606 [==============================] - 31s 262us/step - loss: 0.1705 - accuracy: 0.9581\n",
      "Epoch 113/150\n",
      "119606/119606 [==============================] - 35s 293us/step - loss: 0.1651 - accuracy: 0.9593\n",
      "Epoch 114/150\n",
      "119606/119606 [==============================] - 51s 430us/step - loss: 0.1675 - accuracy: 0.9586\n",
      "Epoch 115/150\n",
      "119606/119606 [==============================] - 51s 429us/step - loss: 0.1658 - accuracy: 0.9588\n",
      "Epoch 116/150\n",
      "119606/119606 [==============================] - 44s 372us/step - loss: 0.1663 - accuracy: 0.9594\n",
      "Epoch 117/150\n",
      "119606/119606 [==============================] - 33s 280us/step - loss: 0.1666 - accuracy: 0.9590\n",
      "Epoch 118/150\n",
      "119606/119606 [==============================] - 33s 279us/step - loss: 0.1650 - accuracy: 0.9595\n",
      "Epoch 119/150\n",
      "119606/119606 [==============================] - 33s 279us/step - loss: 0.1726 - accuracy: 0.9581\n",
      "Epoch 120/150\n",
      "119606/119606 [==============================] - 34s 282us/step - loss: 0.1616 - accuracy: 0.9605\n",
      "Epoch 121/150\n",
      "119606/119606 [==============================] - 44s 365us/step - loss: 0.1638 - accuracy: 0.9596\n",
      "Epoch 122/150\n",
      "119606/119606 [==============================] - 52s 431us/step - loss: 0.1647 - accuracy: 0.9592\n",
      "Epoch 123/150\n",
      "119606/119606 [==============================] - 53s 444us/step - loss: 0.1620 - accuracy: 0.9596\n",
      "Epoch 124/150\n",
      "119606/119606 [==============================] - 52s 432us/step - loss: 0.1641 - accuracy: 0.9593\n",
      "Epoch 125/150\n",
      "119606/119606 [==============================] - 52s 433us/step - loss: 0.1617 - accuracy: 0.9596\n",
      "Epoch 126/150\n",
      "119606/119606 [==============================] - 35s 291us/step - loss: 0.1618 - accuracy: 0.9602\n",
      "Epoch 127/150\n",
      "119606/119606 [==============================] - 34s 283us/step - loss: 0.1598 - accuracy: 0.9600\n",
      "Epoch 128/150\n",
      "119606/119606 [==============================] - 34s 282us/step - loss: 0.1609 - accuracy: 0.9601\n",
      "Epoch 129/150\n",
      "119606/119606 [==============================] - 50s 414us/step - loss: 0.1610 - accuracy: 0.9600\n",
      "Epoch 130/150\n",
      "119606/119606 [==============================] - 51s 430us/step - loss: 0.1613 - accuracy: 0.9600\n",
      "Epoch 131/150\n",
      "119606/119606 [==============================] - 52s 436us/step - loss: 0.1544 - accuracy: 0.9615\n",
      "Epoch 132/150\n",
      "119606/119606 [==============================] - 52s 433us/step - loss: 0.1617 - accuracy: 0.9595\n",
      "Epoch 133/150\n",
      "119606/119606 [==============================] - 53s 443us/step - loss: 0.1578 - accuracy: 0.9610\n",
      "Epoch 134/150\n",
      "119606/119606 [==============================] - 52s 434us/step - loss: 0.1572 - accuracy: 0.9607\n",
      "Epoch 135/150\n",
      "119606/119606 [==============================] - 52s 432us/step - loss: 0.1625 - accuracy: 0.9601\n",
      "Epoch 136/150\n",
      "119606/119606 [==============================] - 52s 433us/step - loss: 0.1523 - accuracy: 0.9623\n",
      "Epoch 137/150\n",
      "119606/119606 [==============================] - 53s 440us/step - loss: 0.1604 - accuracy: 0.9601\n",
      "Epoch 138/150\n",
      "119606/119606 [==============================] - 49s 406us/step - loss: 0.1521 - accuracy: 0.9623\n",
      "Epoch 139/150\n",
      "119606/119606 [==============================] - 34s 282us/step - loss: 0.1600 - accuracy: 0.9601\n",
      "Epoch 140/150\n",
      "119606/119606 [==============================] - 34s 283us/step - loss: 0.1561 - accuracy: 0.9613\n",
      "Epoch 141/150\n",
      "119606/119606 [==============================] - 34s 284us/step - loss: 0.1544 - accuracy: 0.9616\n",
      "Epoch 142/150\n",
      "119606/119606 [==============================] - 35s 290us/step - loss: 0.1543 - accuracy: 0.9616\n",
      "Epoch 143/150\n",
      "119606/119606 [==============================] - 52s 438us/step - loss: 0.1519 - accuracy: 0.9622\n",
      "Epoch 144/150\n",
      "119606/119606 [==============================] - 52s 437us/step - loss: 0.1555 - accuracy: 0.9613\n",
      "Epoch 145/150\n",
      "119606/119606 [==============================] - 52s 437us/step - loss: 0.1538 - accuracy: 0.9614\n",
      "Epoch 146/150\n",
      "119606/119606 [==============================] - 50s 417us/step - loss: 0.1527 - accuracy: 0.9624\n",
      "Epoch 147/150\n",
      "119606/119606 [==============================] - 50s 419us/step - loss: 0.1484 - accuracy: 0.9630\n",
      "Epoch 148/150\n",
      "119606/119606 [==============================] - 46s 383us/step - loss: 0.1550 - accuracy: 0.9618\n",
      "Epoch 149/150\n",
      "119606/119606 [==============================] - 33s 272us/step - loss: 0.1501 - accuracy: 0.9621\n",
      "Epoch 150/150\n",
      "119606/119606 [==============================] - 32s 270us/step - loss: 0.1511 - accuracy: 0.9624\n",
      "======================Company- Finished ! ==================================\n",
      "Epoch 1/150\n",
      "119606/119606 [==============================] - 7s 58us/step - loss: 1.2476 - accuracy: 0.6700\n",
      "Epoch 2/150\n",
      "119606/119606 [==============================] - 6s 50us/step - loss: 0.1055 - accuracy: 0.9701\n",
      "Epoch 3/150\n",
      "119606/119606 [==============================] - 5s 42us/step - loss: 0.0242 - accuracy: 0.9875\n",
      "Epoch 4/150\n",
      "119606/119606 [==============================] - 5s 45us/step - loss: 0.0077 - accuracy: 0.9912\n",
      "Epoch 5/150\n",
      "119606/119606 [==============================] - 5s 46us/step - loss: 0.0036 - accuracy: 0.9918\n",
      "Epoch 6/150\n",
      "119606/119606 [==============================] - 5s 38us/step - loss: 0.0021 - accuracy: 0.9919\n",
      "Epoch 7/150\n",
      "119606/119606 [==============================] - 5s 38us/step - loss: 0.0256 - accuracy: 0.9907\n",
      "Epoch 8/150\n",
      "119606/119606 [==============================] - 5s 38us/step - loss: 0.0220 - accuracy: 0.9890\n",
      "Epoch 9/150\n",
      "119606/119606 [==============================] - 4s 36us/step - loss: 0.0383 - accuracy: 0.9854\n",
      "Epoch 10/150\n",
      "119606/119606 [==============================] - 4s 37us/step - loss: 0.0669 - accuracy: 0.9810\n",
      "Epoch 11/150\n",
      "119606/119606 [==============================] - 5s 41us/step - loss: 0.1167 - accuracy: 0.9737\n",
      "Epoch 12/150\n",
      "119606/119606 [==============================] - 5s 39us/step - loss: 0.1692 - accuracy: 0.9681\n",
      "Epoch 13/150\n",
      "119606/119606 [==============================] - 4s 37us/step - loss: 0.1949 - accuracy: 0.9644\n",
      "Epoch 14/150\n",
      "119606/119606 [==============================] - 4s 37us/step - loss: 0.3434 - accuracy: 0.9495\n",
      "Epoch 15/150\n",
      "119606/119606 [==============================] - 5s 44us/step - loss: 0.4266 - accuracy: 0.9439\n",
      "Epoch 16/150\n",
      "119606/119606 [==============================] - 4s 37us/step - loss: 0.4882 - accuracy: 0.9374\n",
      "Epoch 17/150\n",
      "119606/119606 [==============================] - 4s 37us/step - loss: 0.7588 - accuracy: 0.9215\n",
      "Epoch 18/150\n",
      "119606/119606 [==============================] - 5s 43us/step - loss: 0.7670 - accuracy: 0.9181\n",
      "Epoch 19/150\n",
      "119606/119606 [==============================] - 5s 38us/step - loss: 0.7920 - accuracy: 0.9229\n",
      "Epoch 20/150\n",
      "119606/119606 [==============================] - 4s 37us/step - loss: 1.1147 - accuracy: 0.9023\n",
      "Epoch 21/150\n",
      "119606/119606 [==============================] - 5s 41us/step - loss: 1.2751 - accuracy: 0.8980\n",
      "Epoch 22/150\n",
      "119606/119606 [==============================] - 6s 49us/step - loss: 1.4034 - accuracy: 0.8905\n",
      "Epoch 23/150\n",
      "119606/119606 [==============================] - 5s 43us/step - loss: 1.6620 - accuracy: 0.8777\n",
      "Epoch 24/150\n",
      "119606/119606 [==============================] - 6s 46us/step - loss: 1.9072 - accuracy: 0.8835\n",
      "Epoch 25/150\n",
      "119606/119606 [==============================] - 5s 46us/step - loss: 1.9554 - accuracy: 0.8860\n",
      "Epoch 26/150\n",
      "119606/119606 [==============================] - 5s 39us/step - loss: 2.8187 - accuracy: 0.8571\n",
      "Epoch 27/150\n",
      "119606/119606 [==============================] - 8s 65us/step - loss: 2.4460 - accuracy: 0.8722\n",
      "Epoch 28/150\n",
      "119606/119606 [==============================] - 7s 55us/step - loss: 2.7494 - accuracy: 0.8669\n",
      "Epoch 29/150\n",
      "119606/119606 [==============================] - 6s 53us/step - loss: 3.1886 - accuracy: 0.8565\n",
      "Epoch 30/150\n",
      "119606/119606 [==============================] - 6s 52us/step - loss: 3.2867 - accuracy: 0.8638\n",
      "Epoch 31/150\n",
      "119606/119606 [==============================] - 5s 44us/step - loss: 4.0608 - accuracy: 0.8401\n",
      "Epoch 32/150\n",
      "119606/119606 [==============================] - 6s 47us/step - loss: 3.6549 - accuracy: 0.8569\n",
      "Epoch 33/150\n",
      "119606/119606 [==============================] - 5s 43us/step - loss: 4.3472 - accuracy: 0.8457\n",
      "Epoch 34/150\n",
      "119606/119606 [==============================] - 5s 39us/step - loss: 4.5618 - accuracy: 0.8502\n",
      "Epoch 35/150\n",
      "119606/119606 [==============================] - 5s 41us/step - loss: 4.7994 - accuracy: 0.8481\n",
      "Epoch 36/150\n",
      "119606/119606 [==============================] - 6s 53us/step - loss: 5.3785 - accuracy: 0.8450\n",
      "Epoch 37/150\n",
      "119606/119606 [==============================] - 5s 45us/step - loss: 5.3375 - accuracy: 0.8493\n",
      "Epoch 38/150\n",
      "119606/119606 [==============================] - 6s 48us/step - loss: 5.8347 - accuracy: 0.8430\n",
      "Epoch 39/150\n",
      "119606/119606 [==============================] - 5s 42us/step - loss: 5.7200 - accuracy: 0.8439\n",
      "Epoch 40/150\n",
      "119606/119606 [==============================] - 4s 36us/step - loss: 6.4584 - accuracy: 0.8439\n",
      "Epoch 41/150\n",
      "119606/119606 [==============================] - 4s 37us/step - loss: 6.4506 - accuracy: 0.8466\n",
      "Epoch 42/150\n",
      "119606/119606 [==============================] - 6s 49us/step - loss: 7.5043 - accuracy: 0.8392\n",
      "Epoch 43/150\n",
      "119606/119606 [==============================] - 5s 41us/step - loss: 7.5180 - accuracy: 0.8361\n",
      "Epoch 44/150\n",
      "119606/119606 [==============================] - 5s 41us/step - loss: 7.3013 - accuracy: 0.8451\n",
      "Epoch 45/150\n",
      "119606/119606 [==============================] - 6s 47us/step - loss: 8.5132 - accuracy: 0.8364\n",
      "Epoch 46/150\n",
      "119606/119606 [==============================] - 5s 40us/step - loss: 8.6887 - accuracy: 0.8348\n",
      "Epoch 47/150\n",
      "119606/119606 [==============================] - 5s 40us/step - loss: 9.2995 - accuracy: 0.8297\n",
      "Epoch 48/150\n",
      "119606/119606 [==============================] - 5s 46us/step - loss: 8.7767 - accuracy: 0.8415\n",
      "Epoch 49/150\n",
      "119606/119606 [==============================] - 4s 36us/step - loss: 10.6231 - accuracy: 0.8268\n",
      "Epoch 50/150\n",
      "119606/119606 [==============================] - 4s 36us/step - loss: 10.1590 - accuracy: 0.8389\n",
      "Epoch 51/150\n",
      "119606/119606 [==============================] - 4s 36us/step - loss: 10.3060 - accuracy: 0.8378\n",
      "Epoch 52/150\n",
      "119606/119606 [==============================] - 5s 40us/step - loss: 12.1363 - accuracy: 0.8273\n",
      "Epoch 53/150\n",
      "119606/119606 [==============================] - 4s 35us/step - loss: 10.4675 - accuracy: 0.8497\n",
      "Epoch 54/150\n",
      "119606/119606 [==============================] - 4s 35us/step - loss: 11.8238 - accuracy: 0.8328\n",
      "Epoch 55/150\n",
      "119606/119606 [==============================] - 5s 41us/step - loss: 12.3618 - accuracy: 0.8355\n",
      "Epoch 56/150\n",
      "119606/119606 [==============================] - 4s 36us/step - loss: 12.8303 - accuracy: 0.8380\n",
      "Epoch 57/150\n",
      "119606/119606 [==============================] - 4s 36us/step - loss: 13.6194 - accuracy: 0.8367\n",
      "Epoch 58/150\n",
      "119606/119606 [==============================] - 4s 35us/step - loss: 14.6628 - accuracy: 0.8314\n",
      "Epoch 59/150\n",
      "119606/119606 [==============================] - 5s 43us/step - loss: 14.6257 - accuracy: 0.8344\n",
      "Epoch 60/150\n",
      "119606/119606 [==============================] - 5s 38us/step - loss: 15.1014 - accuracy: 0.8271\n",
      "Epoch 61/150\n",
      "119606/119606 [==============================] - 4s 36us/step - loss: 15.1588 - accuracy: 0.8356\n",
      "Epoch 62/150\n",
      "119606/119606 [==============================] - 5s 41us/step - loss: 15.7068 - accuracy: 0.8335\n",
      "Epoch 63/150\n",
      "119606/119606 [==============================] - 7s 61us/step - loss: 15.7070 - accuracy: 0.8399\n",
      "Epoch 64/150\n",
      "119606/119606 [==============================] - 8s 68us/step - loss: 17.4029 - accuracy: 0.8311\n",
      "Epoch 65/150\n",
      "119606/119606 [==============================] - 5s 41us/step - loss: 17.4323 - accuracy: 0.8305\n",
      "Epoch 66/150\n",
      "119606/119606 [==============================] - 4s 36us/step - loss: 17.3993 - accuracy: 0.8407\n",
      "Epoch 67/150\n",
      "119606/119606 [==============================] - 4s 35us/step - loss: 20.1426 - accuracy: 0.8238\n",
      "Epoch 68/150\n",
      "119606/119606 [==============================] - 5s 42us/step - loss: 19.1467 - accuracy: 0.8332\n",
      "Epoch 69/150\n",
      "119606/119606 [==============================] - 4s 35us/step - loss: 20.8330 - accuracy: 0.8259\n",
      "Epoch 70/150\n"
     ]
    },
    {
     "name": "stdout",
     "output_type": "stream",
     "text": [
      "119606/119606 [==============================] - 7s 55us/step - loss: 19.7144 - accuracy: 0.8405\n",
      "Epoch 71/150\n",
      "119606/119606 [==============================] - 8s 64us/step - loss: 22.3868 - accuracy: 0.8240\n",
      "Epoch 72/150\n",
      "119606/119606 [==============================] - 7s 59us/step - loss: 21.4007 - accuracy: 0.8377\n",
      "Epoch 73/150\n",
      "119606/119606 [==============================] - 8s 69us/step - loss: 23.5072 - accuracy: 0.8213\n",
      "Epoch 74/150\n",
      "119606/119606 [==============================] - 7s 59us/step - loss: 21.3421 - accuracy: 0.8486\n",
      "Epoch 75/150\n",
      "119606/119606 [==============================] - 8s 70us/step - loss: 24.5799 - accuracy: 0.8239\n",
      "Epoch 76/150\n",
      "119606/119606 [==============================] - 7s 60us/step - loss: 25.6270 - accuracy: 0.8274\n",
      "Epoch 77/150\n",
      "119606/119606 [==============================] - 8s 70us/step - loss: 26.0896 - accuracy: 0.8284\n",
      "Epoch 78/150\n",
      "119606/119606 [==============================] - 7s 59us/step - loss: 25.4146 - accuracy: 0.8309\n",
      "Epoch 79/150\n",
      "119606/119606 [==============================] - 8s 69us/step - loss: 26.7375 - accuracy: 0.8267: 0s - loss: 26.935\n",
      "Epoch 80/150\n",
      "119606/119606 [==============================] - 7s 58us/step - loss: 28.7018 - accuracy: 0.8233\n",
      "Epoch 81/150\n",
      "119606/119606 [==============================] - 8s 67us/step - loss: 25.6880 - accuracy: 0.8371\n",
      "Epoch 82/150\n",
      "119606/119606 [==============================] - 7s 62us/step - loss: 29.1286 - accuracy: 0.8283\n",
      "Epoch 83/150\n",
      "119606/119606 [==============================] - 8s 65us/step - loss: 28.5054 - accuracy: 0.8347\n",
      "Epoch 84/150\n",
      "119606/119606 [==============================] - 8s 64us/step - loss: 29.9978 - accuracy: 0.8282\n",
      "Epoch 85/150\n",
      "119606/119606 [==============================] - 7s 60us/step - loss: 30.2761 - accuracy: 0.8273\n",
      "Epoch 86/150\n",
      "119606/119606 [==============================] - 7s 62us/step - loss: 30.9185 - accuracy: 0.8304\n",
      "Epoch 87/150\n",
      "119606/119606 [==============================] - 7s 60us/step - loss: 29.2038 - accuracy: 0.8370\n",
      "Epoch 88/150\n",
      "119606/119606 [==============================] - 8s 70us/step - loss: 34.0861 - accuracy: 0.8279\n",
      "Epoch 89/150\n",
      "119606/119606 [==============================] - 7s 60us/step - loss: 34.8328 - accuracy: 0.8306\n",
      "Epoch 90/150\n",
      "119606/119606 [==============================] - 7s 61us/step - loss: 34.3275 - accuracy: 0.8254\n",
      "Epoch 91/150\n",
      "119606/119606 [==============================] - 6s 52us/step - loss: 33.8809 - accuracy: 0.8364\n",
      "Epoch 92/150\n",
      "119606/119606 [==============================] - 8s 66us/step - loss: 38.7418 - accuracy: 0.8245\n",
      "Epoch 93/150\n",
      "119606/119606 [==============================] - 6s 54us/step - loss: 37.4883 - accuracy: 0.8281\n",
      "Epoch 94/150\n",
      "119606/119606 [==============================] - 8s 65us/step - loss: 38.2768 - accuracy: 0.8304\n",
      "Epoch 95/150\n",
      "119606/119606 [==============================] - 6s 52us/step - loss: 36.1946 - accuracy: 0.8329\n",
      "Epoch 96/150\n",
      "119606/119606 [==============================] - 7s 62us/step - loss: 39.8378 - accuracy: 0.8320\n",
      "Epoch 97/150\n",
      "119606/119606 [==============================] - 7s 59us/step - loss: 38.1168 - accuracy: 0.8327\n",
      "Epoch 98/150\n",
      "119606/119606 [==============================] - 8s 63us/step - loss: 40.0095 - accuracy: 0.8289\n",
      "Epoch 99/150\n",
      "119606/119606 [==============================] - 7s 56us/step - loss: 40.9648 - accuracy: 0.8329\n",
      "Epoch 100/150\n",
      "119606/119606 [==============================] - 5s 45us/step - loss: 44.7124 - accuracy: 0.8288\n",
      "Epoch 101/150\n",
      "119606/119606 [==============================] - 6s 48us/step - loss: 43.8100 - accuracy: 0.8298\n",
      "Epoch 102/150\n",
      "119606/119606 [==============================] - 6s 50us/step - loss: 45.1401 - accuracy: 0.8287\n",
      "Epoch 103/150\n",
      "119606/119606 [==============================] - 5s 45us/step - loss: 48.0690 - accuracy: 0.8267\n",
      "Epoch 104/150\n",
      "119606/119606 [==============================] - 6s 50us/step - loss: 45.7985 - accuracy: 0.8287\n",
      "Epoch 105/150\n",
      "119606/119606 [==============================] - 5s 41us/step - loss: 50.1359 - accuracy: 0.8230\n",
      "Epoch 106/150\n",
      "119606/119606 [==============================] - 5s 39us/step - loss: 47.5373 - accuracy: 0.8293\n",
      "Epoch 107/150\n",
      "119606/119606 [==============================] - 5s 43us/step - loss: 48.7385 - accuracy: 0.8292\n",
      "Epoch 108/150\n",
      "119606/119606 [==============================] - 5s 44us/step - loss: 48.4882 - accuracy: 0.8350\n",
      "Epoch 109/150\n",
      "119606/119606 [==============================] - 5s 40us/step - loss: 51.9167 - accuracy: 0.8244\n",
      "Epoch 110/150\n",
      "119606/119606 [==============================] - 5s 41us/step - loss: 49.0323 - accuracy: 0.8313\n",
      "Epoch 111/150\n",
      "119606/119606 [==============================] - 5s 41us/step - loss: 54.3990 - accuracy: 0.8286\n",
      "Epoch 112/150\n",
      "119606/119606 [==============================] - 5s 40us/step - loss: 53.3090 - accuracy: 0.8329\n",
      "Epoch 113/150\n",
      "119606/119606 [==============================] - 5s 42us/step - loss: 55.7888 - accuracy: 0.8293\n",
      "Epoch 114/150\n",
      "119606/119606 [==============================] - 6s 47us/step - loss: 56.1614 - accuracy: 0.8369\n",
      "Epoch 115/150\n",
      "119606/119606 [==============================] - 5s 40us/step - loss: 61.3952 - accuracy: 0.8198\n",
      "Epoch 116/150\n",
      "119606/119606 [==============================] - 5s 40us/step - loss: 59.9800 - accuracy: 0.8260\n",
      "Epoch 117/150\n",
      "119606/119606 [==============================] - 6s 47us/step - loss: 62.0968 - accuracy: 0.8257\n",
      "Epoch 118/150\n",
      "119606/119606 [==============================] - 8s 64us/step - loss: 62.7263 - accuracy: 0.8245\n",
      "Epoch 119/150\n",
      "119606/119606 [==============================] - 8s 67us/step - loss: 58.3097 - accuracy: 0.8346\n",
      "Epoch 120/150\n",
      "119606/119606 [==============================] - 6s 48us/step - loss: 66.3062 - accuracy: 0.8320\n",
      "Epoch 121/150\n",
      "119606/119606 [==============================] - 5s 46us/step - loss: 61.8981 - accuracy: 0.8274\n",
      "Epoch 122/150\n",
      "119606/119606 [==============================] - 6s 54us/step - loss: 63.6398 - accuracy: 0.8351\n",
      "Epoch 123/150\n",
      "119606/119606 [==============================] - 5s 46us/step - loss: 62.5582 - accuracy: 0.8387\n",
      "Epoch 124/150\n",
      "119606/119606 [==============================] - 5s 46us/step - loss: 69.1488 - accuracy: 0.8249\n",
      "Epoch 125/150\n",
      "119606/119606 [==============================] - 6s 50us/step - loss: 69.8790 - accuracy: 0.8310\n",
      "Epoch 126/150\n",
      "119606/119606 [==============================] - 5s 40us/step - loss: 66.0122 - accuracy: 0.8318\n",
      "Epoch 127/150\n",
      "119606/119606 [==============================] - 5s 40us/step - loss: 70.1580 - accuracy: 0.8313\n",
      "Epoch 128/150\n",
      "119606/119606 [==============================] - 5s 45us/step - loss: 74.1124 - accuracy: 0.8202\n",
      "Epoch 129/150\n",
      "119606/119606 [==============================] - 4s 35us/step - loss: 69.3422 - accuracy: 0.8366\n",
      "Epoch 130/150\n",
      "119606/119606 [==============================] - 4s 35us/step - loss: 83.7580 - accuracy: 0.8201\n",
      "Epoch 131/150\n",
      "119606/119606 [==============================] - 5s 41us/step - loss: 75.3942 - accuracy: 0.8281\n",
      "Epoch 132/150\n",
      "119606/119606 [==============================] - 4s 36us/step - loss: 74.0180 - accuracy: 0.8332\n",
      "Epoch 133/150\n",
      "119606/119606 [==============================] - 4s 35us/step - loss: 80.4413 - accuracy: 0.8256\n",
      "Epoch 134/150\n",
      "119606/119606 [==============================] - 4s 36us/step - loss: 79.4057 - accuracy: 0.8339\n",
      "Epoch 135/150\n",
      "119606/119606 [==============================] - 5s 41us/step - loss: 84.2905 - accuracy: 0.8224\n",
      "Epoch 136/150\n",
      "119606/119606 [==============================] - 8s 69us/step - loss: 82.1236 - accuracy: 0.8327\n",
      "Epoch 137/150\n",
      "119606/119606 [==============================] - 7s 58us/step - loss: 80.2485 - accuracy: 0.8373\n",
      "Epoch 138/150\n",
      "119606/119606 [==============================] - 6s 51us/step - loss: 84.2814 - accuracy: 0.8297\n",
      "Epoch 139/150\n",
      "119606/119606 [==============================] - 7s 56us/step - loss: 81.9324 - accuracy: 0.8299\n",
      "Epoch 140/150\n",
      "119606/119606 [==============================] - 6s 51us/step - loss: 93.7792 - accuracy: 0.8194\n",
      "Epoch 141/150\n",
      "119606/119606 [==============================] - 5s 41us/step - loss: 85.8972 - accuracy: 0.8400\n",
      "Epoch 142/150\n",
      "119606/119606 [==============================] - 7s 56us/step - loss: 90.3448 - accuracy: 0.8353\n",
      "Epoch 143/150\n",
      "119606/119606 [==============================] - 5s 44us/step - loss: 94.7651 - accuracy: 0.8258\n",
      "Epoch 144/150\n"
     ]
    },
    {
     "name": "stdout",
     "output_type": "stream",
     "text": [
      "119606/119606 [==============================] - 7s 56us/step - loss: 89.4282 - accuracy: 0.8304\n",
      "Epoch 145/150\n",
      "119606/119606 [==============================] - 8s 68us/step - loss: 92.4220 - accuracy: 0.8290\n",
      "Epoch 146/150\n",
      "119606/119606 [==============================] - 7s 58us/step - loss: 104.2768 - accuracy: 0.8178\n",
      "Epoch 147/150\n",
      "119606/119606 [==============================] - 8s 63us/step - loss: 94.1507 - accuracy: 0.8306\n",
      "Epoch 148/150\n",
      "119606/119606 [==============================] - 7s 55us/step - loss: 102.2192 - accuracy: 0.8275\n",
      "Epoch 149/150\n",
      "119606/119606 [==============================] - 6s 48us/step - loss: 104.4609 - accuracy: 0.8262\n",
      "Epoch 150/150\n",
      "119606/119606 [==============================] - 6s 48us/step - loss: 96.7993 - accuracy: 0.8352\n",
      "======================State- Finished ! ==================================\n"
     ]
    },
    {
     "data": {
      "text/plain": [
       "(119606, 24)"
      ]
     },
     "execution_count": 45,
     "metadata": {},
     "output_type": "execute_result"
    }
   ],
   "source": [
    "for col in consumer_test.columns:\n",
    "        if consumer_test[col].dtype==object:\n",
    "            if consumer_test[col].value_counts().count()>12:\n",
    "                #print (col,':',hs_train[col].value_counts().count())\n",
    "\n",
    "                dummy_data=pd.get_dummies(consumer_test[col],prefix=col)\n",
    "                dummy_data.shape[1]\n",
    "\n",
    "                y=pd.get_dummies(consumer_test[col],prefix=col)\n",
    "\n",
    "                embedding_dim=3\n",
    "                inputs=Input(shape=(dummy_data.shape[1],))\n",
    "                dense1=Dense(50,activation='relu')(inputs)\n",
    "                embedded_output=Dense(embedding_dim)(dense1)\n",
    "                outputs=Dense(dummy_data.shape[1],activation='softmax')(embedded_output)\n",
    "                model=Model(inputs=inputs,outputs=outputs)\n",
    "\n",
    "                embedder=Model(inputs=inputs,outputs=embedded_output)\n",
    "\n",
    "                model.compile(optimizer='adam',loss='categorical_crossentropy',metrics=['accuracy'])\n",
    "                model.fit(dummy_data,y,epochs=150,batch_size=100)\n",
    "\n",
    "                low_dim=pd.DataFrame(embedder.predict(dummy_data),columns=[col+'1',col+'2',col+'3'])\n",
    "                #low_dim.head()\n",
    "\n",
    "                consumer_test=pd.concat([consumer_test,low_dim],axis=1)\n",
    "                consumer_test=consumer_test.drop([col],axis=1)\n",
    "                print('======================'+col+'- Finished ! ==================================')\n",
    "                \n",
    "consumer_test.shape"
   ]
  },
  {
   "cell_type": "code",
   "execution_count": 46,
   "metadata": {},
   "outputs": [],
   "source": [
    "consumer_test.to_csv('consumer_test_CE.csv', index=False)"
   ]
  },
  {
   "cell_type": "code",
   "execution_count": null,
   "metadata": {},
   "outputs": [],
   "source": []
  },
  {
   "cell_type": "code",
   "execution_count": null,
   "metadata": {},
   "outputs": [],
   "source": [
    "# Read the data"
   ]
  },
  {
   "cell_type": "code",
   "execution_count": 1,
   "metadata": {},
   "outputs": [],
   "source": [
    "import pandas as pd\n",
    "import numpy as np\n",
    "consumer_train=pd.read_csv(r\"consumer_train_CE.csv\")\n",
    "consumer_test=pd.read_csv(r\"consumer_test_CE.csv\")"
   ]
  },
  {
   "cell_type": "code",
   "execution_count": 3,
   "metadata": {},
   "outputs": [
    {
     "data": {
      "text/html": [
       "<div>\n",
       "<style scoped>\n",
       "    .dataframe tbody tr th:only-of-type {\n",
       "        vertical-align: middle;\n",
       "    }\n",
       "\n",
       "    .dataframe tbody tr th {\n",
       "        vertical-align: top;\n",
       "    }\n",
       "\n",
       "    .dataframe thead th {\n",
       "        text-align: right;\n",
       "    }\n",
       "</style>\n",
       "<table border=\"1\" class=\"dataframe\">\n",
       "  <thead>\n",
       "    <tr style=\"text-align: right;\">\n",
       "      <th></th>\n",
       "      <th>Product</th>\n",
       "      <th>Submitted via</th>\n",
       "      <th>Company response to consumer</th>\n",
       "      <th>Timely response?</th>\n",
       "      <th>Consumer disputed?</th>\n",
       "      <th>Complaint ID</th>\n",
       "      <th>day_diff</th>\n",
       "      <th>Year_recived_sin</th>\n",
       "      <th>Year_recived_cos</th>\n",
       "      <th>MONTH_recived_sin</th>\n",
       "      <th>...</th>\n",
       "      <th>MONTH_sent_to_company_sin</th>\n",
       "      <th>MONTH_sent_to_company_cos</th>\n",
       "      <th>Day_sent_to_company_sin</th>\n",
       "      <th>Day_sent_to_company_cos</th>\n",
       "      <th>Company1</th>\n",
       "      <th>Company2</th>\n",
       "      <th>Company3</th>\n",
       "      <th>State1</th>\n",
       "      <th>State2</th>\n",
       "      <th>State3</th>\n",
       "    </tr>\n",
       "  </thead>\n",
       "  <tbody>\n",
       "    <tr>\n",
       "      <th>0</th>\n",
       "      <td>Credit card</td>\n",
       "      <td>Web</td>\n",
       "      <td>Closed with explanation</td>\n",
       "      <td>Yes</td>\n",
       "      <td>No</td>\n",
       "      <td>856103</td>\n",
       "      <td>86400000000000</td>\n",
       "      <td>-0.006233</td>\n",
       "      <td>0.999981</td>\n",
       "      <td>0.5</td>\n",
       "      <td>...</td>\n",
       "      <td>0.500000</td>\n",
       "      <td>-8.660254e-01</td>\n",
       "      <td>-0.101168</td>\n",
       "      <td>-0.994869</td>\n",
       "      <td>592.33746</td>\n",
       "      <td>-1033.42660</td>\n",
       "      <td>188.070160</td>\n",
       "      <td>7247378.5</td>\n",
       "      <td>7161603.0</td>\n",
       "      <td>7612285.0</td>\n",
       "    </tr>\n",
       "    <tr>\n",
       "      <th>1</th>\n",
       "      <td>Bank account or service</td>\n",
       "      <td>Referral</td>\n",
       "      <td>Closed</td>\n",
       "      <td>Yes</td>\n",
       "      <td>No</td>\n",
       "      <td>1034666</td>\n",
       "      <td>518400000000000</td>\n",
       "      <td>-0.006233</td>\n",
       "      <td>0.999981</td>\n",
       "      <td>-1.0</td>\n",
       "      <td>...</td>\n",
       "      <td>-1.000000</td>\n",
       "      <td>-1.836970e-16</td>\n",
       "      <td>-0.988468</td>\n",
       "      <td>0.151428</td>\n",
       "      <td>-469.15063</td>\n",
       "      <td>-260.32095</td>\n",
       "      <td>767.793330</td>\n",
       "      <td>7597372.5</td>\n",
       "      <td>7573183.5</td>\n",
       "      <td>7868616.5</td>\n",
       "    </tr>\n",
       "    <tr>\n",
       "      <th>2</th>\n",
       "      <td>Credit reporting</td>\n",
       "      <td>Referral</td>\n",
       "      <td>Closed with non-monetary relief</td>\n",
       "      <td>Yes</td>\n",
       "      <td>No</td>\n",
       "      <td>756363</td>\n",
       "      <td>1814400000000000</td>\n",
       "      <td>-0.006233</td>\n",
       "      <td>0.999981</td>\n",
       "      <td>1.0</td>\n",
       "      <td>...</td>\n",
       "      <td>0.866025</td>\n",
       "      <td>-5.000000e-01</td>\n",
       "      <td>0.571268</td>\n",
       "      <td>0.820763</td>\n",
       "      <td>993.66190</td>\n",
       "      <td>-502.41040</td>\n",
       "      <td>-131.305560</td>\n",
       "      <td>7766343.5</td>\n",
       "      <td>7846194.5</td>\n",
       "      <td>8141565.0</td>\n",
       "    </tr>\n",
       "    <tr>\n",
       "      <th>3</th>\n",
       "      <td>Credit card</td>\n",
       "      <td>Web</td>\n",
       "      <td>Closed with monetary relief</td>\n",
       "      <td>Yes</td>\n",
       "      <td>No</td>\n",
       "      <td>1474177</td>\n",
       "      <td>0</td>\n",
       "      <td>-0.003117</td>\n",
       "      <td>0.999995</td>\n",
       "      <td>-0.5</td>\n",
       "      <td>...</td>\n",
       "      <td>-0.500000</td>\n",
       "      <td>-8.660254e-01</td>\n",
       "      <td>-0.299363</td>\n",
       "      <td>-0.954139</td>\n",
       "      <td>-993.74260</td>\n",
       "      <td>430.56677</td>\n",
       "      <td>62.125282</td>\n",
       "      <td>7600993.5</td>\n",
       "      <td>7556128.0</td>\n",
       "      <td>7886592.0</td>\n",
       "    </tr>\n",
       "    <tr>\n",
       "      <th>4</th>\n",
       "      <td>Credit card</td>\n",
       "      <td>Web</td>\n",
       "      <td>Closed with explanation</td>\n",
       "      <td>Yes</td>\n",
       "      <td>No</td>\n",
       "      <td>1132572</td>\n",
       "      <td>691200000000000</td>\n",
       "      <td>-0.006233</td>\n",
       "      <td>0.999981</td>\n",
       "      <td>-0.5</td>\n",
       "      <td>...</td>\n",
       "      <td>-0.500000</td>\n",
       "      <td>8.660254e-01</td>\n",
       "      <td>-0.571268</td>\n",
       "      <td>0.820763</td>\n",
       "      <td>144.34718</td>\n",
       "      <td>-953.04346</td>\n",
       "      <td>995.006200</td>\n",
       "      <td>7257314.5</td>\n",
       "      <td>7219338.5</td>\n",
       "      <td>7428970.0</td>\n",
       "    </tr>\n",
       "  </tbody>\n",
       "</table>\n",
       "<p>5 rows × 25 columns</p>\n",
       "</div>"
      ],
      "text/plain": [
       "                   Product Submitted via     Company response to consumer  \\\n",
       "0              Credit card           Web          Closed with explanation   \n",
       "1  Bank account or service      Referral                           Closed   \n",
       "2         Credit reporting      Referral  Closed with non-monetary relief   \n",
       "3              Credit card           Web      Closed with monetary relief   \n",
       "4              Credit card           Web          Closed with explanation   \n",
       "\n",
       "  Timely response? Consumer disputed?  Complaint ID          day_diff  \\\n",
       "0              Yes                 No        856103    86400000000000   \n",
       "1              Yes                 No       1034666   518400000000000   \n",
       "2              Yes                 No        756363  1814400000000000   \n",
       "3              Yes                 No       1474177                 0   \n",
       "4              Yes                 No       1132572   691200000000000   \n",
       "\n",
       "   Year_recived_sin  Year_recived_cos  MONTH_recived_sin  ...  \\\n",
       "0         -0.006233          0.999981                0.5  ...   \n",
       "1         -0.006233          0.999981               -1.0  ...   \n",
       "2         -0.006233          0.999981                1.0  ...   \n",
       "3         -0.003117          0.999995               -0.5  ...   \n",
       "4         -0.006233          0.999981               -0.5  ...   \n",
       "\n",
       "   MONTH_sent_to_company_sin  MONTH_sent_to_company_cos  \\\n",
       "0                   0.500000              -8.660254e-01   \n",
       "1                  -1.000000              -1.836970e-16   \n",
       "2                   0.866025              -5.000000e-01   \n",
       "3                  -0.500000              -8.660254e-01   \n",
       "4                  -0.500000               8.660254e-01   \n",
       "\n",
       "   Day_sent_to_company_sin  Day_sent_to_company_cos   Company1    Company2  \\\n",
       "0                -0.101168                -0.994869  592.33746 -1033.42660   \n",
       "1                -0.988468                 0.151428 -469.15063  -260.32095   \n",
       "2                 0.571268                 0.820763  993.66190  -502.41040   \n",
       "3                -0.299363                -0.954139 -993.74260   430.56677   \n",
       "4                -0.571268                 0.820763  144.34718  -953.04346   \n",
       "\n",
       "     Company3     State1     State2     State3  \n",
       "0  188.070160  7247378.5  7161603.0  7612285.0  \n",
       "1  767.793330  7597372.5  7573183.5  7868616.5  \n",
       "2 -131.305560  7766343.5  7846194.5  8141565.0  \n",
       "3   62.125282  7600993.5  7556128.0  7886592.0  \n",
       "4  995.006200  7257314.5  7219338.5  7428970.0  \n",
       "\n",
       "[5 rows x 25 columns]"
      ]
     },
     "execution_count": 3,
     "metadata": {},
     "output_type": "execute_result"
    }
   ],
   "source": [
    "consumer_train.head()"
   ]
  },
  {
   "cell_type": "code",
   "execution_count": 4,
   "metadata": {},
   "outputs": [
    {
     "data": {
      "text/html": [
       "<div>\n",
       "<style scoped>\n",
       "    .dataframe tbody tr th:only-of-type {\n",
       "        vertical-align: middle;\n",
       "    }\n",
       "\n",
       "    .dataframe tbody tr th {\n",
       "        vertical-align: top;\n",
       "    }\n",
       "\n",
       "    .dataframe thead th {\n",
       "        text-align: right;\n",
       "    }\n",
       "</style>\n",
       "<table border=\"1\" class=\"dataframe\">\n",
       "  <thead>\n",
       "    <tr style=\"text-align: right;\">\n",
       "      <th></th>\n",
       "      <th>Product</th>\n",
       "      <th>Submitted via</th>\n",
       "      <th>Company response to consumer</th>\n",
       "      <th>Timely response?</th>\n",
       "      <th>Complaint ID</th>\n",
       "      <th>day_diff</th>\n",
       "      <th>Year_recived_sin</th>\n",
       "      <th>Year_recived_cos</th>\n",
       "      <th>MONTH_recived_sin</th>\n",
       "      <th>MONTH_recived_cos</th>\n",
       "      <th>...</th>\n",
       "      <th>MONTH_sent_to_company_sin</th>\n",
       "      <th>MONTH_sent_to_company_cos</th>\n",
       "      <th>Day_sent_to_company_sin</th>\n",
       "      <th>Day_sent_to_company_cos</th>\n",
       "      <th>Company1</th>\n",
       "      <th>Company2</th>\n",
       "      <th>Company3</th>\n",
       "      <th>State1</th>\n",
       "      <th>State2</th>\n",
       "      <th>State3</th>\n",
       "    </tr>\n",
       "  </thead>\n",
       "  <tbody>\n",
       "    <tr>\n",
       "      <th>0</th>\n",
       "      <td>Bank account or service</td>\n",
       "      <td>Web</td>\n",
       "      <td>Closed with explanation</td>\n",
       "      <td>Yes</td>\n",
       "      <td>675956</td>\n",
       "      <td>-86400000000000</td>\n",
       "      <td>-6.233278e-03</td>\n",
       "      <td>0.999981</td>\n",
       "      <td>0.500000</td>\n",
       "      <td>8.660254e-01</td>\n",
       "      <td>...</td>\n",
       "      <td>0.500000</td>\n",
       "      <td>8.660254e-01</td>\n",
       "      <td>-2.993631e-01</td>\n",
       "      <td>-0.954139</td>\n",
       "      <td>-224.89369</td>\n",
       "      <td>1190.53750</td>\n",
       "      <td>-430.71298</td>\n",
       "      <td>376202.28</td>\n",
       "      <td>-358533.38</td>\n",
       "      <td>365107.60</td>\n",
       "    </tr>\n",
       "    <tr>\n",
       "      <th>1</th>\n",
       "      <td>Debt collection</td>\n",
       "      <td>Web</td>\n",
       "      <td>Closed with explanation</td>\n",
       "      <td>Yes</td>\n",
       "      <td>1858795</td>\n",
       "      <td>0</td>\n",
       "      <td>-2.449294e-16</td>\n",
       "      <td>1.000000</td>\n",
       "      <td>1.000000</td>\n",
       "      <td>6.123234e-17</td>\n",
       "      <td>...</td>\n",
       "      <td>1.000000</td>\n",
       "      <td>6.123234e-17</td>\n",
       "      <td>-2.449294e-16</td>\n",
       "      <td>1.000000</td>\n",
       "      <td>-370.65360</td>\n",
       "      <td>-155.98863</td>\n",
       "      <td>562.43780</td>\n",
       "      <td>377081.00</td>\n",
       "      <td>-359645.66</td>\n",
       "      <td>363891.34</td>\n",
       "    </tr>\n",
       "    <tr>\n",
       "      <th>2</th>\n",
       "      <td>Mortgage</td>\n",
       "      <td>Web</td>\n",
       "      <td>Closed without relief</td>\n",
       "      <td>Yes</td>\n",
       "      <td>32637</td>\n",
       "      <td>86400000000000</td>\n",
       "      <td>-1.246631e-02</td>\n",
       "      <td>0.999922</td>\n",
       "      <td>1.000000</td>\n",
       "      <td>6.123234e-17</td>\n",
       "      <td>...</td>\n",
       "      <td>1.000000</td>\n",
       "      <td>6.123234e-17</td>\n",
       "      <td>9.680771e-01</td>\n",
       "      <td>-0.250653</td>\n",
       "      <td>-968.49396</td>\n",
       "      <td>313.34198</td>\n",
       "      <td>-321.29807</td>\n",
       "      <td>376202.28</td>\n",
       "      <td>-358533.38</td>\n",
       "      <td>365107.60</td>\n",
       "    </tr>\n",
       "    <tr>\n",
       "      <th>3</th>\n",
       "      <td>Credit reporting</td>\n",
       "      <td>Postal mail</td>\n",
       "      <td>Closed with non-monetary relief</td>\n",
       "      <td>Yes</td>\n",
       "      <td>1731374</td>\n",
       "      <td>432000000000000</td>\n",
       "      <td>-2.449294e-16</td>\n",
       "      <td>1.000000</td>\n",
       "      <td>0.500000</td>\n",
       "      <td>8.660254e-01</td>\n",
       "      <td>...</td>\n",
       "      <td>0.500000</td>\n",
       "      <td>8.660254e-01</td>\n",
       "      <td>6.513725e-01</td>\n",
       "      <td>-0.758758</td>\n",
       "      <td>117.36045</td>\n",
       "      <td>-509.94876</td>\n",
       "      <td>-1141.55140</td>\n",
       "      <td>377081.00</td>\n",
       "      <td>-359645.66</td>\n",
       "      <td>363891.34</td>\n",
       "    </tr>\n",
       "    <tr>\n",
       "      <th>4</th>\n",
       "      <td>Mortgage</td>\n",
       "      <td>Web</td>\n",
       "      <td>Closed with explanation</td>\n",
       "      <td>Yes</td>\n",
       "      <td>501487</td>\n",
       "      <td>0</td>\n",
       "      <td>-9.349842e-03</td>\n",
       "      <td>0.999956</td>\n",
       "      <td>-0.866025</td>\n",
       "      <td>-5.000000e-01</td>\n",
       "      <td>...</td>\n",
       "      <td>-0.866025</td>\n",
       "      <td>-5.000000e-01</td>\n",
       "      <td>-9.987165e-01</td>\n",
       "      <td>-0.050649</td>\n",
       "      <td>-224.89369</td>\n",
       "      <td>1190.53750</td>\n",
       "      <td>-430.71298</td>\n",
       "      <td>377081.00</td>\n",
       "      <td>-359645.66</td>\n",
       "      <td>363891.34</td>\n",
       "    </tr>\n",
       "  </tbody>\n",
       "</table>\n",
       "<p>5 rows × 24 columns</p>\n",
       "</div>"
      ],
      "text/plain": [
       "                   Product Submitted via     Company response to consumer  \\\n",
       "0  Bank account or service           Web          Closed with explanation   \n",
       "1          Debt collection           Web          Closed with explanation   \n",
       "2                 Mortgage           Web            Closed without relief   \n",
       "3         Credit reporting   Postal mail  Closed with non-monetary relief   \n",
       "4                 Mortgage           Web          Closed with explanation   \n",
       "\n",
       "  Timely response?  Complaint ID         day_diff  Year_recived_sin  \\\n",
       "0              Yes        675956  -86400000000000     -6.233278e-03   \n",
       "1              Yes       1858795                0     -2.449294e-16   \n",
       "2              Yes         32637   86400000000000     -1.246631e-02   \n",
       "3              Yes       1731374  432000000000000     -2.449294e-16   \n",
       "4              Yes        501487                0     -9.349842e-03   \n",
       "\n",
       "   Year_recived_cos  MONTH_recived_sin  MONTH_recived_cos  ...  \\\n",
       "0          0.999981           0.500000       8.660254e-01  ...   \n",
       "1          1.000000           1.000000       6.123234e-17  ...   \n",
       "2          0.999922           1.000000       6.123234e-17  ...   \n",
       "3          1.000000           0.500000       8.660254e-01  ...   \n",
       "4          0.999956          -0.866025      -5.000000e-01  ...   \n",
       "\n",
       "   MONTH_sent_to_company_sin  MONTH_sent_to_company_cos  \\\n",
       "0                   0.500000               8.660254e-01   \n",
       "1                   1.000000               6.123234e-17   \n",
       "2                   1.000000               6.123234e-17   \n",
       "3                   0.500000               8.660254e-01   \n",
       "4                  -0.866025              -5.000000e-01   \n",
       "\n",
       "   Day_sent_to_company_sin  Day_sent_to_company_cos   Company1    Company2  \\\n",
       "0            -2.993631e-01                -0.954139 -224.89369  1190.53750   \n",
       "1            -2.449294e-16                 1.000000 -370.65360  -155.98863   \n",
       "2             9.680771e-01                -0.250653 -968.49396   313.34198   \n",
       "3             6.513725e-01                -0.758758  117.36045  -509.94876   \n",
       "4            -9.987165e-01                -0.050649 -224.89369  1190.53750   \n",
       "\n",
       "     Company3     State1     State2     State3  \n",
       "0  -430.71298  376202.28 -358533.38  365107.60  \n",
       "1   562.43780  377081.00 -359645.66  363891.34  \n",
       "2  -321.29807  376202.28 -358533.38  365107.60  \n",
       "3 -1141.55140  377081.00 -359645.66  363891.34  \n",
       "4  -430.71298  377081.00 -359645.66  363891.34  \n",
       "\n",
       "[5 rows x 24 columns]"
      ]
     },
     "execution_count": 4,
     "metadata": {},
     "output_type": "execute_result"
    }
   ],
   "source": [
    "consumer_test.head()"
   ]
  },
  {
   "cell_type": "code",
   "execution_count": null,
   "metadata": {},
   "outputs": [],
   "source": []
  },
  {
   "cell_type": "code",
   "execution_count": 5,
   "metadata": {
    "scrolled": true
   },
   "outputs": [
    {
     "name": "stdout",
     "output_type": "stream",
     "text": [
      "Product                         0.0\n",
      "Submitted via                   0.0\n",
      "Company response to consumer    0.0\n",
      "Timely response?                0.0\n",
      "Consumer disputed?              0.0\n",
      "Complaint ID                    0.0\n",
      "day_diff                        0.0\n",
      "Year_recived_sin                0.0\n",
      "Year_recived_cos                0.0\n",
      "MONTH_recived_sin               0.0\n",
      "MONTH_recived_cos               0.0\n",
      "Day_recived_sin                 0.0\n",
      "Day_recived_cos                 0.0\n",
      "Year_sent_to_company_sin        0.0\n",
      "Year_sent_to_company_cos        0.0\n",
      "MONTH_sent_to_company_sin       0.0\n",
      "MONTH_sent_to_company_cos       0.0\n",
      "Day_sent_to_company_sin         0.0\n",
      "Day_sent_to_company_cos         0.0\n",
      "Company1                        0.0\n",
      "Company2                        0.0\n",
      "Company3                        0.0\n",
      "State1                          0.0\n",
      "State2                          0.0\n",
      "State3                          0.0\n",
      "dtype: float64\n"
     ]
    }
   ],
   "source": [
    "percent_missing = consumer_train.isnull().sum() * 100 / len(consumer_train)\n",
    "print(percent_missing)"
   ]
  },
  {
   "cell_type": "code",
   "execution_count": 6,
   "metadata": {
    "scrolled": true
   },
   "outputs": [
    {
     "name": "stdout",
     "output_type": "stream",
     "text": [
      "Product                         0.000000\n",
      "Submitted via                   0.000836\n",
      "Company response to consumer    0.000000\n",
      "Timely response?                0.000000\n",
      "Complaint ID                    0.000000\n",
      "day_diff                        0.000000\n",
      "Year_recived_sin                0.000000\n",
      "Year_recived_cos                0.000000\n",
      "MONTH_recived_sin               0.000000\n",
      "MONTH_recived_cos               0.000000\n",
      "Day_recived_sin                 0.000000\n",
      "Day_recived_cos                 0.000000\n",
      "Year_sent_to_company_sin        0.000000\n",
      "Year_sent_to_company_cos        0.000000\n",
      "MONTH_sent_to_company_sin       0.000000\n",
      "MONTH_sent_to_company_cos       0.000000\n",
      "Day_sent_to_company_sin         0.000000\n",
      "Day_sent_to_company_cos         0.000000\n",
      "Company1                        0.000000\n",
      "Company2                        0.000000\n",
      "Company3                        0.000000\n",
      "State1                          0.000000\n",
      "State2                          0.000000\n",
      "State3                          0.000000\n",
      "dtype: float64\n"
     ]
    }
   ],
   "source": [
    "percent_missing = consumer_test.isnull().sum() * 100 / len(consumer_test)\n",
    "print(percent_missing)"
   ]
  },
  {
   "cell_type": "code",
   "execution_count": 5,
   "metadata": {
    "scrolled": true
   },
   "outputs": [
    {
     "data": {
      "text/plain": [
       "Product                         0\n",
       "Submitted via                   0\n",
       "Company response to consumer    0\n",
       "Timely response?                0\n",
       "Consumer disputed?              0\n",
       "Complaint ID                    0\n",
       "day_diff                        0\n",
       "Year_recived_sin                0\n",
       "Year_recived_cos                0\n",
       "MONTH_recived_sin               0\n",
       "MONTH_recived_cos               0\n",
       "Day_recived_sin                 0\n",
       "Day_recived_cos                 0\n",
       "Year_sent_to_company_sin        0\n",
       "Year_sent_to_company_cos        0\n",
       "MONTH_sent_to_company_sin       0\n",
       "MONTH_sent_to_company_cos       0\n",
       "Day_sent_to_company_sin         0\n",
       "Day_sent_to_company_cos         0\n",
       "Company1                        0\n",
       "Company2                        0\n",
       "Company3                        0\n",
       "State1                          0\n",
       "State2                          0\n",
       "State3                          0\n",
       "dtype: int64"
      ]
     },
     "execution_count": 5,
     "metadata": {},
     "output_type": "execute_result"
    }
   ],
   "source": [
    "consumer_train.isnull().sum()"
   ]
  },
  {
   "cell_type": "code",
   "execution_count": 11,
   "metadata": {
    "scrolled": true
   },
   "outputs": [
    {
     "data": {
      "text/plain": [
       "Product                         0\n",
       "Submitted via                   0\n",
       "Company response to consumer    0\n",
       "Timely response?                0\n",
       "Complaint ID                    0\n",
       "day_diff                        0\n",
       "Year_recived_sin                0\n",
       "Year_recived_cos                0\n",
       "MONTH_recived_sin               0\n",
       "MONTH_recived_cos               0\n",
       "Day_recived_sin                 0\n",
       "Day_recived_cos                 0\n",
       "Year_sent_to_company_sin        0\n",
       "Year_sent_to_company_cos        0\n",
       "MONTH_sent_to_company_sin       0\n",
       "MONTH_sent_to_company_cos       0\n",
       "Day_sent_to_company_sin         0\n",
       "Day_sent_to_company_cos         0\n",
       "Company1                        0\n",
       "Company2                        0\n",
       "Company3                        0\n",
       "State1                          0\n",
       "State2                          0\n",
       "State3                          0\n",
       "dtype: int64"
      ]
     },
     "execution_count": 11,
     "metadata": {},
     "output_type": "execute_result"
    }
   ],
   "source": [
    "consumer_test.isnull().sum()"
   ]
  },
  {
   "cell_type": "code",
   "execution_count": 2,
   "metadata": {},
   "outputs": [],
   "source": [
    "consumer_test['Submitted via']= consumer_test['Submitted via'].fillna('Web')"
   ]
  },
  {
   "cell_type": "code",
   "execution_count": null,
   "metadata": {},
   "outputs": [],
   "source": []
  },
  {
   "cell_type": "code",
   "execution_count": 7,
   "metadata": {
    "scrolled": true
   },
   "outputs": [
    {
     "data": {
      "text/plain": [
       "Product                          object\n",
       "Submitted via                    object\n",
       "Company response to consumer     object\n",
       "Timely response?                 object\n",
       "Consumer disputed?               object\n",
       "Complaint ID                      int64\n",
       "day_diff                          int64\n",
       "Year_recived_sin                float64\n",
       "Year_recived_cos                float64\n",
       "MONTH_recived_sin               float64\n",
       "MONTH_recived_cos               float64\n",
       "Day_recived_sin                 float64\n",
       "Day_recived_cos                 float64\n",
       "Year_sent_to_company_sin        float64\n",
       "Year_sent_to_company_cos        float64\n",
       "MONTH_sent_to_company_sin       float64\n",
       "MONTH_sent_to_company_cos       float64\n",
       "Day_sent_to_company_sin         float64\n",
       "Day_sent_to_company_cos         float64\n",
       "Company1                        float64\n",
       "Company2                        float64\n",
       "Company3                        float64\n",
       "State1                          float64\n",
       "State2                          float64\n",
       "State3                          float64\n",
       "dtype: object"
      ]
     },
     "execution_count": 7,
     "metadata": {},
     "output_type": "execute_result"
    }
   ],
   "source": [
    "consumer_train.dtypes"
   ]
  },
  {
   "cell_type": "code",
   "execution_count": 8,
   "metadata": {
    "scrolled": true
   },
   "outputs": [
    {
     "data": {
      "text/plain": [
       "Product                          object\n",
       "Submitted via                    object\n",
       "Company response to consumer     object\n",
       "Timely response?                 object\n",
       "Complaint ID                      int64\n",
       "day_diff                          int64\n",
       "Year_recived_sin                float64\n",
       "Year_recived_cos                float64\n",
       "MONTH_recived_sin               float64\n",
       "MONTH_recived_cos               float64\n",
       "Day_recived_sin                 float64\n",
       "Day_recived_cos                 float64\n",
       "Year_sent_to_company_sin        float64\n",
       "Year_sent_to_company_cos        float64\n",
       "MONTH_sent_to_company_sin       float64\n",
       "MONTH_sent_to_company_cos       float64\n",
       "Day_sent_to_company_sin         float64\n",
       "Day_sent_to_company_cos         float64\n",
       "Company1                        float64\n",
       "Company2                        float64\n",
       "Company3                        float64\n",
       "State1                          float64\n",
       "State2                          float64\n",
       "State3                          float64\n",
       "dtype: object"
      ]
     },
     "execution_count": 8,
     "metadata": {},
     "output_type": "execute_result"
    }
   ],
   "source": [
    "consumer_test.dtypes"
   ]
  },
  {
   "cell_type": "code",
   "execution_count": 5,
   "metadata": {},
   "outputs": [
    {
     "data": {
      "text/plain": [
       "Mortgage                   156175\n",
       "Debt collection             86544\n",
       "Credit reporting            81115\n",
       "Credit card                 57358\n",
       "Bank account or service     54403\n",
       "Consumer Loan               18599\n",
       "Student loan                14918\n",
       "Money transfers              3349\n",
       "Payday loan                  3219\n",
       "Prepaid card                 2226\n",
       "Other financial service       507\n",
       "Virtual currency                8\n",
       "Name: Product, dtype: int64"
      ]
     },
     "execution_count": 5,
     "metadata": {},
     "output_type": "execute_result"
    }
   ],
   "source": [
    "consumer_train['Product'].value_counts()"
   ]
  },
  {
   "cell_type": "code",
   "execution_count": 6,
   "metadata": {},
   "outputs": [
    {
     "data": {
      "text/plain": [
       "Mortgage                   38904\n",
       "Debt collection            21503\n",
       "Credit reporting           20497\n",
       "Credit card                14255\n",
       "Bank account or service    13691\n",
       "Consumer Loan               4664\n",
       "Student loan                3717\n",
       "Payday loan                  829\n",
       "Money transfers              827\n",
       "Prepaid card                 587\n",
       "Other financial service      128\n",
       "Virtual currency               4\n",
       "Name: Product, dtype: int64"
      ]
     },
     "execution_count": 6,
     "metadata": {},
     "output_type": "execute_result"
    }
   ],
   "source": [
    "consumer_test['Product'].value_counts()"
   ]
  },
  {
   "cell_type": "code",
   "execution_count": 7,
   "metadata": {},
   "outputs": [
    {
     "data": {
      "text/plain": [
       "1    470277\n",
       "0      8144\n",
       "Name: Timely response?, dtype: int64"
      ]
     },
     "execution_count": 7,
     "metadata": {},
     "output_type": "execute_result"
    }
   ],
   "source": [
    "consumer_train['Timely response?'].value_counts()"
   ]
  },
  {
   "cell_type": "code",
   "execution_count": 8,
   "metadata": {},
   "outputs": [
    {
     "data": {
      "text/plain": [
       "Web            78449\n",
       "Referral       22879\n",
       "Phone           8541\n",
       "Postal mail     7900\n",
       "Fax             1756\n",
       "Email             81\n",
       "Name: Submitted via, dtype: int64"
      ]
     },
     "execution_count": 8,
     "metadata": {},
     "output_type": "execute_result"
    }
   ],
   "source": [
    "consumer_test['Submitted via'].value_counts()"
   ]
  },
  {
   "cell_type": "code",
   "execution_count": 9,
   "metadata": {},
   "outputs": [
    {
     "data": {
      "text/plain": [
       "Web            313916\n",
       "Referral        91352\n",
       "Phone           34417\n",
       "Postal mail     31448\n",
       "Fax              7032\n",
       "Email             256\n",
       "Name: Submitted via, dtype: int64"
      ]
     },
     "execution_count": 9,
     "metadata": {},
     "output_type": "execute_result"
    }
   ],
   "source": [
    "consumer_train['Submitted via'].value_counts()"
   ]
  },
  {
   "cell_type": "code",
   "execution_count": 3,
   "metadata": {
    "scrolled": true
   },
   "outputs": [],
   "source": [
    "consumer_train[\"Consumer disputed?\"]=np.where(consumer_train[\"Consumer disputed?\"]==\"Yes\",1,0)\n",
    "pd.to_numeric(consumer_train['Consumer disputed?'])\n",
    "consumer_train['Timely response?']=np.where(consumer_train['Timely response?']=='Yes',1,0)\n",
    "consumer_test['Timely response?']=np.where(consumer_test['Timely response?']=='Yes',1,0)"
   ]
  },
  {
   "cell_type": "code",
   "execution_count": 4,
   "metadata": {},
   "outputs": [
    {
     "data": {
      "text/plain": [
       "0         1\n",
       "1         1\n",
       "2         1\n",
       "3         1\n",
       "4         1\n",
       "         ..\n",
       "119601    1\n",
       "119602    1\n",
       "119603    1\n",
       "119604    1\n",
       "119605    1\n",
       "Name: Timely response?, Length: 119606, dtype: int32"
      ]
     },
     "execution_count": 4,
     "metadata": {},
     "output_type": "execute_result"
    }
   ],
   "source": [
    "pd.to_numeric(consumer_train['Timely response?'])\n",
    "pd.to_numeric(consumer_test['Timely response?'])"
   ]
  },
  {
   "cell_type": "code",
   "execution_count": 5,
   "metadata": {},
   "outputs": [],
   "source": [
    "cat_cols=consumer_train.select_dtypes(['object']).columns"
   ]
  },
  {
   "cell_type": "code",
   "execution_count": 6,
   "metadata": {},
   "outputs": [
    {
     "data": {
      "text/plain": [
       "Index(['Product', 'Submitted via', 'Company response to consumer'], dtype='object')"
      ]
     },
     "execution_count": 6,
     "metadata": {},
     "output_type": "execute_result"
    }
   ],
   "source": [
    "cat_cols"
   ]
  },
  {
   "cell_type": "code",
   "execution_count": 7,
   "metadata": {},
   "outputs": [
    {
     "name": "stdout",
     "output_type": "stream",
     "text": [
      "Product\n",
      "Submitted via\n",
      "Company response to consumer\n"
     ]
    }
   ],
   "source": [
    "for col in cat_cols:\n",
    "    freqs=consumer_train[col].value_counts()\n",
    "    k=freqs.index[freqs>50][:-1]\n",
    "    for cat in k:\n",
    "        name=col+'_'+cat\n",
    "        consumer_train[name]=(consumer_train[col]==cat).astype(int)\n",
    "    del consumer_train[col]\n",
    "    print (col)"
   ]
  },
  {
   "cell_type": "code",
   "execution_count": 8,
   "metadata": {},
   "outputs": [],
   "source": [
    "cat_cols=consumer_test.select_dtypes(['object']).columns"
   ]
  },
  {
   "cell_type": "code",
   "execution_count": 9,
   "metadata": {},
   "outputs": [
    {
     "name": "stdout",
     "output_type": "stream",
     "text": [
      "Product\n",
      "Submitted via\n",
      "Company response to consumer\n"
     ]
    }
   ],
   "source": [
    "for col in cat_cols:\n",
    "    freqs=consumer_test[col].value_counts()\n",
    "    k=freqs.index[freqs>50][:-1]\n",
    "    for cat in k:\n",
    "        name=col+'_'+cat\n",
    "        consumer_test[name]=(consumer_test[col]==cat).astype(int)\n",
    "    del consumer_test[col]\n",
    "    print (col)"
   ]
  },
  {
   "cell_type": "code",
   "execution_count": 10,
   "metadata": {},
   "outputs": [
    {
     "name": "stdout",
     "output_type": "stream",
     "text": [
      "(478421, 42) (119606, 41)\n"
     ]
    }
   ],
   "source": [
    "print(consumer_train.shape,consumer_test.shape)"
   ]
  },
  {
   "cell_type": "code",
   "execution_count": 11,
   "metadata": {},
   "outputs": [],
   "source": [
    "consumer_train=consumer_train.drop(['Complaint ID'],axis=1)\n",
    "consumer_test=consumer_test.drop(['Complaint ID'],axis=1)"
   ]
  },
  {
   "cell_type": "code",
   "execution_count": 12,
   "metadata": {},
   "outputs": [],
   "source": [
    "consumer_train.reset_index(drop=True,inplace=True)\n",
    "consumer_test.reset_index(drop=True,inplace=True)"
   ]
  },
  {
   "cell_type": "code",
   "execution_count": 13,
   "metadata": {},
   "outputs": [],
   "source": [
    "from sklearn.model_selection import train_test_split"
   ]
  },
  {
   "cell_type": "code",
   "execution_count": 14,
   "metadata": {},
   "outputs": [],
   "source": [
    "cn_train, cn_test = train_test_split(consumer_train, test_size = 0.2,random_state=2)"
   ]
  },
  {
   "cell_type": "code",
   "execution_count": 15,
   "metadata": {},
   "outputs": [],
   "source": [
    "x_train=cn_train.drop([\"Consumer disputed?\"],1)\n",
    "y_train=cn_train[\"Consumer disputed?\"]\n",
    "\n",
    "x_test=cn_test.drop([\"Consumer disputed?\"],1)\n",
    "y_test=cn_test[\"Consumer disputed?\"]\n",
    "\n",
    "#x_train.reset_index(drop=True,inplace=True)\n",
    "#y_train.reset_index(drop=True,inplace=True)"
   ]
  },
  {
   "cell_type": "code",
   "execution_count": 16,
   "metadata": {},
   "outputs": [
    {
     "name": "stdout",
     "output_type": "stream",
     "text": [
      "(382736, 40) (382736,)\n"
     ]
    }
   ],
   "source": [
    "print(x_train.shape,y_train.shape)"
   ]
  },
  {
   "cell_type": "code",
   "execution_count": 17,
   "metadata": {},
   "outputs": [],
   "source": [
    "X=x_train\n",
    "y=y_train"
   ]
  },
  {
   "cell_type": "code",
   "execution_count": 19,
   "metadata": {},
   "outputs": [],
   "source": [
    "from sklearn.ensemble import ExtraTreesClassifier\n",
    "import matplotlib.pyplot as plt"
   ]
  },
  {
   "cell_type": "code",
   "execution_count": 19,
   "metadata": {},
   "outputs": [
    {
     "data": {
      "text/plain": [
       "ExtraTreesClassifier(n_jobs=-1)"
      ]
     },
     "execution_count": 19,
     "metadata": {},
     "output_type": "execute_result"
    }
   ],
   "source": [
    "model = ExtraTreesClassifier(n_jobs=-1)\n",
    "model.fit(X,y)"
   ]
  },
  {
   "cell_type": "code",
   "execution_count": 20,
   "metadata": {},
   "outputs": [
    {
     "data": {
      "image/png": "[encoded data removed]",
      "text/plain": [
       "<Figure size 432x288 with 1 Axes>"
      ]
     },
     "metadata": {
      "needs_background": "light"
     },
     "output_type": "display_data"
    }
   ],
   "source": [
    "#plot graph of feature importances for better visualization\n",
    "feat_importances = pd.Series(model.feature_importances_, index=X.columns)\n",
    "feat_importances.nlargest(30).plot(kind='barh')\n",
    "plt.show()"
   ]
  },
  {
   "cell_type": "code",
   "execution_count": 22,
   "metadata": {},
   "outputs": [],
   "source": [
    "%matplotlib inline\n",
    "import warnings\n",
    "warnings.filterwarnings('ignore')\n",
    "import matplotlib.pyplot as plt\n",
    "plt.style.use('ggplot')"
   ]
  },
  {
   "cell_type": "code",
   "execution_count": 21,
   "metadata": {},
   "outputs": [],
   "source": [
    "from skater.core.explanations import Interpretation\n",
    "from skater.model import InMemoryModel\n",
    "from sklearn.ensemble import RandomForestClassifier"
   ]
  },
  {
   "cell_type": "code",
   "execution_count": 24,
   "metadata": {},
   "outputs": [],
   "source": [
    "# rf=RandomForestClassifier(**{'criterion': 'entropy', 'max_depth': 50, 'max_features':30, 'n_estimators': 2500},n_jobs=-1)"
   ]
  },
  {
   "cell_type": "code",
   "execution_count": 26,
   "metadata": {},
   "outputs": [],
   "source": [
    "rf=RandomForestClassifier(n_jobs=-1)"
   ]
  },
  {
   "cell_type": "code",
   "execution_count": 27,
   "metadata": {},
   "outputs": [
    {
     "data": {
      "text/plain": [
       "RandomForestClassifier(n_jobs=-1)"
      ]
     },
     "execution_count": 27,
     "metadata": {},
     "output_type": "execute_result"
    }
   ],
   "source": [
    "rf.fit(X,y)"
   ]
  },
  {
   "cell_type": "code",
   "execution_count": 1,
   "metadata": {},
   "outputs": [
    {
     "ename": "NameError",
     "evalue": "name 'Interpretation' is not defined",
     "output_type": "error",
     "traceback": [
      "\u001b[1;31m---------------------------------------------------------------------------\u001b[0m",
      "\u001b[1;31mNameError\u001b[0m                                 Traceback (most recent call last)",
      "\u001b[1;32m<ipython-input-1-da9470520caf>\u001b[0m in \u001b[0;36m<module>\u001b[1;34m\u001b[0m\n\u001b[1;32m----> 1\u001b[1;33m \u001b[0minterpreter\u001b[0m \u001b[1;33m=\u001b[0m \u001b[0mInterpretation\u001b[0m\u001b[1;33m(\u001b[0m\u001b[0mX\u001b[0m\u001b[1;33m,\u001b[0m \u001b[0mfeature_names\u001b[0m\u001b[1;33m=\u001b[0m\u001b[0mX\u001b[0m\u001b[1;33m.\u001b[0m\u001b[0mcolumns\u001b[0m\u001b[1;33m)\u001b[0m\u001b[1;33m\u001b[0m\u001b[1;33m\u001b[0m\u001b[0m\n\u001b[0m\u001b[0;32m      2\u001b[0m \u001b[0mmodel\u001b[0m \u001b[1;33m=\u001b[0m \u001b[0mInMemoryModel\u001b[0m\u001b[1;33m(\u001b[0m\u001b[0mrf\u001b[0m\u001b[1;33m.\u001b[0m\u001b[0mpredict_proba\u001b[0m\u001b[1;33m,\u001b[0m \u001b[0mexamples\u001b[0m\u001b[1;33m=\u001b[0m\u001b[0mX\u001b[0m\u001b[1;33m)\u001b[0m\u001b[1;33m\u001b[0m\u001b[1;33m\u001b[0m\u001b[0m\n\u001b[0;32m      3\u001b[0m \u001b[0mplots\u001b[0m \u001b[1;33m=\u001b[0m \u001b[0minterpreter\u001b[0m\u001b[1;33m.\u001b[0m\u001b[0mfeature_importance\u001b[0m\u001b[1;33m.\u001b[0m\u001b[0mplot_feature_importance\u001b[0m\u001b[1;33m(\u001b[0m\u001b[0mmodel\u001b[0m\u001b[1;33m,\u001b[0m \u001b[0mascending\u001b[0m\u001b[1;33m=\u001b[0m\u001b[1;32mTrue\u001b[0m\u001b[1;33m)\u001b[0m\u001b[1;33m\u001b[0m\u001b[1;33m\u001b[0m\u001b[0m\n\u001b[0;32m      4\u001b[0m \u001b[0mfigure\u001b[0m\u001b[1;33m(\u001b[0m\u001b[0mfigsize\u001b[0m\u001b[1;33m=\u001b[0m\u001b[1;33m(\u001b[0m\u001b[1;36m1\u001b[0m\u001b[1;33m,\u001b[0m\u001b[1;36m1\u001b[0m\u001b[1;33m)\u001b[0m\u001b[1;33m)\u001b[0m\u001b[1;33m\u001b[0m\u001b[1;33m\u001b[0m\u001b[0m\n",
      "\u001b[1;31mNameError\u001b[0m: name 'Interpretation' is not defined"
     ]
    }
   ],
   "source": [
    "interpreter = Interpretation(X, feature_names=X.columns)\n",
    "model = InMemoryModel(rf.predict_proba, examples=X)\n",
    "plots = interpreter.feature_importance.plot_feature_importance(model, ascending=True)\n",
    "figure(figsize=(1,1))"
   ]
  },
  {
   "cell_type": "code",
   "execution_count": 17,
   "metadata": {},
   "outputs": [],
   "source": [
    "dtree=RandomForestClassifier(n_jobs=-1)"
   ]
  },
  {
   "cell_type": "code",
   "execution_count": 18,
   "metadata": {},
   "outputs": [
    {
     "data": {
      "text/plain": [
       "RandomForestClassifier(n_jobs=-1)"
      ]
     },
     "execution_count": 18,
     "metadata": {},
     "output_type": "execute_result"
    }
   ],
   "source": [
    "dtree.fit(x_train,y_train)"
   ]
  },
  {
   "cell_type": "code",
   "execution_count": 19,
   "metadata": {},
   "outputs": [
    {
     "data": {
      "text/plain": [
       "array([0, 1])"
      ]
     },
     "execution_count": 19,
     "metadata": {},
     "output_type": "execute_result"
    }
   ],
   "source": [
    "dtree.classes_"
   ]
  },
  {
   "cell_type": "code",
   "execution_count": 20,
   "metadata": {},
   "outputs": [],
   "source": [
    "from sklearn.metrics import roc_auc_score"
   ]
  },
  {
   "cell_type": "code",
   "execution_count": 21,
   "metadata": {},
   "outputs": [
    {
     "data": {
      "text/plain": [
       "0.9884855357217508"
      ]
     },
     "execution_count": 21,
     "metadata": {},
     "output_type": "execute_result"
    }
   ],
   "source": [
    "dtree.score(x_train,y_train)"
   ]
  },
  {
   "cell_type": "code",
   "execution_count": 22,
   "metadata": {},
   "outputs": [
    {
     "data": {
      "text/plain": [
       "RandomForestClassifier(n_jobs=-1)"
      ]
     },
     "execution_count": 22,
     "metadata": {},
     "output_type": "execute_result"
    }
   ],
   "source": [
    "dtree.fit(x_test,y_test)"
   ]
  },
  {
   "cell_type": "code",
   "execution_count": 23,
   "metadata": {},
   "outputs": [
    {
     "data": {
      "text/plain": [
       "0.9964989287767153"
      ]
     },
     "execution_count": 23,
     "metadata": {},
     "output_type": "execute_result"
    }
   ],
   "source": [
    "dtree.score(x_test,y_test)"
   ]
  },
  {
   "cell_type": "code",
   "execution_count": 24,
   "metadata": {
    "scrolled": true
   },
   "outputs": [
    {
     "data": {
      "text/plain": [
       "ExtraTreesClassifier(n_jobs=-1)"
      ]
     },
     "execution_count": 24,
     "metadata": {},
     "output_type": "execute_result"
    }
   ],
   "source": [
    "rf=ExtraTreesClassifier(n_jobs=-1)\n",
    "rf.fit(x_train,y_train)"
   ]
  },
  {
   "cell_type": "code",
   "execution_count": 25,
   "metadata": {
    "scrolled": true
   },
   "outputs": [
    {
     "data": {
      "text/plain": [
       "0.9885012123238995"
      ]
     },
     "execution_count": 25,
     "metadata": {},
     "output_type": "execute_result"
    }
   ],
   "source": [
    "rf.score(x_train,y_train)"
   ]
  },
  {
   "cell_type": "code",
   "execution_count": 26,
   "metadata": {},
   "outputs": [
    {
     "data": {
      "text/plain": [
       "ExtraTreesClassifier(n_jobs=-1)"
      ]
     },
     "execution_count": 26,
     "metadata": {},
     "output_type": "execute_result"
    }
   ],
   "source": [
    "rf.fit(x_test,y_test)"
   ]
  },
  {
   "cell_type": "code",
   "execution_count": 27,
   "metadata": {},
   "outputs": [
    {
     "data": {
      "text/plain": [
       "0.9965093797355907"
      ]
     },
     "execution_count": 27,
     "metadata": {},
     "output_type": "execute_result"
    }
   ],
   "source": [
    "rf.score(x_test,y_test)"
   ]
  },
  {
   "cell_type": "code",
   "execution_count": 35,
   "metadata": {},
   "outputs": [],
   "source": [
    "from xgboost.sklearn import XGBClassifier"
   ]
  },
  {
   "cell_type": "code",
   "execution_count": 37,
   "metadata": {},
   "outputs": [],
   "source": [
    "XGB=XGBClassifier(objective='binary:logistic')"
   ]
  },
  {
   "cell_type": "code",
   "execution_count": 38,
   "metadata": {},
   "outputs": [
    {
     "data": {
      "text/plain": [
       "XGBClassifier(base_score=0.5, booster='gbtree', colsample_bylevel=1,\n",
       "              colsample_bynode=1, colsample_bytree=1, gamma=0, gpu_id=-1,\n",
       "              importance_type='gain', interaction_constraints='',\n",
       "              learning_rate=0.300000012, max_delta_step=0, max_depth=6,\n",
       "              min_child_weight=1, missing=nan, monotone_constraints='()',\n",
       "              n_estimators=100, n_jobs=0, num_parallel_tree=1, random_state=0,\n",
       "              reg_alpha=0, reg_lambda=1, scale_pos_weight=1, subsample=1,\n",
       "              tree_method='exact', validate_parameters=1, verbosity=None)"
      ]
     },
     "execution_count": 38,
     "metadata": {},
     "output_type": "execute_result"
    }
   ],
   "source": [
    "XGB.fit(x_train,y_train)"
   ]
  },
  {
   "cell_type": "code",
   "execution_count": 40,
   "metadata": {},
   "outputs": [
    {
     "data": {
      "text/plain": [
       "0.795161678023494"
      ]
     },
     "execution_count": 40,
     "metadata": {},
     "output_type": "execute_result"
    }
   ],
   "source": [
    "XGB.score(x_train,y_train)"
   ]
  },
  {
   "cell_type": "code",
   "execution_count": 41,
   "metadata": {},
   "outputs": [
    {
     "data": {
      "text/plain": [
       "XGBClassifier(base_score=0.5, booster='gbtree', colsample_bylevel=1,\n",
       "              colsample_bynode=1, colsample_bytree=1, gamma=0, gpu_id=-1,\n",
       "              importance_type='gain', interaction_constraints='',\n",
       "              learning_rate=0.300000012, max_delta_step=0, max_depth=6,\n",
       "              min_child_weight=1, missing=nan, monotone_constraints='()',\n",
       "              n_estimators=100, n_jobs=0, num_parallel_tree=1, random_state=0,\n",
       "              reg_alpha=0, reg_lambda=1, scale_pos_weight=1, subsample=1,\n",
       "              tree_method='exact', validate_parameters=1, verbosity=None)"
      ]
     },
     "execution_count": 41,
     "metadata": {},
     "output_type": "execute_result"
    }
   ],
   "source": [
    "XGB.fit(x_test,y_test)"
   ]
  },
  {
   "cell_type": "code",
   "execution_count": 42,
   "metadata": {},
   "outputs": [
    {
     "data": {
      "text/plain": [
       "0.8051523227256101"
      ]
     },
     "execution_count": 42,
     "metadata": {},
     "output_type": "execute_result"
    }
   ],
   "source": [
    "XGB.score(x_test,y_test)"
   ]
  },
  {
   "cell_type": "code",
   "execution_count": null,
   "metadata": {},
   "outputs": [],
   "source": [
    "#NN"
   ]
  },
  {
   "cell_type": "code",
   "execution_count": 44,
   "metadata": {},
   "outputs": [],
   "source": [
    "MLP=MLPClassifier()"
   ]
  },
  {
   "cell_type": "code",
   "execution_count": 45,
   "metadata": {},
   "outputs": [
    {
     "data": {
      "text/plain": [
       "MLPClassifier()"
      ]
     },
     "execution_count": 45,
     "metadata": {},
     "output_type": "execute_result"
    }
   ],
   "source": [
    "MLP.fit(x_train,y_train)"
   ]
  },
  {
   "cell_type": "code",
   "execution_count": 46,
   "metadata": {},
   "outputs": [
    {
     "data": {
      "text/plain": [
       "0.5497915011914217"
      ]
     },
     "execution_count": 46,
     "metadata": {},
     "output_type": "execute_result"
    }
   ],
   "source": [
    "MLP.score(x_train,y_train)"
   ]
  },
  {
   "cell_type": "code",
   "execution_count": 47,
   "metadata": {},
   "outputs": [],
   "source": [
    "from sklearn.linear_model import LogisticRegression"
   ]
  },
  {
   "cell_type": "code",
   "execution_count": 50,
   "metadata": {},
   "outputs": [],
   "source": [
    "lr=LogisticRegression(max_iter=5000)"
   ]
  },
  {
   "cell_type": "code",
   "execution_count": 51,
   "metadata": {},
   "outputs": [
    {
     "name": "stderr",
     "output_type": "stream",
     "text": [
      "E:\\ProgramData\\Anaconda3\\envs\\tensorflow\\lib\\site-packages\\sklearn\\linear_model\\_logistic.py:764: ConvergenceWarning: lbfgs failed to converge (status=2):\n",
      "ABNORMAL_TERMINATION_IN_LNSRCH.\n",
      "\n",
      "Increase the number of iterations (max_iter) or scale the data as shown in:\n",
      "    https://scikit-learn.org/stable/modules/preprocessing.html\n",
      "Please also refer to the documentation for alternative solver options:\n",
      "    https://scikit-learn.org/stable/modules/linear_model.html#logistic-regression\n",
      "  extra_warning_msg=_LOGISTIC_SOLVER_CONVERGENCE_MSG)\n"
     ]
    },
    {
     "data": {
      "text/plain": [
       "0.7875506876802809"
      ]
     },
     "execution_count": 51,
     "metadata": {},
     "output_type": "execute_result"
    }
   ],
   "source": [
    "lr.fit(x_train,y_train)\n",
    "lr.score(x_train,y_train)"
   ]
  },
  {
   "cell_type": "code",
   "execution_count": 60,
   "metadata": {},
   "outputs": [
    {
     "data": {
      "text/plain": [
       "(119606, 40)"
      ]
     },
     "execution_count": 60,
     "metadata": {},
     "output_type": "execute_result"
    }
   ],
   "source": [
    "consumer_test.shape"
   ]
  },
  {
   "cell_type": "code",
   "execution_count": 52,
   "metadata": {},
   "outputs": [],
   "source": [
    "p=rf.predict(consumer_test)"
   ]
  },
  {
   "cell_type": "code",
   "execution_count": 55,
   "metadata": {},
   "outputs": [
    {
     "data": {
      "text/plain": [
       "array([0, 0, 0, ..., 0, 0, 0])"
      ]
     },
     "execution_count": 55,
     "metadata": {},
     "output_type": "execute_result"
    }
   ],
   "source": [
    "p"
   ]
  },
  {
   "cell_type": "code",
   "execution_count": 56,
   "metadata": {},
   "outputs": [],
   "source": [
    "temp=pd.read_csv(r\"E:\\Jaison\\Cource Meterials\\Python\\ML\\Data\\Project_1\\Consumer_Complaints_test.csv\")"
   ]
  },
  {
   "cell_type": "code",
   "execution_count": 49,
   "metadata": {},
   "outputs": [
    {
     "data": {
      "text/html": [
       "<div>\n",
       "<style scoped>\n",
       "    .dataframe tbody tr th:only-of-type {\n",
       "        vertical-align: middle;\n",
       "    }\n",
       "\n",
       "    .dataframe tbody tr th {\n",
       "        vertical-align: top;\n",
       "    }\n",
       "\n",
       "    .dataframe thead th {\n",
       "        text-align: right;\n",
       "    }\n",
       "</style>\n",
       "<table border=\"1\" class=\"dataframe\">\n",
       "  <thead>\n",
       "    <tr style=\"text-align: right;\">\n",
       "      <th></th>\n",
       "      <th>Date received</th>\n",
       "      <th>Product</th>\n",
       "      <th>Sub-product</th>\n",
       "      <th>Issue</th>\n",
       "      <th>Sub-issue</th>\n",
       "      <th>Consumer complaint narrative</th>\n",
       "      <th>Company public response</th>\n",
       "      <th>Company</th>\n",
       "      <th>State</th>\n",
       "      <th>ZIP code</th>\n",
       "      <th>Tags</th>\n",
       "      <th>Consumer consent provided?</th>\n",
       "      <th>Submitted via</th>\n",
       "      <th>Date sent to company</th>\n",
       "      <th>Company response to consumer</th>\n",
       "      <th>Timely response?</th>\n",
       "      <th>Complaint ID</th>\n",
       "    </tr>\n",
       "  </thead>\n",
       "  <tbody>\n",
       "    <tr>\n",
       "      <th>0</th>\n",
       "      <td>2014-01-18</td>\n",
       "      <td>Bank account or service</td>\n",
       "      <td>Cashing a check without an account</td>\n",
       "      <td>Deposits and withdrawals</td>\n",
       "      <td>NaN</td>\n",
       "      <td>NaN</td>\n",
       "      <td>NaN</td>\n",
       "      <td>Bank of America</td>\n",
       "      <td>CA</td>\n",
       "      <td>95691</td>\n",
       "      <td>NaN</td>\n",
       "      <td>NaN</td>\n",
       "      <td>Web</td>\n",
       "      <td>2014-01-17</td>\n",
       "      <td>Closed with explanation</td>\n",
       "      <td>Yes</td>\n",
       "      <td>675956</td>\n",
       "    </tr>\n",
       "    <tr>\n",
       "      <th>1</th>\n",
       "      <td>2016-03-31</td>\n",
       "      <td>Debt collection</td>\n",
       "      <td>Credit card</td>\n",
       "      <td>Cont'd attempts collect debt not owed</td>\n",
       "      <td>Debt was paid</td>\n",
       "      <td>NaN</td>\n",
       "      <td>NaN</td>\n",
       "      <td>National Credit Adjusters, LLC</td>\n",
       "      <td>FL</td>\n",
       "      <td>32086</td>\n",
       "      <td>NaN</td>\n",
       "      <td>Consent not provided</td>\n",
       "      <td>Web</td>\n",
       "      <td>2016-03-31</td>\n",
       "      <td>Closed with explanation</td>\n",
       "      <td>Yes</td>\n",
       "      <td>1858795</td>\n",
       "    </tr>\n",
       "    <tr>\n",
       "      <th>2</th>\n",
       "      <td>2012-03-08</td>\n",
       "      <td>Mortgage</td>\n",
       "      <td>Conventional adjustable mortgage (ARM)</td>\n",
       "      <td>Loan servicing, payments, escrow account</td>\n",
       "      <td>NaN</td>\n",
       "      <td>NaN</td>\n",
       "      <td>NaN</td>\n",
       "      <td>Wells Fargo &amp; Company</td>\n",
       "      <td>CA</td>\n",
       "      <td>94618</td>\n",
       "      <td>NaN</td>\n",
       "      <td>NaN</td>\n",
       "      <td>Web</td>\n",
       "      <td>2012-03-09</td>\n",
       "      <td>Closed without relief</td>\n",
       "      <td>Yes</td>\n",
       "      <td>32637</td>\n",
       "    </tr>\n",
       "    <tr>\n",
       "      <th>3</th>\n",
       "      <td>2016-01-07</td>\n",
       "      <td>Credit reporting</td>\n",
       "      <td>NaN</td>\n",
       "      <td>Unable to get credit report/credit score</td>\n",
       "      <td>Problem getting report or credit score</td>\n",
       "      <td>NaN</td>\n",
       "      <td>Company chooses not to provide a public response</td>\n",
       "      <td>TransUnion Intermediate Holdings, Inc.</td>\n",
       "      <td>FL</td>\n",
       "      <td>33584</td>\n",
       "      <td>Older American</td>\n",
       "      <td>NaN</td>\n",
       "      <td>Postal mail</td>\n",
       "      <td>2016-01-12</td>\n",
       "      <td>Closed with non-monetary relief</td>\n",
       "      <td>Yes</td>\n",
       "      <td>1731374</td>\n",
       "    </tr>\n",
       "    <tr>\n",
       "      <th>4</th>\n",
       "      <td>2013-08-23</td>\n",
       "      <td>Mortgage</td>\n",
       "      <td>FHA mortgage</td>\n",
       "      <td>Loan modification,collection,foreclosure</td>\n",
       "      <td>NaN</td>\n",
       "      <td>NaN</td>\n",
       "      <td>NaN</td>\n",
       "      <td>Bank of America</td>\n",
       "      <td>FL</td>\n",
       "      <td>33543</td>\n",
       "      <td>NaN</td>\n",
       "      <td>NaN</td>\n",
       "      <td>Web</td>\n",
       "      <td>2013-08-23</td>\n",
       "      <td>Closed with explanation</td>\n",
       "      <td>Yes</td>\n",
       "      <td>501487</td>\n",
       "    </tr>\n",
       "  </tbody>\n",
       "</table>\n",
       "</div>"
      ],
      "text/plain": [
       "  Date received                  Product  \\\n",
       "0    2014-01-18  Bank account or service   \n",
       "1    2016-03-31          Debt collection   \n",
       "2    2012-03-08                 Mortgage   \n",
       "3    2016-01-07         Credit reporting   \n",
       "4    2013-08-23                 Mortgage   \n",
       "\n",
       "                              Sub-product  \\\n",
       "0      Cashing a check without an account   \n",
       "1                             Credit card   \n",
       "2  Conventional adjustable mortgage (ARM)   \n",
       "3                                     NaN   \n",
       "4                            FHA mortgage   \n",
       "\n",
       "                                      Issue  \\\n",
       "0                  Deposits and withdrawals   \n",
       "1     Cont'd attempts collect debt not owed   \n",
       "2  Loan servicing, payments, escrow account   \n",
       "3  Unable to get credit report/credit score   \n",
       "4  Loan modification,collection,foreclosure   \n",
       "\n",
       "                                Sub-issue Consumer complaint narrative  \\\n",
       "0                                     NaN                          NaN   \n",
       "1                           Debt was paid                          NaN   \n",
       "2                                     NaN                          NaN   \n",
       "3  Problem getting report or credit score                          NaN   \n",
       "4                                     NaN                          NaN   \n",
       "\n",
       "                            Company public response  \\\n",
       "0                                               NaN   \n",
       "1                                               NaN   \n",
       "2                                               NaN   \n",
       "3  Company chooses not to provide a public response   \n",
       "4                                               NaN   \n",
       "\n",
       "                                  Company State ZIP code            Tags  \\\n",
       "0                         Bank of America    CA    95691             NaN   \n",
       "1          National Credit Adjusters, LLC    FL    32086             NaN   \n",
       "2                   Wells Fargo & Company    CA    94618             NaN   \n",
       "3  TransUnion Intermediate Holdings, Inc.    FL    33584  Older American   \n",
       "4                         Bank of America    FL    33543             NaN   \n",
       "\n",
       "  Consumer consent provided? Submitted via Date sent to company  \\\n",
       "0                        NaN           Web           2014-01-17   \n",
       "1       Consent not provided           Web           2016-03-31   \n",
       "2                        NaN           Web           2012-03-09   \n",
       "3                        NaN   Postal mail           2016-01-12   \n",
       "4                        NaN           Web           2013-08-23   \n",
       "\n",
       "      Company response to consumer Timely response?  Complaint ID  \n",
       "0          Closed with explanation              Yes        675956  \n",
       "1          Closed with explanation              Yes       1858795  \n",
       "2            Closed without relief              Yes         32637  \n",
       "3  Closed with non-monetary relief              Yes       1731374  \n",
       "4          Closed with explanation              Yes        501487  "
      ]
     },
     "execution_count": 49,
     "metadata": {},
     "output_type": "execute_result"
    }
   ],
   "source": [
    "temp.head()"
   ]
  },
  {
   "cell_type": "code",
   "execution_count": 57,
   "metadata": {},
   "outputs": [
    {
     "data": {
      "text/plain": [
       "{'pet_id': 0          675956\n",
       " 1         1858795\n",
       " 2           32637\n",
       " 3         1731374\n",
       " 4          501487\n",
       "            ...   \n",
       " 119601     153482\n",
       " 119602    2023523\n",
       " 119603    1413678\n",
       " 119604     732458\n",
       " 119605    1235226\n",
       " Name: Complaint ID, Length: 119606, dtype: int64,\n",
       " 'consumer_complaint': array([0, 0, 0, ..., 0, 0, 0])}"
      ]
     },
     "execution_count": 57,
     "metadata": {},
     "output_type": "execute_result"
    }
   ],
   "source": [
    "submission=pd.DataFrame\n",
    "({\n",
    "    'pet_id': temp['Complaint ID'],\n",
    "    'consumer_complaint':p\n",
    "})"
   ]
  },
  {
   "cell_type": "code",
   "execution_count": 63,
   "metadata": {},
   "outputs": [],
   "source": [
    "df = pd.DataFrame({'pet_id': temp['Complaint ID'],\n",
    "                   'consumer_complaint': p\n",
    "                  })\n",
    "df.to_csv('Consumer.csv',index=False)"
   ]
  },
  {
   "cell_type": "code",
   "execution_count": 58,
   "metadata": {
    "scrolled": true
   },
   "outputs": [
    {
     "ename": "AttributeError",
     "evalue": "'str' object has no attribute 'to_frame'",
     "output_type": "error",
     "traceback": [
      "\u001b[1;31m---------------------------------------------------------------------------\u001b[0m",
      "\u001b[1;31mAttributeError\u001b[0m                            Traceback (most recent call last)",
      "\u001b[1;32m<ipython-input-58-61a4b84e12a8>\u001b[0m in \u001b[0;36m<module>\u001b[1;34m\u001b[0m\n\u001b[1;32m----> 1\u001b[1;33m \u001b[0msubmission\u001b[0m\u001b[1;33m.\u001b[0m\u001b[0mto_csv\u001b[0m\u001b[1;33m(\u001b[0m\u001b[1;34m'pet_adoption.csv'\u001b[0m\u001b[1;33m,\u001b[0m \u001b[0mindex\u001b[0m\u001b[1;33m=\u001b[0m\u001b[1;32mFalse\u001b[0m\u001b[1;33m)\u001b[0m\u001b[1;33m\u001b[0m\u001b[1;33m\u001b[0m\u001b[0m\n\u001b[0m",
      "\u001b[1;32mE:\\ProgramData\\Anaconda3\\envs\\tensorflow\\lib\\site-packages\\pandas\\core\\generic.py\u001b[0m in \u001b[0;36mto_csv\u001b[1;34m(self, path_or_buf, sep, na_rep, float_format, columns, header, index, index_label, mode, encoding, compression, quoting, quotechar, line_terminator, chunksize, date_format, doublequote, escapechar, decimal, errors)\u001b[0m\n\u001b[0;32m   3138\u001b[0m         ...           compression=compression_opts)  # doctest: +SKIP\n\u001b[0;32m   3139\u001b[0m         \"\"\"\n\u001b[1;32m-> 3140\u001b[1;33m         \u001b[0mdf\u001b[0m \u001b[1;33m=\u001b[0m \u001b[0mself\u001b[0m \u001b[1;32mif\u001b[0m \u001b[0misinstance\u001b[0m\u001b[1;33m(\u001b[0m\u001b[0mself\u001b[0m\u001b[1;33m,\u001b[0m \u001b[0mABCDataFrame\u001b[0m\u001b[1;33m)\u001b[0m \u001b[1;32melse\u001b[0m \u001b[0mself\u001b[0m\u001b[1;33m.\u001b[0m\u001b[0mto_frame\u001b[0m\u001b[1;33m(\u001b[0m\u001b[1;33m)\u001b[0m\u001b[1;33m\u001b[0m\u001b[1;33m\u001b[0m\u001b[0m\n\u001b[0m\u001b[0;32m   3141\u001b[0m \u001b[1;33m\u001b[0m\u001b[0m\n\u001b[0;32m   3142\u001b[0m         \u001b[1;32mfrom\u001b[0m \u001b[0mpandas\u001b[0m\u001b[1;33m.\u001b[0m\u001b[0mio\u001b[0m\u001b[1;33m.\u001b[0m\u001b[0mformats\u001b[0m\u001b[1;33m.\u001b[0m\u001b[0mcsvs\u001b[0m \u001b[1;32mimport\u001b[0m \u001b[0mCSVFormatter\u001b[0m\u001b[1;33m\u001b[0m\u001b[1;33m\u001b[0m\u001b[0m\n",
      "\u001b[1;31mAttributeError\u001b[0m: 'str' object has no attribute 'to_frame'"
     ]
    }
   ],
   "source": [
    "submission.to_csv('pet_adoption.csv', index=False)"
   ]
  },
  {
   "cell_type": "code",
   "execution_count": null,
   "metadata": {},
   "outputs": [],
   "source": []
  },
  {
   "cell_type": "code",
   "execution_count": null,
   "metadata": {},
   "outputs": [],
   "source": []
  }
 ],
 "metadata": {
  "kernelspec": {
   "display_name": "Python 3",
   "language": "python",
   "name": "python3"
  },
  "language_info": {
   "codemirror_mode": {
    "name": "ipython",
    "version": 3
   },
   "file_extension": ".py",
   "mimetype": "text/x-python",
   "name": "python",
   "nbconvert_exporter": "python",
   "pygments_lexer": "ipython3",
   "version": "3.7.8"
  }
 },
 "nbformat": 4,
 "nbformat_minor": 2
}
